{
 "cells": [
  {
   "cell_type": "markdown",
   "metadata": {},
   "source": [
    "# Deep Neural Network in NumPy"
   ]
  },
  {
   "cell_type": "code",
   "execution_count": 1,
   "metadata": {
    "collapsed": false,
    "scrolled": true
   },
   "outputs": [],
   "source": [
    "import numpy as np\n",
    "import pandas as pd\n",
    "import matplotlib.pyplot as plt\n",
    "\n",
    "from sklearn import datasets\n",
    "import sklearn as sk\n",
    "from sklearn import preprocessing\n",
    "\n",
    "import abc\n",
    "\n",
    "from IPython.display import Math\n",
    "from IPython.display import Latex\n",
    "import IPython.display as disp\n",
    "\n",
    "import itertools as it\n",
    "import copy\n",
    "\n",
    "%matplotlib inline"
   ]
  },
  {
   "cell_type": "markdown",
   "metadata": {},
   "source": [
    "## Activation functions"
   ]
  },
  {
   "cell_type": "code",
   "execution_count": 21,
   "metadata": {
    "collapsed": false,
    "scrolled": true
   },
   "outputs": [],
   "source": [
    "class Activation(metaclass=abc.ABCMeta):\n",
    "    \n",
    "    @abc.abstractmethod\n",
    "    def function(self, x):\n",
    "        \"\"\"\n",
    "        Implementation of the activation function.\n",
    "        \"\"\"\n",
    "        \n",
    "    @abc.abstractmethod\n",
    "    def derivative(self, x):\n",
    "        \"\"\"\n",
    "        Derivative of the activation function.\n",
    "        \"\"\""
   ]
  },
  {
   "cell_type": "markdown",
   "metadata": {},
   "source": [
    "#### _Sigmoid_"
   ]
  },
  {
   "cell_type": "markdown",
   "metadata": {
    "collapsed": false,
    "scrolled": false
   },
   "source": [
    "\\begin{align}\n",
    "f(x)=\\frac{1}{1+e^{-x}}=\\sigma(x)\\quad\n",
    "f'(x)=\\sigma(x)\\cdot(1-\\sigma(x))=\\frac{e^{-x}}{{(1+e^{-x}})^2}\n",
    "\\end{align}"
   ]
  },
  {
   "cell_type": "code",
   "execution_count": 3,
   "metadata": {
    "collapsed": false,
    "scrolled": true
   },
   "outputs": [],
   "source": [
    "class Sigmoid(Activation):\n",
    "    \n",
    "    def function(self, x):\n",
    "        return 1 / (1 + np.exp(-x))\n",
    "    \n",
    "    def derivative(self, x):\n",
    "        return np.exp(-x)/((1+np.exp(-x))**2)"
   ]
  },
  {
   "cell_type": "code",
   "execution_count": 8,
   "metadata": {
    "collapsed": false,
    "scrolled": true
   },
   "outputs": [
    {
     "data": {
      "text/plain": [
       "[<matplotlib.lines.Line2D at 0x7f982373e080>]"
      ]
     },
     "execution_count": 8,
     "metadata": {},
     "output_type": "execute_result"
    },
    {
     "data": {
      "image/png": "[encoded data removed]",
      "text/plain": [
       "<matplotlib.figure.Figure at 0x7f9829005d30>"
      ]
     },
     "metadata": {},
     "output_type": "display_data"
    }
   ],
   "source": [
    "x = np.linspace(-5, 5, 200)\n",
    "plt.axhline(0, linestyle='dashed')\n",
    "plt.axvline(0, linestyle='dashed')\n",
    "plt.title(\"sigmoid activation\")\n",
    "plt.plot(x,Sigmoid().function(x), color=\"red\")\n",
    "plt.plot(x,Sigmoid().derivative(x), color=\"blue\")"
   ]
  },
  {
   "cell_type": "markdown",
   "metadata": {},
   "source": [
    "#### _ReLU_"
   ]
  },
  {
   "cell_type": "markdown",
   "metadata": {
    "collapsed": false,
    "scrolled": false
   },
   "source": [
    "\\begin{align}\n",
    "f(x)=\\begin{cases}\n",
    "  x, & \\text{if } x > 0, \\\\\n",
    "  0, & \\text{otherwise}.\n",
    "\\end{cases}\\quad\n",
    "f'(x)=\\begin{cases}\n",
    "  1, & \\text{if } x > 0, \\\\\n",
    "  0, & \\text{otherwise}.\n",
    "\\end{cases}\n",
    "\\end{align}"
   ]
  },
  {
   "cell_type": "code",
   "execution_count": 32,
   "metadata": {
    "collapsed": true,
    "scrolled": true
   },
   "outputs": [],
   "source": [
    "class Relu(Activation):\n",
    "    \n",
    "    def function(self, x):\n",
    "        return x * (x > 0)\n",
    "\n",
    "    def derivative(self, x):\n",
    "        return np.array(x * (x > 0) != 0, dtype=\"int\")"
   ]
  },
  {
   "cell_type": "code",
   "execution_count": 115,
   "metadata": {
    "collapsed": false,
    "scrolled": false
   },
   "outputs": [
    {
     "data": {
      "text/plain": [
       "[<matplotlib.lines.Line2D at 0x7fab70be2588>]"
      ]
     },
     "execution_count": 115,
     "metadata": {},
     "output_type": "execute_result"
    },
    {
     "data": {
      "image/png": "[encoded data removed]",
      "text/plain": [
       "<matplotlib.figure.Figure at 0x7fab70d44c88>"
      ]
     },
     "metadata": {},
     "output_type": "display_data"
    }
   ],
   "source": [
    "x = np.linspace(-5, 5, 200)\n",
    "plt.axhline(0, linestyle='dashed')\n",
    "plt.axvline(0, linestyle='dashed')\n",
    "plt.title(\"relu activation\")\n",
    "plt.plot(x,Relu().function(x), color=\"red\")\n",
    "plt.plot(x,Relu().derivative(x), color=\"blue\")"
   ]
  },
  {
   "cell_type": "markdown",
   "metadata": {},
   "source": [
    "#### _Softplus_"
   ]
  },
  {
   "cell_type": "markdown",
   "metadata": {
    "collapsed": false,
    "scrolled": true
   },
   "source": [
    "\\begin{align}\n",
    "f(x)=log(1 + e^x)\n",
    "\\quad\n",
    "f'(x)=\\frac{e^x}{1 + e^x}\n",
    "\\end{align}"
   ]
  },
  {
   "cell_type": "code",
   "execution_count": 7,
   "metadata": {
    "collapsed": true,
    "scrolled": true
   },
   "outputs": [],
   "source": [
    "class Softplus(Activation):\n",
    "    # similar to relu but slower\n",
    "    \n",
    "    def function(self, x):\n",
    "        return np.log(1 + np.exp(x))\n",
    "\n",
    "    def derivative(self, x):\n",
    "        return np.exp(x)/(1 + np.exp(x))"
   ]
  },
  {
   "cell_type": "code",
   "execution_count": 117,
   "metadata": {
    "collapsed": false,
    "scrolled": true
   },
   "outputs": [
    {
     "data": {
      "text/plain": [
       "[<matplotlib.lines.Line2D at 0x7fab70b7e320>]"
      ]
     },
     "execution_count": 117,
     "metadata": {},
     "output_type": "execute_result"
    },
    {
     "data": {
      "image/png": "[encoded data removed]",
      "text/plain": [
       "<matplotlib.figure.Figure at 0x7fab70c7b780>"
      ]
     },
     "metadata": {},
     "output_type": "display_data"
    }
   ],
   "source": [
    "x = np.linspace(-5, 5, 200)\n",
    "plt.axhline(0, linestyle='dashed')\n",
    "plt.axvline(0, linestyle='dashed')\n",
    "plt.title(\"relu activation\")\n",
    "plt.plot(x,Softplus().function(x), color=\"red\")\n",
    "plt.plot(x,Softplus().derivative(x), color=\"blue\")"
   ]
  },
  {
   "cell_type": "markdown",
   "metadata": {
    "collapsed": false
   },
   "source": [
    "#### _Hyperbolic Tangent_"
   ]
  },
  {
   "cell_type": "markdown",
   "metadata": {
    "collapsed": false,
    "scrolled": true
   },
   "source": [
    "\\begin{align}\n",
    "f(x)=\\frac{e^{2x}-1}{e^{2x}+1}\n",
    "\\quad\n",
    "f'(x)=\\frac{4}{{e^{2x}+2+e^{-2x}}}\n",
    "\\end{align}"
   ]
  },
  {
   "cell_type": "code",
   "execution_count": 33,
   "metadata": {
    "collapsed": false,
    "scrolled": true
   },
   "outputs": [],
   "source": [
    "class Tanh(Activation):\n",
    "    \n",
    "    def function(self, x):\n",
    "        return (np.exp(2*x) - 1)/(np.exp(2*x) + 1)\n",
    "\n",
    "    def derivative(self, x):\n",
    "        # hyperbolic secant to the power of 2\n",
    "        return 4/(np.exp(2*x) + 2 + np.exp(-2*x))"
   ]
  },
  {
   "cell_type": "code",
   "execution_count": 46,
   "metadata": {
    "collapsed": false,
    "scrolled": true
   },
   "outputs": [
    {
     "data": {
      "text/plain": [
       "[<matplotlib.lines.Line2D at 0x7f26cc06de48>]"
      ]
     },
     "execution_count": 46,
     "metadata": {},
     "output_type": "execute_result"
    },
    {
     "data": {
      "image/png": "[encoded data removed]",
      "text/plain": [
       "<matplotlib.figure.Figure at 0x7f26cccc99b0>"
      ]
     },
     "metadata": {},
     "output_type": "display_data"
    }
   ],
   "source": [
    "x = np.linspace(-5, 5, 200)\n",
    "plt.axhline(0, linestyle='dashed')\n",
    "plt.axvline(0, linestyle='dashed')\n",
    "plt.title(\"tanh activation\")\n",
    "plt.plot(x,Tanh().function(x), color=\"red\")\n",
    "plt.plot(x,Tanh().derivative(x), color=\"blue\")"
   ]
  },
  {
   "cell_type": "markdown",
   "metadata": {},
   "source": [
    "#### _Softmax_"
   ]
  },
  {
   "cell_type": "markdown",
   "metadata": {
    "collapsed": true
   },
   "source": [
    "\\begin{align}\n",
    "f(x_j)=\\frac{e^{x_j}}{\\sum_i^n{e^{x_i}}}\n",
    "\\quad\n",
    "f'(x_j)=\\begin{cases}\n",
    "  f(x_j)\\cdot (1-f(x_j)) &  j = k, \\\\\n",
    "  -f(x_j)\\cdot f(x_k) & j \\not= k.\n",
    "\\end{cases}\n",
    "\\end{align}"
   ]
  },
  {
   "cell_type": "code",
   "execution_count": 16,
   "metadata": {
    "collapsed": false,
    "scrolled": true
   },
   "outputs": [],
   "source": [
    "class Softmax(Activation):\n",
    "    \n",
    "    def function(self, x):\n",
    "        return np.exp(x)/(np.sum(np.exp(x), axis=1).reshape(x.shape[0], 1))\n",
    "    \n",
    "    def derivative(self, x):\n",
    "        return self.function(x)*(1 - self.function(x)) # ?"
   ]
  },
  {
   "cell_type": "markdown",
   "metadata": {},
   "source": [
    "#### _Linear_"
   ]
  },
  {
   "cell_type": "code",
   "execution_count": 15,
   "metadata": {
    "collapsed": true,
    "scrolled": true
   },
   "outputs": [],
   "source": [
    "class Linear(Activation):\n",
    "    \n",
    "    def function(self, x):\n",
    "        return x\n",
    "\n",
    "    def derivative(self, x):\n",
    "        return 1"
   ]
  },
  {
   "cell_type": "markdown",
   "metadata": {},
   "source": [
    "## Input Pipeline"
   ]
  },
  {
   "cell_type": "code",
   "execution_count": 22,
   "metadata": {
    "collapsed": false,
    "scrolled": true
   },
   "outputs": [],
   "source": [
    "class InputPipeLine:\n",
    "    \n",
    "    def __init__(self, data, input_size, train_split=0.6, valid_split=0.2, batch_size=10):\n",
    "        \"\"\"\n",
    "        data: an array of the training, validation, and test samples, \n",
    "        where each elements consists of an array of inputs (features), \n",
    "        and an array of expected output(s) for the given input\n",
    "        \"\"\"\n",
    "        self.scaler = None\n",
    "        self.data = None\n",
    "        self.size = None\n",
    "        self.actual_batch_size = None\n",
    "        \n",
    "        self.batch_size = batch_size\n",
    "        self.input_size = input_size\n",
    "        \n",
    "        self.train_size = int(len(data)*train_split)\n",
    "        self.valid_size = int(len(data)*valid_split)\n",
    "        self.test_size = len(data)-self.valid_size-self.train_size\n",
    "        \n",
    "        # just in case..\n",
    "        assert self.test_size > 0\n",
    "\n",
    "        self.train, self.valid, self.test = self.separate(data)\n",
    "        self.index = 0\n",
    "    \n",
    "    def separate(self, data):\n",
    "        return (data[:self.train_size], data[self.train_size:self.train_size+self.valid_size],\n",
    "                data[self.train_size+self.valid_size:])\n",
    "            \n",
    "    def next_batch(self):\n",
    "        batch, eoe = self.step()\n",
    "        # inputs are separated from their expected output\n",
    "        # their order must remain the same\n",
    "        return (batch[:,:self.input_size],\n",
    "                batch[:,self.input_size:],\n",
    "                eoe)\n",
    "    \n",
    "    def set_mode(self, mode=\"train\"):\n",
    "        \"\"\"\n",
    "        switching between phases, so the step function doesn't have to know, which is the current state\n",
    "        \"\"\"\n",
    "        if mode == \"train\":\n",
    "            self.data = self.train\n",
    "            self.size = self.train_size\n",
    "            self.actual_batch_size = self.batch_size\n",
    "        elif mode == \"validation\":\n",
    "            self.data = self.valid\n",
    "            self.size = self.valid_size\n",
    "            self.actual_batch_size = self.valid_size\n",
    "        elif mode == \"test\":\n",
    "            self.data = self.test\n",
    "            self.size = self.test_size\n",
    "            self.actual_batch_size = self.test_size\n",
    "            \n",
    "    \n",
    "    def step(self):\n",
    "        # flag value signaling the end of an epoch\n",
    "        eoe = False\n",
    "        if self.index + self.actual_batch_size > self.size:\n",
    "            self.index = 0\n",
    "            # samples are shuffled after each epoch\n",
    "            # IMPORTANT: data will be shuffled and a batch will be returned\n",
    "            # after the final epoch -> eoe has to be checked before calculating result\n",
    "            self.data = sk.utils.shuffle(self.data)\n",
    "            eoe = True\n",
    "        \n",
    "        batch = self.data[self.index:self.index+self.actual_batch_size]\n",
    "        self.index += self.actual_batch_size\n",
    "        \n",
    "        return batch, eoe"
   ]
  },
  {
   "cell_type": "markdown",
   "metadata": {},
   "source": [
    "## Layers"
   ]
  },
  {
   "cell_type": "code",
   "execution_count": 18,
   "metadata": {
    "collapsed": true,
    "scrolled": true
   },
   "outputs": [],
   "source": [
    "class Layer:\n",
    "    \n",
    "    def __init__(self, activation, size):\n",
    "        self.activation = activation\n",
    "        self.activation_value = None\n",
    "        self.value = None\n",
    "        self.size = size\n",
    "        \n",
    "    def forward(self, x):\n",
    "        self.value = x\n",
    "        self.activation_value = self.activation.function(self.value)\n",
    "        return self.activation_value\n",
    "        \n",
    "    def backward(self):\n",
    "        return self.activation.derivative(self.value)\n",
    "    \n",
    "    def isDropout(self):\n",
    "        return False"
   ]
  },
  {
   "cell_type": "markdown",
   "metadata": {},
   "source": [
    "#### _Dropout_\n",
    "\n",
    "A reguralization layer that creates a mask over the neurons, and nullifies each output value with p probability. Dropout prevents overfitting as it combines an exponential amount of network architectures, rendering the ability of the individual neurons to develop co-dependency amongst each other during the training phase significantly lower. The network is forced to learn the data with a different subset of parameters, which means it has to learn a more generalized representation of the data to generate good results.\n",
    "\n",
    "https://arxiv.org/abs/1207.0580\n",
    "\n",
    "Let i be the i-th layer in a feed-forward neural network, x denote the vector output of the (i-1)-th layer, W and b are the weights and biases between the (i-1)-th and i-th layer, and m be a mask that has the same dimensions as x. The multiplication in the (2) is an element-wise product, while the one in (3) is standard matrix multiplication dot product."
   ]
  },
  {
   "cell_type": "markdown",
   "metadata": {
    "collapsed": false,
    "scrolled": true
   },
   "source": [
    "\\begin{align}\n",
    "m^{(i-1)} \\sim Bernoulli(p) \\\\\n",
    "\\tilde{x}^{(i-1)} = x^{(i-1)}\\cdot m^{(i-1)} \\\\\n",
    "s^{(i)}=W^{(i-1)}\\cdot \\tilde{x}^{(i-1)}+b^{(i-1)} \\\\\n",
    "y^{(i)}=f(s^{(i)})\n",
    "\\end{align}"
   ]
  },
  {
   "cell_type": "markdown",
   "metadata": {},
   "source": [
    "By applying the dropout on a layer, we are using only n*p (n is the number of units in a layer) neurons, hence, the expected output is p times the output without dropout. During testing phase or inference, we want to use the full neural network, so we have to scale down the output values in that layer. An alternative way of handling this issue is scaling up the output of the neurons during training phase, by dividing with p, so we don't have to deal with scaling during testing phase."
   ]
  },
  {
   "cell_type": "code",
   "execution_count": 19,
   "metadata": {
    "collapsed": false,
    "scrolled": true
   },
   "outputs": [],
   "source": [
    "class Dropout(Layer):\n",
    "    \n",
    "    def __init__(self, layer, probability):\n",
    "        super().__init__(layer.activation, layer.size)\n",
    "        self.probability = probability\n",
    "        # bernoulli distribution, the probabilty of retaining the neuron\n",
    "        self.mask = np.random.binomial(1, self.probability, size=self.size)\n",
    "        self.p_temp = None\n",
    "        self.mask_temp = None\n",
    "    \n",
    "    def forward(self, x):\n",
    "        # using the \"alternative\" method described above\n",
    "        return np.multiply(Layer.forward(self, x), self.mask)/self.probability\n",
    "        \n",
    "    def backward(self):\n",
    "        \"\"\"\n",
    "        calls the regular backward function of the layer class and also recreates the mask\n",
    "        \"\"\"\n",
    "        # recreate the mask after the backward step\n",
    "        product = np.multiply(Layer.backward(self), self.mask)\n",
    "        self.mask = np.random.binomial(1, self.probability, size=self.size)\n",
    "        return product\n",
    "    \n",
    "    def isDropout(self):\n",
    "        return True\n",
    "    \n",
    "    def replace_mask(self):\n",
    "        \"\"\"\n",
    "        replaces the previously used mask and probability, which were removed by the\n",
    "        remove_mask function\n",
    "        \"\"\"\n",
    "        assert self.p_temp and self.mask_temp is not None\n",
    "        self.probability = self.p_temp\n",
    "        self.mask = copy.copy(self.mask_temp)\n",
    "        \n",
    "    def remove_mask(self):\n",
    "        \"\"\"\n",
    "        removes the mask and probability is set to one, the values are stored and can\n",
    "        be replaced with replace_mask function\n",
    "        \"\"\"\n",
    "        self.p_temp = self.probability\n",
    "        self.probability = 1\n",
    "        self.mask_temp = copy.copy(self.mask)\n",
    "        self.mask = np.ones((1, self.size))"
   ]
  },
  {
   "cell_type": "markdown",
   "metadata": {},
   "source": [
    "#### _Batch normalization_"
   ]
  },
  {
   "cell_type": "code",
   "execution_count": null,
   "metadata": {
    "collapsed": true
   },
   "outputs": [],
   "source": []
  },
  {
   "cell_type": "code",
   "execution_count": 14,
   "metadata": {
    "collapsed": false,
    "scrolled": true
   },
   "outputs": [],
   "source": [
    "class BatchNorm(Layer):\n",
    "    # TODO\n",
    "    pass\n",
    "    "
   ]
  },
  {
   "cell_type": "markdown",
   "metadata": {},
   "source": [
    "## Optimizers"
   ]
  },
  {
   "cell_type": "code",
   "execution_count": 16,
   "metadata": {
    "collapsed": true,
    "scrolled": true
   },
   "outputs": [],
   "source": [
    "class Optimizer(metaclass=abc.ABCMeta):\n",
    "    \n",
    "    @abc.abstractmethod\n",
    "    def modify_weights(self, batch_size, layers, weights, biases, deltas):\n",
    "        \"\"\"\n",
    "        method responsible for modifying the weights of the model\n",
    "        \"\"\""
   ]
  },
  {
   "cell_type": "markdown",
   "metadata": {},
   "source": [
    "#### Stochastic Gradient Descent with Momentum"
   ]
  },
  {
   "cell_type": "code",
   "execution_count": null,
   "metadata": {
    "collapsed": true
   },
   "outputs": [],
   "source": []
  },
  {
   "cell_type": "markdown",
   "metadata": {},
   "source": [
    "\\begin{align}\n",
    "g_t\\gets \\Delta_\\theta f_t(\\theta_{t-1}) \\\\\n",
    "m_t\\gets -\\alpha \\cdot g_t \\\\\n",
    "\\theta_t \\gets \\theta_{t-1} + m_t + \\mu \\cdot m_{t-1}\n",
    "\\end{align}"
   ]
  },
  {
   "cell_type": "code",
   "execution_count": 7,
   "metadata": {
    "collapsed": false,
    "scrolled": true
   },
   "outputs": [],
   "source": [
    "class Sgd(Optimizer):\n",
    "    \n",
    "    def __init__(self, lrate=0.01, momentum=0.9):\n",
    "        self.lrate = lrate\n",
    "        self.momentum = momentum\n",
    "        self.dws = None\n",
    "        self.dbs = None\n",
    "        \n",
    "    def __str__(self):\n",
    "        return \"SGD with Momentum\"\n",
    "\n",
    "    def modify_weights(self, batch_size, layers, weights, biases, deltas):\n",
    "        if self.dws is None:\n",
    "            self.dws = [0]*len(weights)\n",
    "            self.dbs = [0]*len(weights)\n",
    "            \n",
    "        for index in range(len(deltas)):\n",
    "            delta = np.atleast_2d(deltas[index])\n",
    "            \n",
    "            dw = (-self.lrate*np.dot(layers[index].activation_value.T, delta)\n",
    "                  /batch_size + self.momentum*self.dws[index])\n",
    "            self.dws[index] = dw\n",
    "            \n",
    "            \n",
    "            db = np.sum(-self.lrate*delta/batch_size, axis=0) + self.momentum*self.dbs[index]\n",
    "            self.dbs[index] = db\n",
    "            \n",
    "            weights[index] += dw\n",
    "            biases[index] += db"
   ]
  },
  {
   "cell_type": "markdown",
   "metadata": {},
   "source": [
    "#### Adaptive Subgradient"
   ]
  },
  {
   "cell_type": "code",
   "execution_count": null,
   "metadata": {
    "collapsed": true
   },
   "outputs": [],
   "source": []
  },
  {
   "cell_type": "markdown",
   "metadata": {},
   "source": [
    "\\begin{align}\n",
    "g_t\\gets \\Delta_\\theta f_t(\\theta_{t-1}) \\\\\n",
    "v_t\\gets  v_{t-1}+ g_t^2 \\\\\n",
    "\\theta_t \\gets \\theta_{t-1}-\\frac{\\alpha\\cdot g_t}{\\sqrt{v_t}+\\epsilon}\n",
    "\\end{align}"
   ]
  },
  {
   "cell_type": "code",
   "execution_count": 8,
   "metadata": {
    "collapsed": true,
    "scrolled": true
   },
   "outputs": [],
   "source": [
    "class Adagrad(Optimizer):\n",
    "    \n",
    "    def __init__(self, lrate=0.01, epsilon=10e-4):\n",
    "        self.lrate = lrate\n",
    "        self.epsilon = epsilon\n",
    "        self.vws = None\n",
    "        self.vbs = None\n",
    "    \n",
    "    def __str__(self):\n",
    "        return \"Adagrad\"\n",
    "    \n",
    "    def modify_weights(self, batch_size, layers, weights, biases, deltas):\n",
    "        if self.vws is None:\n",
    "            self.vws = [0]*len(weights)\n",
    "            self.vbs = [0]*len(weights)\n",
    "            \n",
    "        for index in range(len(deltas)):\n",
    "            delta = np.atleast_2d(deltas[index])\n",
    "            \n",
    "            dw = np.dot(layers[index].activation_value.T, delta)/batch_size\n",
    "            vw = self.vws[index] + dw**2\n",
    "            self.vws[index] = walpha\n",
    "            \n",
    "            db = np.sum(delta, axis=0)/batch_size\n",
    "            vb = self.vbs[index] + db**2\n",
    "            self.vbs[index] = balpha\n",
    "            \n",
    "            weights[index] += (-self.lrate*dw/(vw**(1/2)+self.epsilon))\n",
    "            biases[index] += (-self.lrate*db/(vb**(1/2)+self.epsilon))"
   ]
  },
  {
   "cell_type": "markdown",
   "metadata": {},
   "source": [
    "#### RMSProp"
   ]
  },
  {
   "cell_type": "code",
   "execution_count": null,
   "metadata": {
    "collapsed": true
   },
   "outputs": [],
   "source": []
  },
  {
   "cell_type": "markdown",
   "metadata": {},
   "source": [
    "\\begin{align}\n",
    "g_t\\gets \\Delta_\\theta f_t(\\theta_{t-1}) \\\\\n",
    "v_t\\gets  \\lambda\\cdot v_{t-1}+ (1-\\lambda)\\cdot g_t^2 \\\\\n",
    "\\theta_t \\gets \\theta_{t-1}-\\frac{\\alpha\\cdot g_t}{\\sqrt{v_t}+\\epsilon}\n",
    "\\end{align}"
   ]
  },
  {
   "cell_type": "code",
   "execution_count": 9,
   "metadata": {
    "collapsed": false,
    "scrolled": true
   },
   "outputs": [],
   "source": [
    "class Rmsprop(Optimizer):\n",
    "    \n",
    "    def __init__(self, lrate=0.01, lmbda=0.9, epsilon=10e-4):\n",
    "        self.lrate = lrate\n",
    "        self.lmbda = lmbda\n",
    "        self.epsilon = epsilon\n",
    "        self.vws = None\n",
    "        self.vbs = None\n",
    "        \n",
    "    def __str__(self):\n",
    "        return \"RMSProp\"\n",
    "    \n",
    "    def modify_weights(self, batch_size, layers, weights, biases, deltas):\n",
    "        if self.vws is None:\n",
    "            self.vws = [0]*len(weights)\n",
    "            self.vbs = [0]*len(weights)\n",
    "            \n",
    "        for index in range(len(deltas)):\n",
    "            delta = np.atleast_2d(deltas[index])\n",
    "            \n",
    "            dw = np.dot(layers[index].activation_value.T, delta)/batch_size\n",
    "            vw = self.lmbda*self.vws[index] + (1-self.lmbda)*dw**2\n",
    "            self.vws[index] = vw\n",
    "            \n",
    "            db = np.sum(delta, axis=0)/batch_size\n",
    "            vb = self.lmbda*self.vbs[index] + (1-self.lmbda)*db**2\n",
    "            self.vbs[index] = vb\n",
    "            \n",
    "            weights[index] += (-self.lrate*dw/(vw**(1/2)+self.epsilon))\n",
    "            biases[index] += (-self.lrate*db/(vb**(1/2)+self.epsilon))"
   ]
  },
  {
   "cell_type": "markdown",
   "metadata": {},
   "source": [
    "#### ADAM"
   ]
  },
  {
   "cell_type": "markdown",
   "metadata": {},
   "source": [
    "Adam is a method, that is designed to combine the AdaGrad and RMSProp algorithms. It updates exponential moving averages of the gradient (m) and the squared gradient (v) where the (beta) hyperparamters control the exponential decay of these moving averages.\n",
    "\n",
    "https://arxiv.org/abs/1412.6980"
   ]
  },
  {
   "cell_type": "markdown",
   "metadata": {
    "collapsed": false,
    "scrolled": true
   },
   "source": [
    "\\begin{align}\n",
    "t\\gets t+1 \\\\\n",
    "g_t\\gets \\Delta_\\theta f_t(\\theta_{t-1}) \\\\\n",
    "m_t\\gets \\beta_1\\cdot m_{t-1}+(1-\\beta_1)\\cdot g_t \\\\\n",
    "v_t\\gets \\beta_2\\cdot v_{t-1}+(1-\\beta_2)\\cdot g_t^2 \\\\\n",
    "\\bar{m_t}\\gets \\frac{m_t}{1-\\beta_1^t} \\\\\n",
    "\\bar{v_t}\\gets \\frac{v_t}{1-\\beta_2^t} \\\\\n",
    "\\theta_t \\gets \\theta_{t-1}-\\frac{\\alpha\\cdot \\bar{m_t}}{\\sqrt{\\bar{v_t}}+\\epsilon}\n",
    "\\end{align}"
   ]
  },
  {
   "cell_type": "markdown",
   "metadata": {},
   "source": [
    "More efficient implementation would be to change the last 3 lines to the following:"
   ]
  },
  {
   "cell_type": "markdown",
   "metadata": {},
   "source": [
    "\\begin{align}\n",
    "\\alpha_t = \\alpha \\cdot \\frac{\\sqrt{1-\\beta_2^2}}{(1-\\beta_1^2)} \\\\\n",
    "\\theta_t \\gets \\theta_{t-1}-\\frac{\\alpha_t\\cdot \\bar{m_t}}{\\sqrt{\\bar{v_t}}+\\epsilon}\n",
    "\\end{align}"
   ]
  },
  {
   "cell_type": "code",
   "execution_count": 10,
   "metadata": {
    "collapsed": false,
    "scrolled": true
   },
   "outputs": [],
   "source": [
    "class Adam(Optimizer):\n",
    "    \n",
    "    def __init__(self, lrate=0.01, beta1=0.9, beta2=0.999, epsilon=10e-8):\n",
    "        self.lrate = lrate\n",
    "        self.beta1 = beta1\n",
    "        self.beta2 = beta2\n",
    "        self.epsilon = epsilon\n",
    "        self.mws = None\n",
    "        self.mbs = None\n",
    "        self.vws = None\n",
    "        self.vbs = None\n",
    "        self.t = 0\n",
    "        \n",
    "    def __str__(self):\n",
    "        return \"ADAM\"\n",
    "    \n",
    "    def modify_weights(self, batch_size, layers, weights, biases, deltas):\n",
    "        if self.mws is None:\n",
    "            self.mws = [0]*len(weights)\n",
    "            self.mbs = [0]*len(weights)\n",
    "            self.vws = [0]*len(weights)\n",
    "            self.vbs = [0]*len(weights)\n",
    "            \n",
    "        self.t += 1\n",
    "        for index in range(len(deltas)):\n",
    "            delta = np.atleast_2d(deltas[index])\n",
    "            \n",
    "            dw = np.dot(layers[index].activation_value.T, delta)/batch_size\n",
    "            mw = self.beta1*self.mws[index] + (1-self.beta1)*dw\n",
    "            vw = self.beta2*self.vws[index] + (1-self.beta2)*dw**2\n",
    "            mw_h = mw/(1-self.beta1**self.t)\n",
    "            vw_h = vw/(1-self.beta2**self.t)\n",
    "            self.mws[index] = mw\n",
    "            self.vws[index] = vw\n",
    "            \n",
    "            db = np.sum(delta, axis=0)/batch_size\n",
    "            mb = self.beta1*self.mbs[index] + (1-self.beta1)*db\n",
    "            vb = self.beta2*self.vbs[index] + (1-self.beta2)*db**2\n",
    "            mb_h = mb/(1-self.beta1**self.t)\n",
    "            vb_h = vb/(1-self.beta2**self.t)\n",
    "            self.mbs[index] = mb\n",
    "            self.vbs[index] = vb\n",
    "            \n",
    "            weights[index] += (-self.lrate*mw_h/(vw_h**(1/2)+self.epsilon))\n",
    "            biases[index] += (-self.lrate*mb_h/(vb_h**(1/2)+self.epsilon))"
   ]
  },
  {
   "cell_type": "markdown",
   "metadata": {},
   "source": [
    "## Error"
   ]
  },
  {
   "cell_type": "code",
   "execution_count": 20,
   "metadata": {
    "collapsed": false,
    "scrolled": true
   },
   "outputs": [],
   "source": [
    "class Error(metaclass=abc.ABCMeta):\n",
    "    \n",
    "    @abc.abstractmethod\n",
    "    def function(self, target, pred):\n",
    "        \"\"\"\n",
    "        Implementation of the error function.\n",
    "        \"\"\"\n",
    "        \n",
    "    @abc.abstractmethod\n",
    "    def derivative(self, target, pred):\n",
    "        \"\"\"\n",
    "        Derivative of the error function.\n",
    "        \"\"\""
   ]
  },
  {
   "cell_type": "markdown",
   "metadata": {},
   "source": [
    "#### Mean squared error"
   ]
  },
  {
   "cell_type": "markdown",
   "metadata": {},
   "source": [
    "\\begin{align}\n",
    "E=\\sum_i^n{(y_i-\\hat{y_i})^2}\n",
    "\\end{align}"
   ]
  },
  {
   "cell_type": "code",
   "execution_count": 14,
   "metadata": {
    "collapsed": false,
    "scrolled": true
   },
   "outputs": [],
   "source": [
    "class Mse(Error):\n",
    "    \n",
    "    def __str__(self):\n",
    "        return \"Mean Squared Error\"\n",
    "    \n",
    "    def function(self, target, pred):\n",
    "        return (target-pred)**2\n",
    "    \n",
    "    def derivative(self, target, pred):\n",
    "        return 2*(pred - target)"
   ]
  },
  {
   "cell_type": "markdown",
   "metadata": {},
   "source": [
    "Categorical cross entropy and binary cross entropy derivatives are incorrect, and can only be used with softmax or sigmoid activation function on the output layer."
   ]
  },
  {
   "cell_type": "markdown",
   "metadata": {},
   "source": [
    "#### Cross Entropy"
   ]
  },
  {
   "cell_type": "markdown",
   "metadata": {},
   "source": [
    "\\begin{align}\n",
    "E=-\\sum_i^n{y_i\\cdot log_2(\\hat{y_i})}\n",
    "\\end{align}"
   ]
  },
  {
   "cell_type": "code",
   "execution_count": 26,
   "metadata": {
    "collapsed": true,
    "scrolled": true
   },
   "outputs": [],
   "source": [
    "class CrossEntropy(Error):\n",
    "    \n",
    "    def __str__(self):\n",
    "        return \"Categorical Cross Entropy\"\n",
    "    \n",
    "    def function(self, target, pred):\n",
    "        return -target * np.log2(pred)\n",
    "    \n",
    "    def derivative(self, target, pred):\n",
    "        return pred - target"
   ]
  },
  {
   "cell_type": "markdown",
   "metadata": {},
   "source": [
    "#### Binary Cross Entropy"
   ]
  },
  {
   "cell_type": "markdown",
   "metadata": {},
   "source": [
    "\\begin{align}\n",
    "E=-\\sum_i^n{y_i\\cdot log_2(\\hat{y_i})+(1-y_i)\\cdot log_2(1-\\hat{y_i})}\n",
    "\\end{align}"
   ]
  },
  {
   "cell_type": "code",
   "execution_count": 27,
   "metadata": {
    "collapsed": true,
    "scrolled": true
   },
   "outputs": [],
   "source": [
    "class BinaryCrossEntropy(Error):\n",
    "    \n",
    "    def __str__(self):\n",
    "        return \"Binary Cross Entropy\"\n",
    "    \n",
    "    def function(self, target, pred):\n",
    "        return -(target*np.log2(pred) + (1 - target)*np.log2(1 - pred))\n",
    "    \n",
    "    def derivative(self, target, pred):\n",
    "        return pred - target"
   ]
  },
  {
   "cell_type": "markdown",
   "metadata": {},
   "source": [
    "## Model"
   ]
  },
  {
   "cell_type": "code",
   "execution_count": 15,
   "metadata": {
    "collapsed": false,
    "scrolled": true
   },
   "outputs": [],
   "source": [
    "class Dnn:\n",
    "    \n",
    "    def __init__(self, layers, input_pipe, scaler, error=Mse()):\n",
    "        self.layers = layers\n",
    "        self.input_pipe = input_pipe\n",
    "        self.error = error\n",
    "        self.scaler = scaler\n",
    "        # list of the weights and biases\n",
    "        self.weights, self.biases = self._init_weights()\n",
    "        self.optimizer = None\n",
    "        self.log = []\n",
    "        \n",
    "    def _init_weights(self):\n",
    "        weights = []\n",
    "        biases = []\n",
    "        for index in range(len(self.layers)-1):\n",
    "            # xavier/glorot weight initialization\n",
    "            xav_scale = (6/(self.layers[index].size**(1/2)+self.layers[index+1].size**(1/2)))\n",
    "            weights.append(np.random.rand(self.layers[index].size, self.layers[index + 1].size)*xav_scale*2 - xav_scale)\n",
    "            biases.append(np.random.rand(1, self.layers[index + 1].size)*xav_scale*2 - xav_scale)\n",
    "\n",
    "        return weights, biases\n",
    "    \n",
    "    def _flush_log(self):\n",
    "        for weight in self.weights:\n",
    "            self.log.append([np.average(weight), np.max(weight), np.min(weight)])\n",
    "            \n",
    "    def _print_log(self, epochs):\n",
    "        df = pd.DataFrame(np.array(self.log).reshape(int(epochs/10)+2,len(self.weights*3)))\n",
    "        \n",
    "        df.columns = pd.MultiIndex.from_tuples(list(it.product(['Weight Layer {0}'\n",
    "                                                                .format(index+1) for index in range(len(self.weights))],\n",
    "                                                               ['avg', 'max', 'min'])))\n",
    "        \n",
    "        print(\"\\nWEIGHT STATISTICS:\\n\")\n",
    "        disp.display(df)\n",
    "            \n",
    "    def train(self, epochs=100, optimizer=Sgd(), weight_log=True):\n",
    "        self.optimizer = optimizer\n",
    "        \n",
    "        print(\"TRAINING PHASE:\\n\\n>>> Optimizer:\\t{0}\\n>>> Error:\\t{1}\\n>>> Layers:\\t{2}\\n>>> Batch size:\\t{3}\\n\"\n",
    "              .format(self.optimizer, self.error, len(self.layers), self.input_pipe.batch_size))\n",
    "        \n",
    "        self._flush_log()\n",
    "        \n",
    "        for epoch in range(0, epochs+1):\n",
    "            self.input_pipe.set_mode(\"train\")\n",
    "            \n",
    "            train_error = 0\n",
    "            valid_error = 0\n",
    "            \n",
    "            while True:\n",
    "                x, y, eoe = self.input_pipe.next_batch()\n",
    "                if eoe:\n",
    "                    break\n",
    "                self._forward_prop(x)\n",
    "                train_error += self._back_prop(y)\n",
    "                \n",
    "                    \n",
    "            self.input_pipe.set_mode(\"validation\")\n",
    "            x, y, _ = self.input_pipe.next_batch()\n",
    "            \n",
    "            valid_error = (self.error.function(self.scaler(y), self.scaler(self._predict(x))).sum()\n",
    "                           /self.input_pipe.valid_size/self.layers[-1].size)\n",
    "            train_error = (train_error/(self.input_pipe.train_size-(self.input_pipe.train_size%self.input_pipe.batch_size))\n",
    "                           /self.layers[-1].size)\n",
    "            \n",
    "            if epoch % 20 == 0:\n",
    "                print(\">>> Epoch: {0}\\t Train error: {1:.3f}\\t Validation error: {2:.3f}\"\n",
    "                      .format(epoch, train_error, valid_error))\n",
    "                \n",
    "            if epoch % 10 == 0 and weight_log:   \n",
    "                self._flush_log()\n",
    "                \n",
    "        if weight_log:\n",
    "            self._print_log(epochs)\n",
    "        \n",
    "            \n",
    "    def _predict(self, x):\n",
    "        output = self.layers[0].forward(x)\n",
    "        \n",
    "        for index in range(len(self.weights)):\n",
    "            layer = self.layers[index+1]\n",
    "            \n",
    "            # removing dropout mask\n",
    "            if layer.isDropout():\n",
    "                layer.remove_mask()\n",
    "            \n",
    "            output = layer.forward(np.dot(output, self.weights[index]) + self.biases[index])\n",
    "            \n",
    "            # replacing the mask\n",
    "            if layer.isDropout():\n",
    "                layer.replace_mask()\n",
    "        \n",
    "        return output\n",
    "    \n",
    "    def test(self, x=None, target=None, custom_data=False, verbose=1):\n",
    "        # to make a custom prediction both x (inputs) and y (expected outputs) must be given\n",
    "        # TODO: refactor this if-else\n",
    "        if not custom_data:\n",
    "            # otherwise prediction will be made from the test set\n",
    "            self.input_pipe.set_mode(\"test\")\n",
    "            x, target, _ = self.input_pipe.next_batch()\n",
    "            test_error_denominator = self.input_pipe.test_size\n",
    "            preds = self.scaler(self._predict(x))\n",
    "        else:\n",
    "            # assuming there is only one sample\n",
    "            test_error_denominator = x.shape[0]\n",
    "            preds = np.array(self.scaler(self._predict(x)))\n",
    "            \n",
    "        targets = self.scaler(target)\n",
    "        results = np.array(list(zip(x, targets, preds)))\n",
    "        \n",
    "        test_error = self.error.function(targets, preds).sum()/test_error_denominator/self.layers[-1].size\n",
    "        \n",
    "        print((\"\\nTESTING PHASE:\\n(displaying {0}% of the test data)\\n\\n>>> Test error: {1}\\n\")\n",
    "              .format(verbose*100, test_error))\n",
    "        \n",
    "        for index, row  in enumerate(results):\n",
    "            if index > len(results)*verbose:\n",
    "                break\n",
    "            print(\">>> Expected: {0}  Prediction: {1}\\t\".format(row[1],row[2]))\n",
    "            \n",
    "        return results\n",
    "                \n",
    "    def _forward_prop(self, x):\n",
    "        output = self.layers[0].forward(x)\n",
    "        \n",
    "        for index in range(len(self.weights)):\n",
    "            output = self.layers[index+1].forward(np.dot(output, self.weights[index]) + self.biases[index])\n",
    "        \n",
    "    def _back_prop(self, target):\n",
    "        deltas = [None]*len(self.weights)\n",
    "        \n",
    "        # crossent || bincrossent -> softmax, sigmoid\n",
    "        # TODO: refactor this if-else\n",
    "        if ((isinstance(self.error, BinaryCrossEntropy) or isinstance(self.error, CrossEntropy)) and \n",
    "           (isinstance(self.layers[-1].activation, Softmax) or isinstance(self.layers[-1].activation, Sigmoid))):\n",
    "            delta = self.error.derivative(target, self.layers[-1].activation_value)\n",
    "        else:\n",
    "            delta = np.multiply(self.error.derivative(target, \n",
    "                                                      self.layers[-1].activation_value), self.layers[-1].backward())\n",
    "        \n",
    "        deltas[-1] = delta\n",
    "        for index in range(len(deltas)-2, -1,-1):\n",
    "            deltas[index] =  np.multiply(np.dot(deltas[index+1],self.weights[index+1].T), \n",
    "                                         self.layers[index+1].backward())\n",
    "        \n",
    "        self.optimizer.modify_weights(self.input_pipe.batch_size, self.layers, self.weights, self.biases, deltas)\n",
    "        \n",
    "        return self.error.function(self.scaler(target), self.scaler(self.layers[-1].activation_value)).sum()"
   ]
  },
  {
   "cell_type": "markdown",
   "metadata": {},
   "source": [
    "## Examples"
   ]
  },
  {
   "cell_type": "markdown",
   "metadata": {},
   "source": [
    "#### XOR problem"
   ]
  },
  {
   "cell_type": "code",
   "execution_count": 88,
   "metadata": {
    "collapsed": false,
    "scrolled": false
   },
   "outputs": [
    {
     "name": "stdout",
     "output_type": "stream",
     "text": [
      "TRAINING PHASE:\n",
      "\n",
      ">>> Optimizer:\tSGD with Momentum\n",
      ">>> Error:\tMean Squared Error\n",
      ">>> Layers:\t3\n",
      ">>> Batch size:\t20\n",
      "\n",
      ">>> Epoch: 0\t Train error: 0.282\t Validation error: 0.273\n",
      ">>> Epoch: 20\t Train error: 0.027\t Validation error: 0.038\n",
      ">>> Epoch: 40\t Train error: 0.024\t Validation error: 0.035\n",
      ">>> Epoch: 60\t Train error: 0.023\t Validation error: 0.034\n",
      ">>> Epoch: 80\t Train error: 0.023\t Validation error: 0.034\n",
      ">>> Epoch: 100\t Train error: 0.023\t Validation error: 0.034\n",
      "\n",
      "WEIGHT STATISTICS:\n",
      "\n"
     ]
    },
    {
     "data": {
      "text/html": [
       "<div>\n",
       "<table border=\"1\" class=\"dataframe\">\n",
       "  <thead>\n",
       "    <tr>\n",
       "      <th></th>\n",
       "      <th colspan=\"3\" halign=\"left\">Weight Layer 1</th>\n",
       "      <th colspan=\"3\" halign=\"left\">Weight Layer 2</th>\n",
       "    </tr>\n",
       "    <tr>\n",
       "      <th></th>\n",
       "      <th>avg</th>\n",
       "      <th>max</th>\n",
       "      <th>min</th>\n",
       "      <th>avg</th>\n",
       "      <th>max</th>\n",
       "      <th>min</th>\n",
       "    </tr>\n",
       "  </thead>\n",
       "  <tbody>\n",
       "    <tr>\n",
       "      <th>0</th>\n",
       "      <td>-0.114019</td>\n",
       "      <td>1.266008</td>\n",
       "      <td>-1.224903</td>\n",
       "      <td>0.319956</td>\n",
       "      <td>1.071044</td>\n",
       "      <td>-1.321351</td>\n",
       "    </tr>\n",
       "    <tr>\n",
       "      <th>1</th>\n",
       "      <td>-0.120191</td>\n",
       "      <td>1.310211</td>\n",
       "      <td>-1.255232</td>\n",
       "      <td>0.298669</td>\n",
       "      <td>1.110584</td>\n",
       "      <td>-1.425354</td>\n",
       "    </tr>\n",
       "    <tr>\n",
       "      <th>2</th>\n",
       "      <td>-0.228111</td>\n",
       "      <td>1.248269</td>\n",
       "      <td>-1.451573</td>\n",
       "      <td>0.117185</td>\n",
       "      <td>1.477263</td>\n",
       "      <td>-1.692546</td>\n",
       "    </tr>\n",
       "    <tr>\n",
       "      <th>3</th>\n",
       "      <td>-0.236365</td>\n",
       "      <td>1.389325</td>\n",
       "      <td>-1.640699</td>\n",
       "      <td>0.077902</td>\n",
       "      <td>1.747207</td>\n",
       "      <td>-2.170202</td>\n",
       "    </tr>\n",
       "    <tr>\n",
       "      <th>4</th>\n",
       "      <td>-0.241742</td>\n",
       "      <td>1.415792</td>\n",
       "      <td>-1.733644</td>\n",
       "      <td>0.067238</td>\n",
       "      <td>1.868163</td>\n",
       "      <td>-2.364865</td>\n",
       "    </tr>\n",
       "    <tr>\n",
       "      <th>5</th>\n",
       "      <td>-0.245156</td>\n",
       "      <td>1.436173</td>\n",
       "      <td>-1.795315</td>\n",
       "      <td>0.066772</td>\n",
       "      <td>1.947875</td>\n",
       "      <td>-2.473861</td>\n",
       "    </tr>\n",
       "    <tr>\n",
       "      <th>6</th>\n",
       "      <td>-0.247085</td>\n",
       "      <td>1.498470</td>\n",
       "      <td>-1.843814</td>\n",
       "      <td>0.068689</td>\n",
       "      <td>2.005079</td>\n",
       "      <td>-2.546727</td>\n",
       "    </tr>\n",
       "    <tr>\n",
       "      <th>7</th>\n",
       "      <td>-0.248360</td>\n",
       "      <td>1.542565</td>\n",
       "      <td>-1.892879</td>\n",
       "      <td>0.072027</td>\n",
       "      <td>2.047663</td>\n",
       "      <td>-2.600546</td>\n",
       "    </tr>\n",
       "    <tr>\n",
       "      <th>8</th>\n",
       "      <td>-0.249205</td>\n",
       "      <td>1.576889</td>\n",
       "      <td>-1.932646</td>\n",
       "      <td>0.075399</td>\n",
       "      <td>2.080747</td>\n",
       "      <td>-2.643140</td>\n",
       "    </tr>\n",
       "    <tr>\n",
       "      <th>9</th>\n",
       "      <td>-0.250170</td>\n",
       "      <td>1.604127</td>\n",
       "      <td>-1.965580</td>\n",
       "      <td>0.078633</td>\n",
       "      <td>2.106746</td>\n",
       "      <td>-2.678285</td>\n",
       "    </tr>\n",
       "    <tr>\n",
       "      <th>10</th>\n",
       "      <td>-0.251307</td>\n",
       "      <td>1.627005</td>\n",
       "      <td>-1.994782</td>\n",
       "      <td>0.081578</td>\n",
       "      <td>2.128494</td>\n",
       "      <td>-2.708389</td>\n",
       "    </tr>\n",
       "    <tr>\n",
       "      <th>11</th>\n",
       "      <td>-0.251994</td>\n",
       "      <td>1.648359</td>\n",
       "      <td>-2.020234</td>\n",
       "      <td>0.084188</td>\n",
       "      <td>2.148009</td>\n",
       "      <td>-2.733981</td>\n",
       "    </tr>\n",
       "  </tbody>\n",
       "</table>\n",
       "</div>"
      ],
      "text/plain": [
       "   Weight Layer 1                     Weight Layer 2                    \n",
       "              avg       max       min            avg       max       min\n",
       "0       -0.114019  1.266008 -1.224903       0.319956  1.071044 -1.321351\n",
       "1       -0.120191  1.310211 -1.255232       0.298669  1.110584 -1.425354\n",
       "2       -0.228111  1.248269 -1.451573       0.117185  1.477263 -1.692546\n",
       "3       -0.236365  1.389325 -1.640699       0.077902  1.747207 -2.170202\n",
       "4       -0.241742  1.415792 -1.733644       0.067238  1.868163 -2.364865\n",
       "5       -0.245156  1.436173 -1.795315       0.066772  1.947875 -2.473861\n",
       "6       -0.247085  1.498470 -1.843814       0.068689  2.005079 -2.546727\n",
       "7       -0.248360  1.542565 -1.892879       0.072027  2.047663 -2.600546\n",
       "8       -0.249205  1.576889 -1.932646       0.075399  2.080747 -2.643140\n",
       "9       -0.250170  1.604127 -1.965580       0.078633  2.106746 -2.678285\n",
       "10      -0.251307  1.627005 -1.994782       0.081578  2.128494 -2.708389\n",
       "11      -0.251994  1.648359 -2.020234       0.084188  2.148009 -2.733981"
      ]
     },
     "metadata": {},
     "output_type": "display_data"
    },
    {
     "name": "stdout",
     "output_type": "stream",
     "text": [
      "\n",
      "TESTING PHASE:\n",
      "(displaying 1.0% of the test data)\n",
      "\n",
      ">>> Test error: 0.031259455874028126\n",
      "\n",
      ">>> Expected: [1.00000]  Prediction: [0.07583]\t\n",
      ">>> Expected: [0.00000]  Prediction: [0.00006]\t\n",
      ">>> Expected: [1.00000]  Prediction: [0.98952]\t\n",
      ">>> Expected: [1.00000]  Prediction: [0.99756]\t\n",
      ">>> Expected: [0.00000]  Prediction: [0.04125]\t\n",
      ">>> Expected: [0.00000]  Prediction: [0.03280]\t\n",
      ">>> Expected: [1.00000]  Prediction: [0.99995]\t\n",
      ">>> Expected: [0.00000]  Prediction: [0.00001]\t\n",
      ">>> Expected: [0.00000]  Prediction: [0.00041]\t\n",
      ">>> Expected: [0.00000]  Prediction: [0.01739]\t\n",
      ">>> Expected: [0.00000]  Prediction: [0.00087]\t\n"
     ]
    },
    {
     "data": {
      "text/plain": [
       "<matplotlib.collections.PathCollection at 0x7f9820e36240>"
      ]
     },
     "execution_count": 88,
     "metadata": {},
     "output_type": "execute_result"
    },
    {
     "data": {
      "image/png": "[encoded data removed]",
      "text/plain": [
       "<matplotlib.figure.Figure at 0x7f982130ca90>"
      ]
     },
     "metadata": {},
     "output_type": "display_data"
    },
    {
     "data": {
      "image/png": "[encoded data removed]",
      "text/plain": [
       "<matplotlib.figure.Figure at 0x7f9820e8db38>"
      ]
     },
     "metadata": {},
     "output_type": "display_data"
    }
   ],
   "source": [
    "np.set_printoptions(formatter={'float': lambda x: \"{0:0.5f}\".format(x)})\n",
    "np.random.seed(1)\n",
    "\n",
    "nb_samples = 5000\n",
    "samples = np.ones((nb_samples, 3))\n",
    "distance = 2\n",
    "\n",
    "input_size = 2\n",
    "\n",
    "for i in range(0,nb_samples,4):\n",
    "    noise = np.random.normal(0,1,8)\n",
    "    samples[i, :] = [-distance+noise[0],-distance+noise[1], 0]\n",
    "    samples[i+1, :] = [distance+noise[2],-distance+noise[3], 1]\n",
    "    samples[i+2, :] = [-distance+noise[4],distance+noise[5], 1]\n",
    "    samples[i+3, :] = [distance+noise[6],distance+noise[7], 0]\n",
    "\n",
    "fig1=plt.figure()\n",
    "plt.title(\"{0} randomly generated data points.\".format(nb_samples))\n",
    "plt.scatter([element[0] for element in samples],\n",
    "            [element[1] for element in samples],\n",
    "            c=[element[2] for element in samples])\n",
    "\n",
    "scaler = preprocessing.StandardScaler().fit(samples[:int(len(samples)*0.6),:input_size])\n",
    "samples[:,:input_size] = scaler.transform(samples[:,:input_size])\n",
    "\n",
    "input_pipe = InputPipeLine(samples, input_size=input_size, batch_size=20)\n",
    "\n",
    "layers = [Layer(Linear(), size=input_size),\n",
    "          Layer(Relu(), size=10),\n",
    "          Layer(Sigmoid(), size=1)]\n",
    "\n",
    "mlp_object = Dnn(layers=layers, \n",
    "                 input_pipe=input_pipe,\n",
    "                 scaler = lambda x: x,\n",
    "                 error=Mse())\n",
    "\n",
    "mlp_object.train(epochs=100, \n",
    "                 optimizer=Sgd(lrate=0.01))\n",
    "\n",
    "results = mlp_object.test(verbose=0.01)\n",
    "\n",
    "fig2=plt.figure()\n",
    "plt.title(\"Prediction of the model on a subset of the data.\")\n",
    "plt.scatter([element[0][0] for element in results],\n",
    "            [element[0][1] for element in results],\n",
    "            c=[element[2][0] for element in results])\n",
    "     "
   ]
  },
  {
   "cell_type": "markdown",
   "metadata": {},
   "source": [
    "#### Boston house-prices"
   ]
  },
  {
   "cell_type": "code",
   "execution_count": 81,
   "metadata": {
    "collapsed": false,
    "scrolled": false
   },
   "outputs": [
    {
     "data": {
      "text/html": [
       "<div>\n",
       "<table border=\"1\" class=\"dataframe\">\n",
       "  <thead>\n",
       "    <tr style=\"text-align: right;\">\n",
       "      <th></th>\n",
       "      <th>CRIM</th>\n",
       "      <th>ZN</th>\n",
       "      <th>INDUS</th>\n",
       "      <th>CHAS</th>\n",
       "      <th>NOX</th>\n",
       "      <th>RM</th>\n",
       "      <th>AGE</th>\n",
       "      <th>DIS</th>\n",
       "      <th>RAD</th>\n",
       "      <th>TAX</th>\n",
       "      <th>PTRATIO</th>\n",
       "      <th>B</th>\n",
       "      <th>LSTAT</th>\n",
       "      <th>MED</th>\n",
       "    </tr>\n",
       "  </thead>\n",
       "  <tbody>\n",
       "    <tr>\n",
       "      <th>0</th>\n",
       "      <td>0.00632</td>\n",
       "      <td>18.0</td>\n",
       "      <td>2.31</td>\n",
       "      <td>0.0</td>\n",
       "      <td>0.538</td>\n",
       "      <td>6.575</td>\n",
       "      <td>65.2</td>\n",
       "      <td>4.0900</td>\n",
       "      <td>1.0</td>\n",
       "      <td>296.0</td>\n",
       "      <td>15.3</td>\n",
       "      <td>396.90</td>\n",
       "      <td>4.98</td>\n",
       "      <td>24.0</td>\n",
       "    </tr>\n",
       "    <tr>\n",
       "      <th>1</th>\n",
       "      <td>0.02731</td>\n",
       "      <td>0.0</td>\n",
       "      <td>7.07</td>\n",
       "      <td>0.0</td>\n",
       "      <td>0.469</td>\n",
       "      <td>6.421</td>\n",
       "      <td>78.9</td>\n",
       "      <td>4.9671</td>\n",
       "      <td>2.0</td>\n",
       "      <td>242.0</td>\n",
       "      <td>17.8</td>\n",
       "      <td>396.90</td>\n",
       "      <td>9.14</td>\n",
       "      <td>21.6</td>\n",
       "    </tr>\n",
       "    <tr>\n",
       "      <th>2</th>\n",
       "      <td>0.02729</td>\n",
       "      <td>0.0</td>\n",
       "      <td>7.07</td>\n",
       "      <td>0.0</td>\n",
       "      <td>0.469</td>\n",
       "      <td>7.185</td>\n",
       "      <td>61.1</td>\n",
       "      <td>4.9671</td>\n",
       "      <td>2.0</td>\n",
       "      <td>242.0</td>\n",
       "      <td>17.8</td>\n",
       "      <td>392.83</td>\n",
       "      <td>4.03</td>\n",
       "      <td>34.7</td>\n",
       "    </tr>\n",
       "    <tr>\n",
       "      <th>3</th>\n",
       "      <td>0.03237</td>\n",
       "      <td>0.0</td>\n",
       "      <td>2.18</td>\n",
       "      <td>0.0</td>\n",
       "      <td>0.458</td>\n",
       "      <td>6.998</td>\n",
       "      <td>45.8</td>\n",
       "      <td>6.0622</td>\n",
       "      <td>3.0</td>\n",
       "      <td>222.0</td>\n",
       "      <td>18.7</td>\n",
       "      <td>394.63</td>\n",
       "      <td>2.94</td>\n",
       "      <td>33.4</td>\n",
       "    </tr>\n",
       "    <tr>\n",
       "      <th>4</th>\n",
       "      <td>0.06905</td>\n",
       "      <td>0.0</td>\n",
       "      <td>2.18</td>\n",
       "      <td>0.0</td>\n",
       "      <td>0.458</td>\n",
       "      <td>7.147</td>\n",
       "      <td>54.2</td>\n",
       "      <td>6.0622</td>\n",
       "      <td>3.0</td>\n",
       "      <td>222.0</td>\n",
       "      <td>18.7</td>\n",
       "      <td>396.90</td>\n",
       "      <td>5.33</td>\n",
       "      <td>36.2</td>\n",
       "    </tr>\n",
       "  </tbody>\n",
       "</table>\n",
       "</div>"
      ],
      "text/plain": [
       "      CRIM    ZN  INDUS  CHAS    NOX     RM   AGE     DIS  RAD    TAX  \\\n",
       "0  0.00632  18.0   2.31   0.0  0.538  6.575  65.2  4.0900  1.0  296.0   \n",
       "1  0.02731   0.0   7.07   0.0  0.469  6.421  78.9  4.9671  2.0  242.0   \n",
       "2  0.02729   0.0   7.07   0.0  0.469  7.185  61.1  4.9671  2.0  242.0   \n",
       "3  0.03237   0.0   2.18   0.0  0.458  6.998  45.8  6.0622  3.0  222.0   \n",
       "4  0.06905   0.0   2.18   0.0  0.458  7.147  54.2  6.0622  3.0  222.0   \n",
       "\n",
       "   PTRATIO       B  LSTAT   MED  \n",
       "0     15.3  396.90   4.98  24.0  \n",
       "1     17.8  396.90   9.14  21.6  \n",
       "2     17.8  392.83   4.03  34.7  \n",
       "3     18.7  394.63   2.94  33.4  \n",
       "4     18.7  396.90   5.33  36.2  "
      ]
     },
     "metadata": {},
     "output_type": "display_data"
    },
    {
     "data": {
      "text/html": [
       "<div>\n",
       "<table border=\"1\" class=\"dataframe\">\n",
       "  <thead>\n",
       "    <tr style=\"text-align: right;\">\n",
       "      <th></th>\n",
       "      <th>CRIM</th>\n",
       "      <th>ZN</th>\n",
       "      <th>INDUS</th>\n",
       "      <th>CHAS</th>\n",
       "      <th>NOX</th>\n",
       "      <th>RM</th>\n",
       "      <th>AGE</th>\n",
       "      <th>DIS</th>\n",
       "      <th>RAD</th>\n",
       "      <th>TAX</th>\n",
       "      <th>PTRATIO</th>\n",
       "      <th>B</th>\n",
       "      <th>LSTAT</th>\n",
       "      <th>MED</th>\n",
       "    </tr>\n",
       "  </thead>\n",
       "  <tbody>\n",
       "    <tr>\n",
       "      <th>0</th>\n",
       "      <td>-0.6377</td>\n",
       "      <td>0.09</td>\n",
       "      <td>-1.03</td>\n",
       "      <td>-0.3</td>\n",
       "      <td>0.23</td>\n",
       "      <td>0.217</td>\n",
       "      <td>0.1</td>\n",
       "      <td>-0.105</td>\n",
       "      <td>-2.2</td>\n",
       "      <td>-0.24</td>\n",
       "      <td>-1.0</td>\n",
       "      <td>0.4199</td>\n",
       "      <td>-0.92</td>\n",
       "      <td>-0.17</td>\n",
       "    </tr>\n",
       "    <tr>\n",
       "      <th>1</th>\n",
       "      <td>-0.6062</td>\n",
       "      <td>-0.60</td>\n",
       "      <td>-0.28</td>\n",
       "      <td>-0.3</td>\n",
       "      <td>-0.41</td>\n",
       "      <td>-0.002</td>\n",
       "      <td>0.6</td>\n",
       "      <td>0.338</td>\n",
       "      <td>-1.5</td>\n",
       "      <td>-1.02</td>\n",
       "      <td>0.1</td>\n",
       "      <td>0.4199</td>\n",
       "      <td>-0.25</td>\n",
       "      <td>-0.44</td>\n",
       "    </tr>\n",
       "    <tr>\n",
       "      <th>2</th>\n",
       "      <td>-0.6063</td>\n",
       "      <td>-0.60</td>\n",
       "      <td>-0.28</td>\n",
       "      <td>-0.3</td>\n",
       "      <td>-0.41</td>\n",
       "      <td>1.086</td>\n",
       "      <td>-0.0</td>\n",
       "      <td>0.338</td>\n",
       "      <td>-1.5</td>\n",
       "      <td>-1.02</td>\n",
       "      <td>0.1</td>\n",
       "      <td>0.3253</td>\n",
       "      <td>-1.08</td>\n",
       "      <td>1.04</td>\n",
       "    </tr>\n",
       "    <tr>\n",
       "      <th>3</th>\n",
       "      <td>-0.5986</td>\n",
       "      <td>-0.60</td>\n",
       "      <td>-1.05</td>\n",
       "      <td>-0.3</td>\n",
       "      <td>-0.51</td>\n",
       "      <td>0.820</td>\n",
       "      <td>-0.6</td>\n",
       "      <td>0.891</td>\n",
       "      <td>-0.9</td>\n",
       "      <td>-1.31</td>\n",
       "      <td>0.5</td>\n",
       "      <td>0.3671</td>\n",
       "      <td>-1.25</td>\n",
       "      <td>0.90</td>\n",
       "    </tr>\n",
       "    <tr>\n",
       "      <th>4</th>\n",
       "      <td>-0.5437</td>\n",
       "      <td>-0.60</td>\n",
       "      <td>-1.05</td>\n",
       "      <td>-0.3</td>\n",
       "      <td>-0.51</td>\n",
       "      <td>1.032</td>\n",
       "      <td>-0.3</td>\n",
       "      <td>0.891</td>\n",
       "      <td>-0.9</td>\n",
       "      <td>-1.31</td>\n",
       "      <td>0.5</td>\n",
       "      <td>0.4199</td>\n",
       "      <td>-0.87</td>\n",
       "      <td>1.21</td>\n",
       "    </tr>\n",
       "  </tbody>\n",
       "</table>\n",
       "</div>"
      ],
      "text/plain": [
       "     CRIM    ZN  INDUS  CHAS   NOX     RM  AGE    DIS  RAD   TAX  PTRATIO  \\\n",
       "0 -0.6377  0.09  -1.03  -0.3  0.23  0.217  0.1 -0.105 -2.2 -0.24     -1.0   \n",
       "1 -0.6062 -0.60  -0.28  -0.3 -0.41 -0.002  0.6  0.338 -1.5 -1.02      0.1   \n",
       "2 -0.6063 -0.60  -0.28  -0.3 -0.41  1.086 -0.0  0.338 -1.5 -1.02      0.1   \n",
       "3 -0.5986 -0.60  -1.05  -0.3 -0.51  0.820 -0.6  0.891 -0.9 -1.31      0.5   \n",
       "4 -0.5437 -0.60  -1.05  -0.3 -0.51  1.032 -0.3  0.891 -0.9 -1.31      0.5   \n",
       "\n",
       "        B  LSTAT   MED  \n",
       "0  0.4199  -0.92 -0.17  \n",
       "1  0.4199  -0.25 -0.44  \n",
       "2  0.3253  -1.08  1.04  \n",
       "3  0.3671  -1.25  0.90  \n",
       "4  0.4199  -0.87  1.21  "
      ]
     },
     "metadata": {},
     "output_type": "display_data"
    }
   ],
   "source": [
    "boston = datasets.load_boston()\n",
    "\n",
    "features = len(boston['data'][0])\n",
    "nb_samples = len(boston['data'])\n",
    "\n",
    "samples = np.ones((nb_samples, features+1))\n",
    "\n",
    "samples[:,:features] = boston['data'][:,:]\n",
    "samples[:,-1] = boston['target'][:]\n",
    "\n",
    "scaler = preprocessing.StandardScaler().fit(samples[:int(0.6*len(samples))])\n",
    "\n",
    "data = scaler.transform(samples)\n",
    "\n",
    "bostondata = pd.DataFrame(samples,columns=['CRIM','ZN','INDUS','CHAS','NOX','RM','AGE','DIS','RAD','TAX','PTRATIO','B','LSTAT','MED'])\n",
    "\n",
    "\n",
    "scaled_bostondata = pd.DataFrame(data,columns=['CRIM','ZN','INDUS','CHAS','NOX','RM','AGE','DIS','RAD','TAX','PTRATIO','B','LSTAT','MED'])\n",
    "\n",
    "disp.display(bostondata.head())\n",
    "disp.display(scaled_bostondata.head().round({'CRIM':4,'ZN':2,'INDUS':2,'CHAS':1,'NOX':2,'RM':3,'AGE':1,'DIS':3,'RAD':1,'TAX':2,'PTRATIO':2,'B':4,'LSTAT':2,'MED':2}))"
   ]
  },
  {
   "cell_type": "code",
   "execution_count": 83,
   "metadata": {
    "collapsed": false,
    "scrolled": false
   },
   "outputs": [
    {
     "name": "stdout",
     "output_type": "stream",
     "text": [
      "TRAINING PHASE:\n",
      "\n",
      ">>> Optimizer:\tADAM\n",
      ">>> Error:\tMean Squared Error\n",
      ">>> Layers:\t4\n",
      ">>> Batch size:\t50\n",
      "\n",
      ">>> Epoch: 0\t Train error: 147.490\t Validation error: 197.991\n",
      ">>> Epoch: 20\t Train error: 41.691\t Validation error: 172.882\n",
      ">>> Epoch: 40\t Train error: 22.359\t Validation error: 135.492\n",
      ">>> Epoch: 60\t Train error: 14.722\t Validation error: 119.266\n",
      ">>> Epoch: 80\t Train error: 11.255\t Validation error: 118.270\n",
      ">>> Epoch: 100\t Train error: 8.853\t Validation error: 122.758\n",
      ">>> Epoch: 120\t Train error: 7.356\t Validation error: 130.861\n",
      ">>> Epoch: 140\t Train error: 6.389\t Validation error: 142.660\n",
      ">>> Epoch: 160\t Train error: 5.631\t Validation error: 150.693\n",
      ">>> Epoch: 180\t Train error: 5.093\t Validation error: 157.722\n",
      ">>> Epoch: 200\t Train error: 4.657\t Validation error: 161.920\n",
      ">>> Epoch: 220\t Train error: 4.281\t Validation error: 168.273\n",
      ">>> Epoch: 240\t Train error: 3.973\t Validation error: 174.614\n",
      ">>> Epoch: 260\t Train error: 3.705\t Validation error: 181.516\n",
      ">>> Epoch: 280\t Train error: 3.489\t Validation error: 188.785\n",
      ">>> Epoch: 300\t Train error: 3.302\t Validation error: 195.687\n",
      ">>> Epoch: 320\t Train error: 3.134\t Validation error: 199.892\n",
      ">>> Epoch: 340\t Train error: 2.982\t Validation error: 201.809\n",
      ">>> Epoch: 360\t Train error: 2.856\t Validation error: 201.009\n",
      ">>> Epoch: 380\t Train error: 2.740\t Validation error: 199.124\n",
      ">>> Epoch: 400\t Train error: 2.631\t Validation error: 195.414\n",
      ">>> Epoch: 420\t Train error: 2.515\t Validation error: 188.782\n",
      ">>> Epoch: 440\t Train error: 2.406\t Validation error: 181.160\n",
      ">>> Epoch: 460\t Train error: 2.301\t Validation error: 172.855\n",
      ">>> Epoch: 480\t Train error: 2.200\t Validation error: 163.709\n",
      ">>> Epoch: 500\t Train error: 2.106\t Validation error: 152.863\n",
      ">>> Epoch: 520\t Train error: 2.018\t Validation error: 140.545\n",
      ">>> Epoch: 540\t Train error: 1.941\t Validation error: 126.913\n",
      ">>> Epoch: 560\t Train error: 1.867\t Validation error: 115.417\n",
      ">>> Epoch: 580\t Train error: 1.800\t Validation error: 105.717\n",
      ">>> Epoch: 600\t Train error: 1.739\t Validation error: 97.900\n",
      ">>> Epoch: 620\t Train error: 1.674\t Validation error: 91.234\n",
      ">>> Epoch: 640\t Train error: 1.618\t Validation error: 85.532\n",
      ">>> Epoch: 660\t Train error: 1.568\t Validation error: 80.825\n",
      ">>> Epoch: 680\t Train error: 1.519\t Validation error: 76.778\n",
      ">>> Epoch: 700\t Train error: 1.475\t Validation error: 73.034\n",
      ">>> Epoch: 720\t Train error: 1.431\t Validation error: 69.713\n",
      ">>> Epoch: 740\t Train error: 1.389\t Validation error: 66.674\n",
      ">>> Epoch: 760\t Train error: 1.349\t Validation error: 63.773\n",
      ">>> Epoch: 780\t Train error: 1.311\t Validation error: 60.717\n",
      ">>> Epoch: 800\t Train error: 1.272\t Validation error: 57.613\n",
      ">>> Epoch: 820\t Train error: 1.235\t Validation error: 54.816\n",
      ">>> Epoch: 840\t Train error: 1.198\t Validation error: 52.485\n",
      ">>> Epoch: 860\t Train error: 1.162\t Validation error: 51.095\n",
      ">>> Epoch: 880\t Train error: 1.129\t Validation error: 50.210\n",
      ">>> Epoch: 900\t Train error: 1.095\t Validation error: 49.637\n",
      "\n",
      "TESTING PHASE:\n",
      "(displaying 10.0% of the test data)\n",
      "\n",
      ">>> Test error: 54.6320406141577\n",
      "\n",
      ">>> Expected: [16.800]  Prediction: [19.638]\t\n",
      ">>> Expected: [21.800]  Prediction: [20.558]\t\n",
      ">>> Expected: [19.100]  Prediction: [23.002]\t\n",
      ">>> Expected: [20.100]  Prediction: [22.615]\t\n",
      ">>> Expected: [19.700]  Prediction: [17.546]\t\n",
      ">>> Expected: [15.000]  Prediction: [16.385]\t\n",
      ">>> Expected: [19.100]  Prediction: [18.805]\t\n",
      ">>> Expected: [22.400]  Prediction: [35.059]\t\n",
      ">>> Expected: [16.700]  Prediction: [21.658]\t\n",
      ">>> Expected: [10.900]  Prediction: [16.843]\t\n",
      ">>> Expected: [20.600]  Prediction: [21.276]\t\n"
     ]
    }
   ],
   "source": [
    "np.random.seed(1)\n",
    "np.set_printoptions(formatter={'float': lambda x: \"{0:0.3f}\".format(x)})\n",
    "\n",
    "input_pipe = InputPipeLine(data, input_size=13, batch_size=50)\n",
    "\n",
    "mlp_object = Dnn(\n",
    "    [Layer(Linear(), size=13),\n",
    "     Layer(Sigmoid(), size=20),\n",
    "     Layer(Relu(), size=20),\n",
    "     Layer(Linear(), size=1)],\n",
    "    input_pipe,\n",
    "    scaler=lambda x: x*scaler.scale_[-1]+scaler.mean_[-1],\n",
    "    error=Mse())\n",
    "\n",
    "mlp_object.train(epochs=900, \n",
    "                 optimizer=Adam(lrate=0.001), \n",
    "                 weight_log=False)\n",
    "\n",
    "results = mlp_object.test(verbose=0.1)"
   ]
  },
  {
   "cell_type": "markdown",
   "metadata": {},
   "source": [
    "#### MNIST"
   ]
  },
  {
   "cell_type": "code",
   "execution_count": 139,
   "metadata": {
    "collapsed": false
   },
   "outputs": [
    {
     "data": {
      "image/png": "[encoded data removed]",
      "text/plain": [
       "<matplotlib.figure.Figure at 0x7fab71a95d68>"
      ]
     },
     "metadata": {},
     "output_type": "display_data"
    }
   ],
   "source": [
    "digits = datasets.load_digits()\n",
    "\n",
    "figure = plt.figure(figsize=(9, 9))\n",
    "for index in range(9):\n",
    "    figure.add_subplot(3,3,index+1)\n",
    "    plt.imshow(digits['images'][index])"
   ]
  },
  {
   "cell_type": "code",
   "execution_count": 140,
   "metadata": {
    "collapsed": false
   },
   "outputs": [],
   "source": [
    "def toOneHot(x):\n",
    "    onehot = np.zeros((1,10))\n",
    "    onehot[0][x] = 1\n",
    "    return onehot"
   ]
  },
  {
   "cell_type": "code",
   "execution_count": 141,
   "metadata": {
    "collapsed": false,
    "scrolled": false
   },
   "outputs": [
    {
     "name": "stdout",
     "output_type": "stream",
     "text": [
      "TRAINING PHASE:\n",
      "\n",
      ">>> Optimizer:\tADAM\n",
      ">>> Error:\tCategorical Cross Entropy\n",
      ">>> Layers:\t5\n",
      ">>> Batch size:\t20\n",
      "\n",
      ">>> Epoch: 0\t Train error: 0.265\t Validation error: 0.142\n",
      ">>> Epoch: 20\t Train error: 0.048\t Validation error: 0.149\n",
      ">>> Epoch: 40\t Train error: 0.023\t Validation error: 0.104\n",
      ">>> Epoch: 60\t Train error: 0.017\t Validation error: 0.141\n",
      ">>> Epoch: 80\t Train error: 0.012\t Validation error: 0.171\n",
      ">>> Epoch: 100\t Train error: 0.009\t Validation error: 0.140\n",
      "\n",
      "WEIGHT STATISTICS:\n",
      "\n"
     ]
    },
    {
     "data": {
      "text/html": [
       "<div>\n",
       "<table border=\"1\" class=\"dataframe\">\n",
       "  <thead>\n",
       "    <tr>\n",
       "      <th></th>\n",
       "      <th colspan=\"3\" halign=\"left\">Weight Layer 1</th>\n",
       "      <th colspan=\"3\" halign=\"left\">Weight Layer 2</th>\n",
       "      <th colspan=\"3\" halign=\"left\">Weight Layer 3</th>\n",
       "      <th colspan=\"3\" halign=\"left\">Weight Layer 4</th>\n",
       "    </tr>\n",
       "    <tr>\n",
       "      <th></th>\n",
       "      <th>avg</th>\n",
       "      <th>max</th>\n",
       "      <th>min</th>\n",
       "      <th>avg</th>\n",
       "      <th>max</th>\n",
       "      <th>min</th>\n",
       "      <th>avg</th>\n",
       "      <th>max</th>\n",
       "      <th>min</th>\n",
       "      <th>avg</th>\n",
       "      <th>max</th>\n",
       "      <th>min</th>\n",
       "    </tr>\n",
       "  </thead>\n",
       "  <tbody>\n",
       "    <tr>\n",
       "      <th>0</th>\n",
       "      <td>0.000288</td>\n",
       "      <td>0.333251</td>\n",
       "      <td>-0.333269</td>\n",
       "      <td>-0.000024</td>\n",
       "      <td>0.299852</td>\n",
       "      <td>-0.299972</td>\n",
       "      <td>0.006117</td>\n",
       "      <td>0.414452</td>\n",
       "      <td>-0.414433</td>\n",
       "      <td>0.059264</td>\n",
       "      <td>0.772025</td>\n",
       "      <td>-0.784146</td>\n",
       "    </tr>\n",
       "    <tr>\n",
       "      <th>1</th>\n",
       "      <td>-0.001329</td>\n",
       "      <td>0.531215</td>\n",
       "      <td>-0.511753</td>\n",
       "      <td>-0.000520</td>\n",
       "      <td>0.471290</td>\n",
       "      <td>-0.478230</td>\n",
       "      <td>-0.011017</td>\n",
       "      <td>0.518635</td>\n",
       "      <td>-0.533108</td>\n",
       "      <td>0.052104</td>\n",
       "      <td>0.863356</td>\n",
       "      <td>-0.842804</td>\n",
       "    </tr>\n",
       "    <tr>\n",
       "      <th>2</th>\n",
       "      <td>0.000072</td>\n",
       "      <td>0.825991</td>\n",
       "      <td>-0.917711</td>\n",
       "      <td>-0.000915</td>\n",
       "      <td>0.839826</td>\n",
       "      <td>-0.769725</td>\n",
       "      <td>-0.021057</td>\n",
       "      <td>0.844525</td>\n",
       "      <td>-0.683542</td>\n",
       "      <td>0.051050</td>\n",
       "      <td>0.987196</td>\n",
       "      <td>-0.947554</td>\n",
       "    </tr>\n",
       "    <tr>\n",
       "      <th>3</th>\n",
       "      <td>0.001458</td>\n",
       "      <td>1.208146</td>\n",
       "      <td>-1.330073</td>\n",
       "      <td>0.000672</td>\n",
       "      <td>0.881363</td>\n",
       "      <td>-0.931181</td>\n",
       "      <td>-0.029713</td>\n",
       "      <td>0.930124</td>\n",
       "      <td>-0.970922</td>\n",
       "      <td>0.054834</td>\n",
       "      <td>0.799591</td>\n",
       "      <td>-0.841476</td>\n",
       "    </tr>\n",
       "    <tr>\n",
       "      <th>4</th>\n",
       "      <td>0.005361</td>\n",
       "      <td>1.469892</td>\n",
       "      <td>-1.576212</td>\n",
       "      <td>-0.000009</td>\n",
       "      <td>1.099962</td>\n",
       "      <td>-1.127164</td>\n",
       "      <td>-0.036980</td>\n",
       "      <td>1.021596</td>\n",
       "      <td>-0.938774</td>\n",
       "      <td>0.051907</td>\n",
       "      <td>0.830708</td>\n",
       "      <td>-0.891158</td>\n",
       "    </tr>\n",
       "    <tr>\n",
       "      <th>5</th>\n",
       "      <td>-0.007166</td>\n",
       "      <td>1.621556</td>\n",
       "      <td>-1.722267</td>\n",
       "      <td>-0.000322</td>\n",
       "      <td>1.143155</td>\n",
       "      <td>-1.163434</td>\n",
       "      <td>-0.038270</td>\n",
       "      <td>1.050244</td>\n",
       "      <td>-1.076583</td>\n",
       "      <td>0.054526</td>\n",
       "      <td>0.801077</td>\n",
       "      <td>-0.891286</td>\n",
       "    </tr>\n",
       "    <tr>\n",
       "      <th>6</th>\n",
       "      <td>-0.011474</td>\n",
       "      <td>1.713081</td>\n",
       "      <td>-1.872174</td>\n",
       "      <td>0.001661</td>\n",
       "      <td>1.257644</td>\n",
       "      <td>-1.354409</td>\n",
       "      <td>-0.055874</td>\n",
       "      <td>1.082609</td>\n",
       "      <td>-1.208289</td>\n",
       "      <td>0.056358</td>\n",
       "      <td>0.815079</td>\n",
       "      <td>-0.891293</td>\n",
       "    </tr>\n",
       "    <tr>\n",
       "      <th>7</th>\n",
       "      <td>-0.007030</td>\n",
       "      <td>1.832992</td>\n",
       "      <td>-2.007586</td>\n",
       "      <td>0.001126</td>\n",
       "      <td>1.177110</td>\n",
       "      <td>-1.430265</td>\n",
       "      <td>-0.057409</td>\n",
       "      <td>1.415038</td>\n",
       "      <td>-1.113691</td>\n",
       "      <td>0.060464</td>\n",
       "      <td>0.858646</td>\n",
       "      <td>-1.010986</td>\n",
       "    </tr>\n",
       "    <tr>\n",
       "      <th>8</th>\n",
       "      <td>-0.011785</td>\n",
       "      <td>2.110338</td>\n",
       "      <td>-2.256257</td>\n",
       "      <td>0.000870</td>\n",
       "      <td>1.284941</td>\n",
       "      <td>-1.749603</td>\n",
       "      <td>-0.074602</td>\n",
       "      <td>1.185418</td>\n",
       "      <td>-1.123863</td>\n",
       "      <td>0.068633</td>\n",
       "      <td>0.841397</td>\n",
       "      <td>-0.891293</td>\n",
       "    </tr>\n",
       "    <tr>\n",
       "      <th>9</th>\n",
       "      <td>-0.001844</td>\n",
       "      <td>2.129137</td>\n",
       "      <td>-2.241654</td>\n",
       "      <td>0.001942</td>\n",
       "      <td>1.570843</td>\n",
       "      <td>-1.716960</td>\n",
       "      <td>-0.078441</td>\n",
       "      <td>1.266328</td>\n",
       "      <td>-1.103507</td>\n",
       "      <td>0.062983</td>\n",
       "      <td>0.871984</td>\n",
       "      <td>-0.891293</td>\n",
       "    </tr>\n",
       "    <tr>\n",
       "      <th>10</th>\n",
       "      <td>-0.005796</td>\n",
       "      <td>2.272671</td>\n",
       "      <td>-2.569960</td>\n",
       "      <td>0.003993</td>\n",
       "      <td>1.575671</td>\n",
       "      <td>-1.775956</td>\n",
       "      <td>-0.079541</td>\n",
       "      <td>1.286406</td>\n",
       "      <td>-1.133731</td>\n",
       "      <td>0.067902</td>\n",
       "      <td>0.953325</td>\n",
       "      <td>-0.926651</td>\n",
       "    </tr>\n",
       "    <tr>\n",
       "      <th>11</th>\n",
       "      <td>-0.017351</td>\n",
       "      <td>2.431327</td>\n",
       "      <td>-2.754985</td>\n",
       "      <td>0.005107</td>\n",
       "      <td>1.562580</td>\n",
       "      <td>-1.762274</td>\n",
       "      <td>-0.078803</td>\n",
       "      <td>1.357847</td>\n",
       "      <td>-1.195446</td>\n",
       "      <td>0.066274</td>\n",
       "      <td>0.957921</td>\n",
       "      <td>-1.071039</td>\n",
       "    </tr>\n",
       "  </tbody>\n",
       "</table>\n",
       "</div>"
      ],
      "text/plain": [
       "   Weight Layer 1                     Weight Layer 2                      \\\n",
       "              avg       max       min            avg       max       min   \n",
       "0        0.000288  0.333251 -0.333269      -0.000024  0.299852 -0.299972   \n",
       "1       -0.001329  0.531215 -0.511753      -0.000520  0.471290 -0.478230   \n",
       "2        0.000072  0.825991 -0.917711      -0.000915  0.839826 -0.769725   \n",
       "3        0.001458  1.208146 -1.330073       0.000672  0.881363 -0.931181   \n",
       "4        0.005361  1.469892 -1.576212      -0.000009  1.099962 -1.127164   \n",
       "5       -0.007166  1.621556 -1.722267      -0.000322  1.143155 -1.163434   \n",
       "6       -0.011474  1.713081 -1.872174       0.001661  1.257644 -1.354409   \n",
       "7       -0.007030  1.832992 -2.007586       0.001126  1.177110 -1.430265   \n",
       "8       -0.011785  2.110338 -2.256257       0.000870  1.284941 -1.749603   \n",
       "9       -0.001844  2.129137 -2.241654       0.001942  1.570843 -1.716960   \n",
       "10      -0.005796  2.272671 -2.569960       0.003993  1.575671 -1.775956   \n",
       "11      -0.017351  2.431327 -2.754985       0.005107  1.562580 -1.762274   \n",
       "\n",
       "   Weight Layer 3                     Weight Layer 4                      \n",
       "              avg       max       min            avg       max       min  \n",
       "0        0.006117  0.414452 -0.414433       0.059264  0.772025 -0.784146  \n",
       "1       -0.011017  0.518635 -0.533108       0.052104  0.863356 -0.842804  \n",
       "2       -0.021057  0.844525 -0.683542       0.051050  0.987196 -0.947554  \n",
       "3       -0.029713  0.930124 -0.970922       0.054834  0.799591 -0.841476  \n",
       "4       -0.036980  1.021596 -0.938774       0.051907  0.830708 -0.891158  \n",
       "5       -0.038270  1.050244 -1.076583       0.054526  0.801077 -0.891286  \n",
       "6       -0.055874  1.082609 -1.208289       0.056358  0.815079 -0.891293  \n",
       "7       -0.057409  1.415038 -1.113691       0.060464  0.858646 -1.010986  \n",
       "8       -0.074602  1.185418 -1.123863       0.068633  0.841397 -0.891293  \n",
       "9       -0.078441  1.266328 -1.103507       0.062983  0.871984 -0.891293  \n",
       "10      -0.079541  1.286406 -1.133731       0.067902  0.953325 -0.926651  \n",
       "11      -0.078803  1.357847 -1.195446       0.066274  0.957921 -1.071039  "
      ]
     },
     "metadata": {},
     "output_type": "display_data"
    },
    {
     "name": "stdout",
     "output_type": "stream",
     "text": [
      "\n",
      "TESTING PHASE:\n",
      "(displaying 5.0% of the test data)\n",
      "\n",
      ">>> Test error: 0.22013201313032246\n",
      "\n",
      ">>> Expected: [0.000 0.000 0.000 0.000 0.000 0.000 0.000 1.000 0.000 0.000]  Prediction: [0.000 0.000 0.000 0.000 0.754 0.000 0.000 0.242 0.000 0.003]\t\n",
      ">>> Expected: [0.000 1.000 0.000 0.000 0.000 0.000 0.000 0.000 0.000 0.000]  Prediction: [0.000 1.000 0.000 0.000 0.000 0.000 0.000 0.000 0.000 0.000]\t\n",
      ">>> Expected: [0.000 0.000 0.000 0.000 0.000 0.000 0.000 1.000 0.000 0.000]  Prediction: [0.000 0.000 0.000 0.000 0.000 0.000 0.000 1.000 0.000 0.000]\t\n",
      ">>> Expected: [1.000 0.000 0.000 0.000 0.000 0.000 0.000 0.000 0.000 0.000]  Prediction: [1.000 0.000 0.000 0.000 0.000 0.000 0.000 0.000 0.000 0.000]\t\n",
      ">>> Expected: [0.000 0.000 0.000 1.000 0.000 0.000 0.000 0.000 0.000 0.000]  Prediction: [0.000 0.034 0.060 0.328 0.000 0.000 0.001 0.001 0.577 0.001]\t\n",
      ">>> Expected: [0.000 0.000 0.000 0.000 0.000 0.000 1.000 0.000 0.000 0.000]  Prediction: [0.000 0.000 0.000 0.000 0.000 0.000 1.000 0.000 0.000 0.000]\t\n",
      ">>> Expected: [0.000 0.000 0.000 1.000 0.000 0.000 0.000 0.000 0.000 0.000]  Prediction: [0.000 0.000 0.000 1.000 0.000 0.000 0.000 0.000 0.000 0.000]\t\n",
      ">>> Expected: [1.000 0.000 0.000 0.000 0.000 0.000 0.000 0.000 0.000 0.000]  Prediction: [1.000 0.000 0.000 0.000 0.000 0.000 0.000 0.000 0.000 0.000]\t\n",
      ">>> Expected: [0.000 0.000 0.000 0.000 1.000 0.000 0.000 0.000 0.000 0.000]  Prediction: [0.000 0.000 0.000 0.000 1.000 0.000 0.000 0.000 0.000 0.000]\t\n",
      ">>> Expected: [0.000 0.000 0.000 0.000 0.000 0.000 0.000 1.000 0.000 0.000]  Prediction: [0.000 0.000 0.000 0.000 0.000 0.000 0.000 1.000 0.000 0.000]\t\n",
      ">>> Expected: [0.000 0.000 0.000 1.000 0.000 0.000 0.000 0.000 0.000 0.000]  Prediction: [0.000 0.000 0.006 0.989 0.000 0.000 0.000 0.000 0.005 0.000]\t\n",
      ">>> Expected: [0.000 0.000 0.000 0.000 1.000 0.000 0.000 0.000 0.000 0.000]  Prediction: [0.000 0.000 0.000 0.000 1.000 0.000 0.000 0.000 0.000 0.000]\t\n",
      ">>> Expected: [0.000 0.000 0.000 0.000 0.000 0.000 0.000 1.000 0.000 0.000]  Prediction: [0.001 0.000 0.000 0.019 0.000 0.197 0.000 0.774 0.000 0.008]\t\n",
      ">>> Expected: [0.000 0.000 0.000 0.000 0.000 0.000 0.000 1.000 0.000 0.000]  Prediction: [0.000 0.000 0.000 0.000 0.000 0.000 0.000 1.000 0.000 0.000]\t\n",
      ">>> Expected: [0.000 0.000 0.000 0.000 1.000 0.000 0.000 0.000 0.000 0.000]  Prediction: [0.000 0.000 0.000 0.000 1.000 0.000 0.000 0.000 0.000 0.000]\t\n",
      ">>> Expected: [0.000 0.000 0.000 0.000 0.000 0.000 0.000 0.000 1.000 0.000]  Prediction: [0.000 0.000 0.000 0.000 0.000 0.000 0.000 0.000 1.000 0.000]\t\n",
      ">>> Expected: [0.000 1.000 0.000 0.000 0.000 0.000 0.000 0.000 0.000 0.000]  Prediction: [0.000 1.000 0.000 0.000 0.000 0.000 0.000 0.000 0.000 0.000]\t\n",
      ">>> Expected: [0.000 1.000 0.000 0.000 0.000 0.000 0.000 0.000 0.000 0.000]  Prediction: [0.000 0.000 0.000 0.000 0.000 0.000 0.000 0.000 0.000 1.000]\t\n",
      ">>> Expected: [0.000 0.000 0.000 0.000 0.000 0.000 1.000 0.000 0.000 0.000]  Prediction: [0.000 0.002 0.000 0.000 0.051 0.000 0.947 0.000 0.000 0.000]\t\n"
     ]
    }
   ],
   "source": [
    "np.random.seed(1)\n",
    "np.set_printoptions(formatter={'float': lambda x: \"{0:0.3f}\".format(x)})\n",
    "\n",
    "samples = np.ones((digits['data'].shape[0], digits['data'].shape[1]+10))\n",
    "samples[:,:-10] = digits['data']\n",
    "for index in range(digits['data'].shape[0]):\n",
    "    samples[index,-10:] = toOneHot(digits['target'][index])[:]\n",
    "    \n",
    "# scaler = preprocessing.StandardScaler().fit(samples[:int(len(samples*0.6)),:-10])\n",
    "# samples[:,:-10] = scaler.transform(samples[:,:-10])\n",
    "\n",
    "# TODO: overflow if batch size is lower than 20 -> investigate\n",
    "input_pipe = InputPipeLine(samples, input_size=64, batch_size=20)\n",
    "\n",
    "layers = [Layer(Linear(), size=64),\n",
    "          Dropout(Layer(Tanh(), size=100), probability=0.5),\n",
    "          Dropout(Layer(Relu(), size=100), probability=0.5),\n",
    "          Dropout(Layer(Relu(), size=20), probability=0.5),\n",
    "          Layer(Softmax(), size=10)]\n",
    "\n",
    "mlp_object = Dnn(layers,\n",
    "                 input_pipe,\n",
    "                 scaler=lambda x: x,\n",
    "                 error=CrossEntropy())\n",
    "\n",
    "mlp_object.train(epochs=100, optimizer=Adam(lrate=0.01))\n",
    "\n",
    "results = mlp_object.test(verbose=0.05)"
   ]
  },
  {
   "cell_type": "code",
   "execution_count": 142,
   "metadata": {
    "collapsed": false
   },
   "outputs": [
    {
     "name": "stdout",
     "output_type": "stream",
     "text": [
      "\n",
      "TESTING PHASE:\n",
      "(displaying 100% of the test data)\n",
      "\n",
      ">>> Test error: 1.0217164129950881e-05\n",
      "\n",
      ">>> Expected: [0.000 0.000 0.000 0.000 0.000 0.000 0.000 0.000 0.000 1.000]  Prediction: [0.000 0.000 0.000 0.000 0.000 0.000 0.000 0.000 0.000 1.000]\t\n",
      "\n",
      "TESTING PHASE:\n",
      "(displaying 100% of the test data)\n",
      "\n",
      ">>> Test error: 0.0024205917676878718\n",
      "\n",
      ">>> Expected: [0.000 0.000 0.000 0.000 0.000 1.000 0.000 0.000 0.000 0.000]  Prediction: [0.000 0.000 0.000 0.000 0.000 0.983 0.017 0.000 0.000 0.000]\t\n",
      "\n",
      "TESTING PHASE:\n",
      "(displaying 100% of the test data)\n",
      "\n",
      ">>> Test error: 0.0\n",
      "\n",
      ">>> Expected: [0.000 0.000 0.000 0.000 1.000 0.000 0.000 0.000 0.000 0.000]  Prediction: [0.000 0.000 0.000 0.000 1.000 0.000 0.000 0.000 0.000 0.000]\t\n"
     ]
    },
    {
     "data": {
      "text/plain": [
       "<matplotlib.image.AxesImage at 0x7fab707a7e10>"
      ]
     },
     "execution_count": 142,
     "metadata": {},
     "output_type": "execute_result"
    },
    {
     "data": {
      "image/png": "[encoded data removed]",
      "text/plain": [
       "<matplotlib.figure.Figure at 0x7fab708d34e0>"
      ]
     },
     "metadata": {},
     "output_type": "display_data"
    }
   ],
   "source": [
    "fig = plt.figure(figsize=(9, 9))\n",
    "fig.add_subplot(1,3,1)\n",
    "plt.title(\"1st\")\n",
    "mlp_object.test(x=np.array([digits['data'][-5]]), target=(toOneHot(digits['target'][-5])), custom_data=True)\n",
    "plt.imshow(digits['images'][-5])\n",
    "fig.add_subplot(1,3,2)\n",
    "plt.title(\"2nd\")\n",
    "mlp_object.test(x=np.array([digits['data'][-10]]), target=(toOneHot(digits['target'][-10])), custom_data=True)\n",
    "plt.imshow(digits['images'][-10])\n",
    "fig.add_subplot(1,3,3)\n",
    "plt.title(\"3rd\")\n",
    "mlp_object.test(x=np.array([digits['data'][-20]]), target=(toOneHot(digits['target'][-20])), custom_data=True)\n",
    "plt.imshow(digits['images'][-20])"
   ]
  }
 ],
 "metadata": {
  "kernelspec": {
   "display_name": "Python 3",
   "language": "python",
   "name": "python3"
  },
  "language_info": {
   "codemirror_mode": {
    "name": "ipython",
    "version": 3
   },
   "file_extension": ".py",
   "mimetype": "text/x-python",
   "name": "python",
   "nbconvert_exporter": "python",
   "pygments_lexer": "ipython3",
   "version": "3.6.0"
  }
 },
 "nbformat": 4,
 "nbformat_minor": 2
}
