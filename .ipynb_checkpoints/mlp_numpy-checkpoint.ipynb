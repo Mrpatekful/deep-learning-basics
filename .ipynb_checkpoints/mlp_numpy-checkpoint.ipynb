{
 "cells": [
  {
   "cell_type": "code",
   "execution_count": 1453,
   "metadata": {
    "collapsed": false,
    "scrolled": true
   },
   "outputs": [],
   "source": [
    "import numpy as np\n",
    "from random import shuffle\n",
    "import abc\n",
    "import matplotlib.pyplot as plt\n",
    "from IPython.display import Math\n",
    "from IPython.display import Latex\n",
    "from sklearn import preprocessing\n",
    "%matplotlib inline"
   ]
  },
  {
   "cell_type": "markdown",
   "metadata": {},
   "source": [
    "## Activations"
   ]
  },
  {
   "cell_type": "code",
   "execution_count": 1454,
   "metadata": {
    "collapsed": false,
    "scrolled": true
   },
   "outputs": [],
   "source": [
    "class Activation(metaclass=abc.ABCMeta):\n",
    "    # unnecessary\n",
    "    \n",
    "    @abc.abstractmethod\n",
    "    def function(self, x):\n",
    "        \"\"\"Implementation of the activation function.\"\"\"\n",
    "        \n",
    "    @abc.abstractmethod\n",
    "    def derivative(self, x):\n",
    "        \"\"\"Derivative of the activation function.\"\"\""
   ]
  },
  {
   "cell_type": "markdown",
   "metadata": {},
   "source": [
    "#### Sigmoid"
   ]
  },
  {
   "cell_type": "code",
   "execution_count": 1455,
   "metadata": {
    "collapsed": false,
    "scrolled": false
   },
   "outputs": [
    {
     "data": {
      "text/latex": [
       "\\begin{align}\n",
       "f(x)=\\frac{1}{1+e^{-x}}=\\sigma(x)\\quad\n",
       "f'(x)=\\sigma(x)\\cdot(1-\\sigma(x))=\\frac{e^{-x}}{{(1+e^{-x}})^2}\n",
       "\\end{align}"
      ],
      "text/plain": [
       "<IPython.core.display.Latex object>"
      ]
     },
     "execution_count": 1455,
     "metadata": {},
     "output_type": "execute_result"
    }
   ],
   "source": [
    "Latex(r\"\"\"\\begin{align}\n",
    "f(x)=\\frac{1}{1+e^{-x}}=\\sigma(x)\\quad\n",
    "f'(x)=\\sigma(x)\\cdot(1-\\sigma(x))=\\frac{e^{-x}}{{(1+e^{-x}})^2}\n",
    "\\end{align}\"\"\")"
   ]
  },
  {
   "cell_type": "code",
   "execution_count": 1456,
   "metadata": {
    "collapsed": true,
    "scrolled": true
   },
   "outputs": [],
   "source": [
    "class Sigmoid(Activation):\n",
    "    \n",
    "    def function(self, x):\n",
    "        return 1 / (1 + np.exp(-x))\n",
    "    \n",
    "    def derivative(self, x):\n",
    "        # alternative: self.function(x)*(1 - self.function(X))\n",
    "        return np.exp(-x)/((1+np.exp(-x))**2)"
   ]
  },
  {
   "cell_type": "code",
   "execution_count": 1457,
   "metadata": {
    "collapsed": false,
    "scrolled": true
   },
   "outputs": [
    {
     "data": {
      "text/plain": [
       "[<matplotlib.lines.Line2D at 0x7f97b1328f60>]"
      ]
     },
     "execution_count": 1457,
     "metadata": {},
     "output_type": "execute_result"
    },
    {
     "data": {
      "image/png": "[encoded data removed]",
      "text/plain": [
       "<matplotlib.figure.Figure at 0x7f97b14fefd0>"
      ]
     },
     "metadata": {},
     "output_type": "display_data"
    }
   ],
   "source": [
    "x = np.linspace(-5, 5, 200)\n",
    "plt.axhline(0, linestyle='dashed')\n",
    "plt.axvline(0, linestyle='dashed')\n",
    "plt.title(\"sigmoid activation\")\n",
    "plt.plot(x,Sigmoid().function(x), color=\"red\")\n",
    "plt.plot(x,Sigmoid().derivative(x), color=\"blue\")"
   ]
  },
  {
   "cell_type": "markdown",
   "metadata": {},
   "source": [
    "#### ReLU"
   ]
  },
  {
   "cell_type": "code",
   "execution_count": 1458,
   "metadata": {
    "collapsed": false,
    "scrolled": false
   },
   "outputs": [
    {
     "data": {
      "text/latex": [
       "\\begin{align}\n",
       "f(x)=\\begin{cases}\n",
       "  x, & \\text{if } x > 0, \\\\\n",
       "  0, & \\text{otherwise}.\n",
       "\\end{cases}\\quad\n",
       "f'(x)=\\begin{cases}\n",
       "  1, & \\text{if } x > 0, \\\\\n",
       "  0, & \\text{otherwise}.\n",
       "\\end{cases}\n",
       "\\end{align}"
      ],
      "text/plain": [
       "<IPython.core.display.Latex object>"
      ]
     },
     "execution_count": 1458,
     "metadata": {},
     "output_type": "execute_result"
    }
   ],
   "source": [
    "Latex(r\"\"\"\\begin{align}\n",
    "f(x)=\\begin{cases}\n",
    "  x, & \\text{if } x > 0, \\\\\n",
    "  0, & \\text{otherwise}.\n",
    "\\end{cases}\\quad\n",
    "f'(x)=\\begin{cases}\n",
    "  1, & \\text{if } x > 0, \\\\\n",
    "  0, & \\text{otherwise}.\n",
    "\\end{cases}\n",
    "\\end{align}\"\"\")"
   ]
  },
  {
   "cell_type": "code",
   "execution_count": 1459,
   "metadata": {
    "collapsed": true,
    "scrolled": true
   },
   "outputs": [],
   "source": [
    "class Relu(Activation):\n",
    "    \n",
    "    def function(self, x):\n",
    "        return x * (x > 0)\n",
    "\n",
    "    def derivative(self, x):\n",
    "        return np.array(self.function(x) != 0, dtype=\"int\")"
   ]
  },
  {
   "cell_type": "code",
   "execution_count": 1460,
   "metadata": {
    "collapsed": false,
    "scrolled": false
   },
   "outputs": [
    {
     "data": {
      "text/plain": [
       "[<matplotlib.lines.Line2D at 0x7f97b12c0cf8>]"
      ]
     },
     "execution_count": 1460,
     "metadata": {},
     "output_type": "execute_result"
    },
    {
     "data": {
      "image/png": "[encoded data removed]",
      "text/plain": [
       "<matplotlib.figure.Figure at 0x7f97b1516fd0>"
      ]
     },
     "metadata": {},
     "output_type": "display_data"
    }
   ],
   "source": [
    "x = np.linspace(-5, 5, 200)\n",
    "plt.axhline(0, linestyle='dashed')\n",
    "plt.axvline(0, linestyle='dashed')\n",
    "plt.title(\"relu activation\")\n",
    "plt.plot(x,Relu().function(x), color=\"red\")\n",
    "plt.plot(x,Relu().derivative(x), color=\"blue\")"
   ]
  },
  {
   "cell_type": "markdown",
   "metadata": {},
   "source": [
    "#### Softplus"
   ]
  },
  {
   "cell_type": "code",
   "execution_count": 1461,
   "metadata": {
    "collapsed": false,
    "scrolled": true
   },
   "outputs": [
    {
     "data": {
      "text/latex": [
       "\\begin{align}\n",
       "f(x)=log(1 + e^x)\n",
       "\\quad\n",
       "f'(x)=\\frac{e^x}{1 + e^x}\n",
       "\\end{align}"
      ],
      "text/plain": [
       "<IPython.core.display.Latex object>"
      ]
     },
     "execution_count": 1461,
     "metadata": {},
     "output_type": "execute_result"
    }
   ],
   "source": [
    "Latex(r\"\"\"\\begin{align}\n",
    "f(x)=log(1 + e^x)\n",
    "\\quad\n",
    "f'(x)=\\frac{e^x}{1 + e^x}\n",
    "\\end{align}\"\"\")"
   ]
  },
  {
   "cell_type": "code",
   "execution_count": 1462,
   "metadata": {
    "collapsed": true,
    "scrolled": true
   },
   "outputs": [],
   "source": [
    "class Softplus(Activation):\n",
    "    \n",
    "    def function(self, x):\n",
    "        return np.log(1 + np.exp(x))\n",
    "\n",
    "    def derivative(self, x):\n",
    "        return np.exp(x)/(1 + np.exp(x))"
   ]
  },
  {
   "cell_type": "code",
   "execution_count": 1463,
   "metadata": {
    "collapsed": false,
    "scrolled": true
   },
   "outputs": [
    {
     "data": {
      "text/plain": [
       "[<matplotlib.lines.Line2D at 0x7f97b125cb70>]"
      ]
     },
     "execution_count": 1463,
     "metadata": {},
     "output_type": "execute_result"
    },
    {
     "data": {
      "image/png": "[encoded data removed]",
      "text/plain": [
       "<matplotlib.figure.Figure at 0x7f97b12e9c50>"
      ]
     },
     "metadata": {},
     "output_type": "display_data"
    }
   ],
   "source": [
    "x = np.linspace(-5, 5, 200)\n",
    "plt.axhline(0, linestyle='dashed')\n",
    "plt.axvline(0, linestyle='dashed')\n",
    "plt.title(\"relu activation\")\n",
    "plt.plot(x,Softplus().function(x), color=\"red\")\n",
    "plt.plot(x,Softplus().derivative(x), color=\"blue\")"
   ]
  },
  {
   "cell_type": "markdown",
   "metadata": {
    "collapsed": false
   },
   "source": [
    "#### Hyperbolic Tangent"
   ]
  },
  {
   "cell_type": "code",
   "execution_count": 1464,
   "metadata": {
    "collapsed": false,
    "scrolled": true
   },
   "outputs": [
    {
     "data": {
      "text/latex": [
       "\\begin{align}\n",
       "f(x)=\\frac{e^{2x}-1}{e^{2x}+1}\n",
       "\\quad\n",
       "f'(x)=\\frac{4}{{e^{2x}+2+e^{-2x}}}\n",
       "\\end{align}"
      ],
      "text/plain": [
       "<IPython.core.display.Latex object>"
      ]
     },
     "execution_count": 1464,
     "metadata": {},
     "output_type": "execute_result"
    }
   ],
   "source": [
    "Latex(r\"\"\"\\begin{align}\n",
    "f(x)=\\frac{e^{2x}-1}{e^{2x}+1}\n",
    "\\quad\n",
    "f'(x)=\\frac{4}{{e^{2x}+2+e^{-2x}}}\n",
    "\\end{align}\"\"\")"
   ]
  },
  {
   "cell_type": "code",
   "execution_count": 1465,
   "metadata": {
    "collapsed": false,
    "scrolled": true
   },
   "outputs": [],
   "source": [
    "class Tanh(Activation):\n",
    "    \n",
    "    def function(self, x):\n",
    "        return (np.exp(2*x) - 1)/(np.exp(2*x) + 1)\n",
    "\n",
    "    def derivative(self, x):\n",
    "        # hyperbolic secant to the power of 2\n",
    "        return 4/(np.exp(2*x) + 2 + np.exp(-2*x))"
   ]
  },
  {
   "cell_type": "code",
   "execution_count": 1466,
   "metadata": {
    "collapsed": false,
    "scrolled": true
   },
   "outputs": [
    {
     "data": {
      "text/plain": [
       "[<matplotlib.lines.Line2D at 0x7f97b1172cc0>]"
      ]
     },
     "execution_count": 1466,
     "metadata": {},
     "output_type": "execute_result"
    },
    {
     "data": {
      "image/png": "[encoded data removed]",
      "text/plain": [
       "<matplotlib.figure.Figure at 0x7f97b12cdbe0>"
      ]
     },
     "metadata": {},
     "output_type": "display_data"
    }
   ],
   "source": [
    "x = np.linspace(-5, 5, 200)\n",
    "plt.axhline(0, linestyle='dashed')\n",
    "plt.axvline(0, linestyle='dashed')\n",
    "plt.title(\"tanh activation\")\n",
    "plt.plot(x,Tanh().function(x), color=\"red\")\n",
    "plt.plot(x,Tanh().derivative(x), color=\"blue\")"
   ]
  },
  {
   "cell_type": "markdown",
   "metadata": {},
   "source": [
    "#### Softmax"
   ]
  },
  {
   "cell_type": "code",
   "execution_count": 1467,
   "metadata": {
    "collapsed": true,
    "scrolled": true
   },
   "outputs": [],
   "source": [
    "class Softmax(Activation):\n",
    "    \n",
    "    def function(self, x):\n",
    "        return np.exp(x)/(np.sum(np.exp(x), axis=1).reshape(x.shape[0], 1))\n",
    "    \n",
    "    def derivative(self, x):\n",
    "        return 1"
   ]
  },
  {
   "cell_type": "markdown",
   "metadata": {},
   "source": [
    "#### Linear"
   ]
  },
  {
   "cell_type": "code",
   "execution_count": 1468,
   "metadata": {
    "collapsed": true,
    "scrolled": true
   },
   "outputs": [],
   "source": [
    "class Linear(Activation):\n",
    "    \n",
    "    def function(self, x):\n",
    "        return x\n",
    "\n",
    "    def derivative(self, x):\n",
    "        return 1"
   ]
  },
  {
   "cell_type": "markdown",
   "metadata": {},
   "source": [
    "## Input Pipeline"
   ]
  },
  {
   "cell_type": "markdown",
   "metadata": {},
   "source": [
    "In my implementation of a feed-forward net I've detached the responsibility of feeding the data into the network from the calculation model. The task of this class is to manage the input by separating the data into train, test and validation subsets, and standardizing these with the deviation and mean values of the training data. During training or testing the network receives the input in batches, which are also assembled by this class."
   ]
  },
  {
   "cell_type": "code",
   "execution_count": 1469,
   "metadata": {
    "collapsed": false,
    "scrolled": true
   },
   "outputs": [],
   "source": [
    "class InputPipeLine:\n",
    "    \n",
    "    def __init__(self, data, input_size, train_split=0.6, valid_split=0.2, batch_size=10):\n",
    "        \"\"\"data: an array of the training, validation, and test samples, \n",
    "        where each elements consists of an array of inputs (features), \n",
    "        and an array of expected output(s) for the given input\"\"\"\n",
    "        self.scaler = None\n",
    "        self.data = None\n",
    "        self.size = None\n",
    "        self.actual_batch_size = None\n",
    "        \n",
    "        self.input_size = input_size\n",
    "        \n",
    "        self.train_size = int(len(data)*train_split)\n",
    "        self.valid_size = int(len(data)*valid_split)\n",
    "        self.test_size = len(data)-self.valid_size-self.train_size\n",
    "        \n",
    "        assert self.test_size > 0\n",
    "        \n",
    "        self.batch_size = batch_size\n",
    "        \n",
    "        self.train, self.valid, self.test = self.separate(self.normalize(data))\n",
    "        self.index = 0\n",
    "        \n",
    "    def normalize(self, data):        \n",
    "        features = [row[:self.input_size] for row in data]\n",
    "        self.scaler = preprocessing.StandardScaler().fit(features[:self.train_size])\n",
    "        data = list(zip(self.scaler.transform(features), [row[self.input_size:] for row in data]))\n",
    "        return data\n",
    "    \n",
    "    def separate(self, data):\n",
    "        return (data[:self.train_size], data[self.train_size:self.train_size+self.valid_size],\n",
    "                data[self.train_size+self.valid_size:])\n",
    "            \n",
    "    def next_batch(self):\n",
    "        batch, eoe = self.step()\n",
    "        # inputs are separated from their expected output\n",
    "        # their order must remain the same\n",
    "        return (np.array([element[0] for element in batch]),\n",
    "                np.array([element[1] for element in batch]),\n",
    "                eoe)\n",
    "    \n",
    "    def set_mode(self, mode=\"train\"):\n",
    "        \"\"\"switching between phases, so the step function doesn't have to know, which is the current state\"\"\"\n",
    "        # TODO: reconsider this method\n",
    "        if mode == \"train\":\n",
    "            self.data = self.train\n",
    "            self.size = self.train_size\n",
    "            self.actual_batch_size = self.batch_size\n",
    "        elif mode == \"validation\":\n",
    "            self.data = self.valid\n",
    "            self.size = self.valid_size\n",
    "            self.actual_batch_size = self.valid_size\n",
    "        elif mode == \"test\":\n",
    "            self.data = self.test\n",
    "            self.size = self.test_size\n",
    "            self.actual_batch_size = self.test_size\n",
    "            \n",
    "    \n",
    "    def step(self):\n",
    "        # flag value signaling the end of an epoch\n",
    "        eoe = False\n",
    "        if self.index + self.actual_batch_size > self.size:\n",
    "            self.index = 0\n",
    "            # samples are shuffled after each epoch\n",
    "            # IMPORTANT: data will be shuffled and a batch will be returned\n",
    "            # after the final epoch -> eoe has to be checked before calculating result\n",
    "            shuffle(self.data)\n",
    "            eoe = True\n",
    "        \n",
    "        batch = self.data[self.index:self.index+self.actual_batch_size]\n",
    "        self.index += self.actual_batch_size\n",
    "        \n",
    "        return batch, eoe"
   ]
  },
  {
   "cell_type": "markdown",
   "metadata": {},
   "source": [
    "## Layers"
   ]
  },
  {
   "cell_type": "code",
   "execution_count": 1470,
   "metadata": {
    "collapsed": true,
    "scrolled": true
   },
   "outputs": [],
   "source": [
    "class Layer:\n",
    "    \n",
    "    def __init__(self, activation, size):\n",
    "        self.activation = activation\n",
    "        self.value = None\n",
    "        self.size = size\n",
    "        \n",
    "    def forward(self, x):\n",
    "        self.value = self.activation.function(x)\n",
    "        return self.value\n",
    "        \n",
    "    def backward(self):\n",
    "        return self.activation.derivative(self.value)\n",
    "    \n",
    "    def isDropout(self):\n",
    "        return False"
   ]
  },
  {
   "cell_type": "markdown",
   "metadata": {},
   "source": [
    "#### Dropout\n",
    "\n",
    "A reguralization layer that creates a mask over the neurons, and nullifies each output value with p probability. Dropout prevents overfitting as it combines an exponential amount of network architectures, rendering the ability of the individual neurons to develop co-dependency amongst each other during the training phase significantly lower. The network is forced to learn the data with a different subset of parameters, which means it has to learn a more generalized representation of the data to generate good results.\n",
    "\n",
    "Let i be the i-th layer in a feed-forward neural network, x denote the vector output of the (i-1)-th layer, W and b are the weights and biases between the (i-1)-th and i-th layer, and m be a mask that has the same dimensions as x. The multiplication in the (2) is an element-wise product, while the one in (3) is standard matrix multiplication dot product."
   ]
  },
  {
   "cell_type": "code",
   "execution_count": 1471,
   "metadata": {
    "collapsed": false,
    "scrolled": true
   },
   "outputs": [
    {
     "data": {
      "text/latex": [
       "\\begin{align}\n",
       "m^{(i-1)} \\sim Bernoulli(p) \\\\\n",
       "\\tilde{x}^{(i-1)} = x^{(i-1)}\\cdot m^{(i-1)} \\\\\n",
       "s^{(i)}=W^{(i-1)}\\cdot \\tilde{x}^{(i-1)}+b^{(i-1)} \\\\\n",
       "y^{(i)}=f(s^{(i)})\n",
       "\\end{align}"
      ],
      "text/plain": [
       "<IPython.core.display.Latex object>"
      ]
     },
     "execution_count": 1471,
     "metadata": {},
     "output_type": "execute_result"
    }
   ],
   "source": [
    "Latex(r\"\"\"\\begin{align}\n",
    "m^{(i-1)} \\sim Bernoulli(p) \\\\\n",
    "\\tilde{x}^{(i-1)} = x^{(i-1)}\\cdot m^{(i-1)} \\\\\n",
    "s^{(i)}=W^{(i-1)}\\cdot \\tilde{x}^{(i-1)}+b^{(i-1)} \\\\\n",
    "y^{(i)}=f(s^{(i)})\n",
    "\\end{align}\"\"\")"
   ]
  },
  {
   "cell_type": "markdown",
   "metadata": {},
   "source": [
    "By applying the dropout on a layer, we are using only n*p (n is the number of units in a layer) neurons, hence, the expected output is p times the output without dropout. During testing phase or inference, we want to use the full neural network, so we have to scale down the output values in that layer. An alternative way of handling this issue is scaling up the output of the neurons during training phase, by dividing with p, so we don't have to deal with scaling during testing phase."
   ]
  },
  {
   "cell_type": "code",
   "execution_count": 1472,
   "metadata": {
    "collapsed": false,
    "scrolled": true
   },
   "outputs": [],
   "source": [
    "class Dropout(Layer):\n",
    "    \n",
    "    def __init__(self, layer, probability):\n",
    "        super().__init__(layer.activation, layer.size)\n",
    "        self.probability = probability\n",
    "        # bernoulli distribution as the probabilty of retaining the neuron\n",
    "        self.mask = np.random.binomial(1, self.probability, size=self.size)\n",
    "    \n",
    "    def forward(self, x):\n",
    "        # using the \"alternative\" method described above\n",
    "        return np.multiply(Layer.forward(self, x), self.mask)/self.probability\n",
    "        \n",
    "    def backward(self):\n",
    "        # recreate the mask after the backward step\n",
    "        product = np.multiply(Layer.backward(self), self.mask)\n",
    "        self.mask = np.random.binomial(1, self.probability, size=self.size)\n",
    "        return product\n",
    "    \n",
    "    def isDropout(self):\n",
    "        return True\n",
    "    \n",
    "    def remask(self, probability):\n",
    "        self.mask = np.random.binomial(1, probability, size=self.size)"
   ]
  },
  {
   "cell_type": "markdown",
   "metadata": {},
   "source": [
    "#### Batch normalization"
   ]
  },
  {
   "cell_type": "code",
   "execution_count": 1473,
   "metadata": {
    "collapsed": false,
    "scrolled": true
   },
   "outputs": [],
   "source": [
    "class BatchNorm(Layer):\n",
    "    pass"
   ]
  },
  {
   "cell_type": "markdown",
   "metadata": {},
   "source": [
    "## Optimizers"
   ]
  },
  {
   "cell_type": "code",
   "execution_count": 1474,
   "metadata": {
    "collapsed": true,
    "scrolled": true
   },
   "outputs": [],
   "source": [
    "class Optimizer(metaclass=abc.ABCMeta):\n",
    "    \n",
    "    @abc.abstractmethod\n",
    "    def modify_weights(self, batch_size, layers, weights, biases, deltas):\n",
    "        \"\"\"method responsible for modifying the weights of the model\"\"\""
   ]
  },
  {
   "cell_type": "markdown",
   "metadata": {},
   "source": [
    "#### Stochastic Gradient Descent with Momentum"
   ]
  },
  {
   "cell_type": "code",
   "execution_count": 1475,
   "metadata": {
    "collapsed": false,
    "scrolled": true
   },
   "outputs": [],
   "source": [
    "class Sgd:\n",
    "    \n",
    "    def __init__(self, lrate=0.01, momentum=0.9):\n",
    "        self.lrate = lrate\n",
    "        self.momentum = momentum\n",
    "        self.dws = None\n",
    "        self.dbs = None\n",
    "        \n",
    "    def __str__(self):\n",
    "        return \"SGD with Momentum\"\n",
    "\n",
    "    def modify_weights(self, batch_size, layers, weights, biases, deltas):\n",
    "        if self.dws is None:\n",
    "            self.dws = [0]*len(weights)\n",
    "            self.dbs = [0]*len(weights)\n",
    "            \n",
    "        for index in range(len(deltas)):\n",
    "            delta = np.atleast_2d(deltas[index])\n",
    "            \n",
    "            dw = (-self.lrate*np.dot(layers[index].value.T, delta) + \n",
    "                  self.momentum*self.dws[index])/batch_size\n",
    "            self.dws[index] = dw\n",
    "            \n",
    "            db = np.sum(-self.lrate*delta + self.momentum*self.dbs[index], axis=0)/batch_size\n",
    "            self.dbs[index] = db\n",
    "            \n",
    "            weights[index] += dw\n",
    "            biases[index] += db"
   ]
  },
  {
   "cell_type": "markdown",
   "metadata": {},
   "source": [
    "#### Adaptive Subgradient"
   ]
  },
  {
   "cell_type": "code",
   "execution_count": 1476,
   "metadata": {
    "collapsed": true,
    "scrolled": true
   },
   "outputs": [],
   "source": [
    "class Adagrad:\n",
    "    \n",
    "    def __init__(self, lrate=0.01, epsilon=10e-4):\n",
    "        self.lrate = lrate\n",
    "        self.epsilon = epsilon\n",
    "        self.walphas = None\n",
    "        self.balphas = None\n",
    "    \n",
    "    def __str__(self):\n",
    "        return \"Adagrad\"\n",
    "    \n",
    "    def modify_weights(self, batch_size, layers, weights, biases, deltas):\n",
    "        if self.walphas is None:\n",
    "            self.walphas = [0]*len(weights)\n",
    "            self.balphas = [0]*len(weights)\n",
    "            \n",
    "        for index in range(len(deltas)):\n",
    "            delta = np.atleast_2d(deltas[index])\n",
    "            \n",
    "            dw = np.dot(layers[index].value.T, delta)/batch_size\n",
    "            walpha = self.walphas[index] + dw**2\n",
    "            self.walphas[index] = walpha\n",
    "            \n",
    "            db = np.sum(delta, axis=0)/batch_size\n",
    "            balpha = self.balphas[index] + db**2\n",
    "            self.balphas[index] = balpha\n",
    "            \n",
    "            weights[index] += (-self.lrate*dw/(walpha**(1/2)+self.epsilon))\n",
    "            biases[index] += (-self.lrate*db/(balpha**(1/2)+self.epsilon))"
   ]
  },
  {
   "cell_type": "markdown",
   "metadata": {},
   "source": [
    "#### RMSProp"
   ]
  },
  {
   "cell_type": "code",
   "execution_count": 1477,
   "metadata": {
    "collapsed": false,
    "scrolled": true
   },
   "outputs": [],
   "source": [
    "class Rmsprop:\n",
    "    \n",
    "    def __init__(self, lrate=0.01, alpha=0.9, epsilon=10e-4):\n",
    "        self.lrate = lrate\n",
    "        self.alpha = alpha\n",
    "        self.epsilon = epsilon\n",
    "        self.walphas = None\n",
    "        self.balphas = None\n",
    "        \n",
    "    def __str__(self):\n",
    "        return \"RMSProp\"\n",
    "    \n",
    "    def modify_weights(self, batch_size, layers, weights, biases, deltas):\n",
    "        if self.walphas is None:\n",
    "            self.walphas = [0]*len(weights)\n",
    "            self.balphas = [0]*len(weights)\n",
    "            \n",
    "        for index in range(len(deltas)):\n",
    "            delta = np.atleast_2d(deltas[index])\n",
    "            \n",
    "            dw = np.dot(layers[index].value.T, delta)/batch_size\n",
    "            walpha = self.alpha*self.walphas[index] + (1-self.alpha)*dw**2\n",
    "            self.walphas[index] = walpha\n",
    "            \n",
    "            db = np.sum(delta, axis=0)/batch_size\n",
    "            balpha = self.alpha*self.balphas[index] + (1-self.alpha)*db**2\n",
    "            self.balphas[index] = balpha\n",
    "            \n",
    "            weights[index] += (-self.lrate*dw/(walpha**(1/2)+self.epsilon))\n",
    "            biases[index] += (-self.lrate*db/(balpha**(1/2)+self.epsilon))"
   ]
  },
  {
   "cell_type": "markdown",
   "metadata": {},
   "source": [
    "#### ADAM"
   ]
  },
  {
   "cell_type": "code",
   "execution_count": 1478,
   "metadata": {
    "collapsed": false,
    "scrolled": true
   },
   "outputs": [
    {
     "data": {
      "text/latex": [
       "\\begin{align}\n",
       "t\\gets t+1 \\\\\n",
       "g_t\\gets \\Delta_\\theta f_t(\\theta_{t-1}) \\\\\n",
       "m_t\\gets \\beta_1\\cdot m_{t-1}+(1-\\beta_1)\\cdot g_t \\\\\n",
       "v_t\\gets \\beta_2\\cdot v_{t-1}+(1-\\beta_2)\\cdot g_t^2 \\\\\n",
       "\\bar{m_t}\\gets \\frac{m_t}{1-\\beta_1^t} \\\\\n",
       "\\bar{v_t}\\gets \\frac{v_t}{1-\\beta_2^t} \\\\\n",
       "\\theta_t \\gets \\theta_{t-1}-\\frac{\\alpha\\cdot \\bar{m_t}}{\\sqrt{\\bar{v_t}}+\\epsilon}\n",
       "\\end{align}"
      ],
      "text/plain": [
       "<IPython.core.display.Latex object>"
      ]
     },
     "execution_count": 1478,
     "metadata": {},
     "output_type": "execute_result"
    }
   ],
   "source": [
    "Latex(r\"\"\"\\begin{align}\n",
    "t\\gets t+1 \\\\\n",
    "g_t\\gets \\Delta_\\theta f_t(\\theta_{t-1}) \\\\\n",
    "m_t\\gets \\beta_1\\cdot m_{t-1}+(1-\\beta_1)\\cdot g_t \\\\\n",
    "v_t\\gets \\beta_2\\cdot v_{t-1}+(1-\\beta_2)\\cdot g_t^2 \\\\\n",
    "\\bar{m_t}\\gets \\frac{m_t}{1-\\beta_1^t} \\\\\n",
    "\\bar{v_t}\\gets \\frac{v_t}{1-\\beta_2^t} \\\\\n",
    "\\theta_t \\gets \\theta_{t-1}-\\frac{\\alpha\\cdot \\bar{m_t}}{\\sqrt{\\bar{v_t}}+\\epsilon}\n",
    "\\end{align}\"\"\")"
   ]
  },
  {
   "cell_type": "code",
   "execution_count": 1479,
   "metadata": {
    "collapsed": false,
    "scrolled": true
   },
   "outputs": [],
   "source": [
    "class Adam():\n",
    "    \n",
    "    def __init__(self, lrate=0.01, beta1=0.9, beta2=0.999, epsilon=10e-8):\n",
    "        self.lrate = lrate\n",
    "        self.beta1 = beta1\n",
    "        self.beta2 = beta2\n",
    "        self.epsilon = epsilon\n",
    "        self.mws = None\n",
    "        self.mbs = None\n",
    "        self.vws = None\n",
    "        self.vbs = None\n",
    "        self.t = 0\n",
    "        \n",
    "    def __str__(self):\n",
    "        return \"ADAM\"\n",
    "    \n",
    "    def modify_weights(self, batch_size, layers, weights, biases, deltas):\n",
    "        if self.mws is None:\n",
    "            self.mws = [0]*len(weights)\n",
    "            self.mbs = [0]*len(weights)\n",
    "            self.vws = [0]*len(weights)\n",
    "            self.vbs = [0]*len(weights)\n",
    "            \n",
    "        self.t += 1\n",
    "        for index in range(len(deltas)):\n",
    "            delta = np.atleast_2d(deltas[index])\n",
    "            \n",
    "            dw = np.dot(layers[index].value.T, delta)/batch_size\n",
    "            mw = self.beta1*self.mws[index] + (1-self.beta1)*dw\n",
    "            vw = self.beta2*self.vws[index] + (1-self.beta2)*dw**2\n",
    "            mw_h = mw/(1-self.beta1**self.t)\n",
    "            vw_h = vw/(1-self.beta2**self.t)\n",
    "            self.mws[index] = mw\n",
    "            self.vws[index] = vw\n",
    "            \n",
    "            db = np.sum(delta, axis=0)/batch_size\n",
    "            mb = self.beta1*self.mbs[index] + (1-self.beta1)*db\n",
    "            vb = self.beta2*self.vbs[index] + (1-self.beta2)*db**2\n",
    "            mb_h = mb/(1-self.beta1**self.t)\n",
    "            vb_h = vb/(1-self.beta2**self.t)\n",
    "            self.mbs[index] = mb\n",
    "            self.vbs[index] = vb\n",
    "            \n",
    "            weights[index] += (-self.lrate*mw_h/(vw_h**(1/2)+self.epsilon))\n",
    "            biases[index] += (-self.lrate*mb_h/(vb_h**(1/2)+self.epsilon))"
   ]
  },
  {
   "cell_type": "markdown",
   "metadata": {},
   "source": [
    "## Error"
   ]
  },
  {
   "cell_type": "code",
   "execution_count": 1480,
   "metadata": {
    "collapsed": true,
    "scrolled": true
   },
   "outputs": [],
   "source": [
    "class Error(metaclass=abc.ABCMeta):\n",
    "    # unnecessary\n",
    "    \n",
    "    @abc.abstractmethod\n",
    "    def function(self, target, pred):\n",
    "        \"\"\"Implementation of the error function.\"\"\"\n",
    "        \n",
    "    @abc.abstractmethod\n",
    "    def derivative(self, target, pred):\n",
    "        \"\"\"Derivative of the error function.\"\"\""
   ]
  },
  {
   "cell_type": "markdown",
   "metadata": {},
   "source": [
    "#### Mean square error"
   ]
  },
  {
   "cell_type": "code",
   "execution_count": 1481,
   "metadata": {
    "collapsed": true,
    "scrolled": true
   },
   "outputs": [],
   "source": [
    "class Mse(Error):\n",
    "    \n",
    "    def __str__(self):\n",
    "        return \"Mean Squared Error\"\n",
    "    \n",
    "    def function(self, target, pred):\n",
    "        return (target-pred)**2\n",
    "    \n",
    "    def derivative(self, target, pred):\n",
    "        return 2*(pred - target)"
   ]
  },
  {
   "cell_type": "markdown",
   "metadata": {},
   "source": [
    "#### Cross Entropy"
   ]
  },
  {
   "cell_type": "code",
   "execution_count": 1482,
   "metadata": {
    "collapsed": true,
    "scrolled": true
   },
   "outputs": [],
   "source": [
    "class CrossEntropy(Error):\n",
    "    \n",
    "    def __str__(self):\n",
    "        return \"Categorical Cross Entropy\"\n",
    "    \n",
    "    def function(self, target, pred):\n",
    "        return -target*np.log(pred)\n",
    "    \n",
    "    # TODO\n",
    "    def derivative(self, target, pred):\n",
    "        return pred - target"
   ]
  },
  {
   "cell_type": "markdown",
   "metadata": {},
   "source": [
    "#### Binary Cross Entropy"
   ]
  },
  {
   "cell_type": "code",
   "execution_count": 1483,
   "metadata": {
    "collapsed": true,
    "scrolled": true
   },
   "outputs": [],
   "source": [
    "class BinaryCrossEntropy(Error):\n",
    "    \n",
    "    def __str__(self):\n",
    "        return \"Binary Cross Entropy\"\n",
    "    \n",
    "    def function(self, target, pred):\n",
    "        return -(target*np.log(pred) + (1 - target)*np.log(1 - pred))\n",
    "    \n",
    "    # TODO\n",
    "    def derivative(self, target, pred):\n",
    "        return pred - target"
   ]
  },
  {
   "cell_type": "markdown",
   "metadata": {},
   "source": [
    "## Model"
   ]
  },
  {
   "cell_type": "code",
   "execution_count": 1520,
   "metadata": {
    "collapsed": false,
    "scrolled": true
   },
   "outputs": [],
   "source": [
    "class Mlp:\n",
    "    \n",
    "    def __init__(self, layers, input_pipe, error=Mse()):\n",
    "        self.layers = layers\n",
    "        self.input_pipe = input_pipe\n",
    "        self.error = error\n",
    "        self.weights, self.biases = self.init_weights()\n",
    "        \n",
    "        self.optimizer = None\n",
    "        self.batch_size = None\n",
    "        \n",
    "    def init_weights(self):\n",
    "        weights = []\n",
    "        biases = []\n",
    "        for index in range(len(self.layers)-1):\n",
    "            # xavier weight initialization\n",
    "            xav_scale = (6/(self.layers[index].size**(1/2)+self.layers[index+1].size**(1/2)))\n",
    "                \n",
    "            weights.append(np.random.rand(self.layers[index].size, \n",
    "                                          self.layers[index + 1].size)*2*xav_scale-xav_scale)\n",
    "            biases.append(np.random.rand(1, \n",
    "                                         self.layers[index + 1].size)*2*xav_scale-xav_scale)\n",
    "\n",
    "        return weights, biases\n",
    "            \n",
    "    def train(self, epochs=100, optimizer=Sgd()):\n",
    "        self.optimizer = optimizer\n",
    "        print(\">>> Optimizer: {0}\\n>>> Error: {1}\\n>>> Layers: {2}\\n\".format(self.optimizer, \n",
    "                                                                            self.error,\n",
    "                                                                            len(self.layers)))\n",
    "        for epoch in range(epochs+1):\n",
    "            self.input_pipe.set_mode(\"train\")\n",
    "            \n",
    "            train_error = 0\n",
    "            valid_error = 0\n",
    "            \n",
    "            while True:\n",
    "                x, y, eoe = self.input_pipe.next_batch()\n",
    "                if eoe:\n",
    "                    break\n",
    "                self.forward_prop(x)\n",
    "                train_error += self.back_prop(y)\n",
    "                \n",
    "                    \n",
    "            self.input_pipe.set_mode(\"validation\")\n",
    "            x, y, _ = self.input_pipe.next_batch()\n",
    "            \n",
    "            valid_error = (self.error.function(y, self.predict(x)).sum()\n",
    "            /self.input_pipe.valid_size/self.layers[-1].size)\n",
    "            train_error = (train_error/(self.input_pipe.train_size-\n",
    "                                        (self.input_pipe.train_size%self.input_pipe.batch_size))/self.layers[-1].size)\n",
    "            \n",
    "            if epoch % 20 == 0:\n",
    "                print(\">>> Epoch: {0}\\t Train Error: {1:.3f}\\t Validation Error: {2:.3f}\"\n",
    "                      .format(epoch, train_error, valid_error))\n",
    "            \n",
    "    def predict(self, x):\n",
    "        self.layers[0].forward(x)\n",
    "        \n",
    "        for index in range(len(self.weights)):\n",
    "            layer = self.layers[index+1]\n",
    "            \n",
    "            # removing dropout mask\n",
    "            if layer.isDropout():\n",
    "                layer.remask(1)\n",
    "                \n",
    "            layer.forward(np.dot(self.layers[index].value, \n",
    "                                 self.weights[index]) + self.biases[index])\n",
    "            \n",
    "            # replacing the mask\n",
    "            if layer.isDropout():\n",
    "                layer.remask(layer.probability)\n",
    "        \n",
    "        return self.layers[-1].value\n",
    "    \n",
    "    def test(self, x=None, target=None, verbose=1):\n",
    "        # to make a custom prediction both x (inputs) and y (expected outputs) must be given\n",
    "        if x or target is None:\n",
    "            # otherwise prediction will be made from the test set\n",
    "            self.input_pipe.set_mode(\"test\")\n",
    "            x, target, _ = self.input_pipe.next_batch()\n",
    "        \n",
    "        results = list(zip(x, target, self.predict(x)))\n",
    "        for index, row  in enumerate(results):\n",
    "            if index > len(results)*verbose:\n",
    "                break\n",
    "            print(\">>> Expected: {0}  Prediction: {1}\\t\".format(row[1],row[2]))\n",
    "            \n",
    "        return results\n",
    "                \n",
    "    def forward_prop(self, x):\n",
    "        self.batch_size = x.shape[0]\n",
    "        self.layers[0].forward(x) # tanuljá robi\n",
    "        \n",
    "        for index in range(len(self.weights)):\n",
    "            self.layers[index+1].forward(np.dot(self.layers[index].value, \n",
    "                            self.weights[index]) + self.biases[index])\n",
    "        \n",
    "    def back_prop(self, target):\n",
    "        deltas = []\n",
    "        \n",
    "        # crossent || bincrossent -> softmax, sigmoid\n",
    "        # TODO: revisit this part\n",
    "        if ((isinstance(error, BinaryCrossEntropy) or isinstance(error, CrossEntropy)) and \n",
    "           (isinstance(self.layers[-1].activation, Softmax) or isinstance(self.layers[-1].activation, Sigmoid))):\n",
    "            delta = self.error.derivative(target, self.layers[-1].value)\n",
    "        else:\n",
    "            delta = np.multiply(self.error.derivative(target, self.layers[-1].value),\n",
    "                                  self.layers[-1].backward())\n",
    "        deltas.append(delta)\n",
    "        \n",
    "        for index in range(len(self.weights)-1, 0,-1):\n",
    "            deltas.insert(0, np.multiply(np.dot(deltas[0],self.weights[index].T), \n",
    "                                      self.layers[index].backward()))\n",
    "        \n",
    "        self.optimizer.modify_weights(self.batch_size, self.layers, self.weights, self.biases, deltas)\n",
    "        \n",
    "        return self.error.function(target, self.layers[-1].value).sum()"
   ]
  },
  {
   "cell_type": "markdown",
   "metadata": {},
   "source": [
    "## Examples"
   ]
  },
  {
   "cell_type": "markdown",
   "metadata": {},
   "source": [
    "#### XOR problem"
   ]
  },
  {
   "cell_type": "code",
   "execution_count": 1521,
   "metadata": {
    "collapsed": false,
    "scrolled": true
   },
   "outputs": [
    {
     "name": "stdout",
     "output_type": "stream",
     "text": [
      ">>> Optimizer: ADAM\n",
      ">>> Error: Mean Squared Error\n",
      ">>> Layers: 3\n",
      "\n",
      ">>> Epoch: 0\t Train Error: 0.148\t Validation Error: 0.052\n",
      ">>> Epoch: 20\t Train Error: 0.023\t Validation Error: 0.034\n",
      ">>> Epoch: 40\t Train Error: 0.022\t Validation Error: 0.035\n",
      ">>> Epoch: 60\t Train Error: 0.024\t Validation Error: 0.035\n",
      ">>> Epoch: 80\t Train Error: 0.022\t Validation Error: 0.034\n",
      ">>> Epoch: 100\t Train Error: 0.023\t Validation Error: 0.035\n",
      ">>> Epoch: 120\t Train Error: 0.024\t Validation Error: 0.034\n",
      ">>> Epoch: 140\t Train Error: 0.024\t Validation Error: 0.035\n",
      ">>> Epoch: 160\t Train Error: 0.027\t Validation Error: 0.034\n",
      ">>> Epoch: 180\t Train Error: 0.024\t Validation Error: 0.034\n",
      ">>> Epoch: 200\t Train Error: 0.023\t Validation Error: 0.034\n",
      ">>> Expected: [0.00000]  Prediction: [0.00845]\t\n",
      ">>> Expected: [1.00000]  Prediction: [0.99998]\t\n",
      ">>> Expected: [0.00000]  Prediction: [0.00030]\t\n",
      ">>> Expected: [0.00000]  Prediction: [0.36394]\t\n",
      ">>> Expected: [1.00000]  Prediction: [0.99668]\t\n",
      ">>> Expected: [1.00000]  Prediction: [0.04304]\t\n",
      ">>> Expected: [1.00000]  Prediction: [0.99892]\t\n",
      ">>> Expected: [1.00000]  Prediction: [0.84445]\t\n",
      ">>> Expected: [0.00000]  Prediction: [0.00617]\t\n",
      ">>> Expected: [1.00000]  Prediction: [0.99616]\t\n",
      ">>> Expected: [0.00000]  Prediction: [0.00335]\t\n",
      ">>> Expected: [0.00000]  Prediction: [0.11698]\t\n",
      ">>> Expected: [0.00000]  Prediction: [0.00440]\t\n",
      ">>> Expected: [0.00000]  Prediction: [0.00189]\t\n",
      ">>> Expected: [0.00000]  Prediction: [0.00000]\t\n",
      ">>> Expected: [1.00000]  Prediction: [0.99985]\t\n",
      ">>> Expected: [0.00000]  Prediction: [0.53566]\t\n",
      ">>> Expected: [1.00000]  Prediction: [0.99999]\t\n",
      ">>> Expected: [1.00000]  Prediction: [0.99570]\t\n",
      ">>> Expected: [0.00000]  Prediction: [0.00001]\t\n",
      ">>> Expected: [0.00000]  Prediction: [0.00924]\t\n",
      ">>> Expected: [0.00000]  Prediction: [0.00001]\t\n",
      ">>> Expected: [1.00000]  Prediction: [0.93733]\t\n",
      ">>> Expected: [1.00000]  Prediction: [0.99975]\t\n",
      ">>> Expected: [0.00000]  Prediction: [0.00039]\t\n",
      ">>> Expected: [0.00000]  Prediction: [0.30921]\t\n",
      ">>> Expected: [0.00000]  Prediction: [0.00033]\t\n",
      ">>> Expected: [0.00000]  Prediction: [0.00487]\t\n",
      ">>> Expected: [1.00000]  Prediction: [0.99553]\t\n",
      ">>> Expected: [0.00000]  Prediction: [0.01756]\t\n",
      ">>> Expected: [0.00000]  Prediction: [0.25332]\t\n",
      ">>> Expected: [1.00000]  Prediction: [0.97428]\t\n",
      ">>> Expected: [1.00000]  Prediction: [0.96485]\t\n",
      ">>> Expected: [0.00000]  Prediction: [0.00308]\t\n",
      ">>> Expected: [1.00000]  Prediction: [0.98974]\t\n",
      ">>> Expected: [1.00000]  Prediction: [0.99987]\t\n",
      ">>> Expected: [1.00000]  Prediction: [0.98161]\t\n",
      ">>> Expected: [0.00000]  Prediction: [0.17272]\t\n",
      ">>> Expected: [0.00000]  Prediction: [0.00002]\t\n",
      ">>> Expected: [0.00000]  Prediction: [0.00007]\t\n",
      ">>> Expected: [1.00000]  Prediction: [0.99992]\t\n",
      ">>> Expected: [1.00000]  Prediction: [0.99368]\t\n",
      ">>> Expected: [1.00000]  Prediction: [0.98574]\t\n",
      ">>> Expected: [0.00000]  Prediction: [0.00652]\t\n",
      ">>> Expected: [1.00000]  Prediction: [0.99943]\t\n",
      ">>> Expected: [1.00000]  Prediction: [0.99548]\t\n",
      ">>> Expected: [0.00000]  Prediction: [0.00011]\t\n",
      ">>> Expected: [1.00000]  Prediction: [0.99939]\t\n",
      ">>> Expected: [1.00000]  Prediction: [0.99999]\t\n",
      ">>> Expected: [0.00000]  Prediction: [0.53173]\t\n",
      ">>> Expected: [0.00000]  Prediction: [0.00050]\t\n"
     ]
    },
    {
     "data": {
      "text/plain": [
       "<matplotlib.collections.PathCollection at 0x7f97b0e432e8>"
      ]
     },
     "execution_count": 1521,
     "metadata": {},
     "output_type": "execute_result"
    },
    {
     "data": {
      "image/png": "[encoded data removed]",
      "text/plain": [
       "<matplotlib.figure.Figure at 0x7f97bd1e4a58>"
      ]
     },
     "metadata": {},
     "output_type": "display_data"
    },
    {
     "data": {
      "image/png": "[encoded data removed]",
      "text/plain": [
       "<matplotlib.figure.Figure at 0x7f97b153fbe0>"
      ]
     },
     "metadata": {},
     "output_type": "display_data"
    }
   ],
   "source": [
    "np.random.seed(1)\n",
    "np.set_printoptions(formatter={'float': lambda x: \"{0:0.5f}\".format(x)})\n",
    "\n",
    "nb_samples = 5000\n",
    "samples = np.ones((nb_samples, 3))\n",
    "distance = 2\n",
    "\n",
    "for i in range(0,nb_samples,4):\n",
    "    noise = np.random.normal(0,1,8)\n",
    "    samples[i, :] = [-distance+noise[0],-distance+noise[1], 0]\n",
    "    samples[i+1, :] = [distance+noise[2],-distance+noise[3], 1]\n",
    "    samples[i+2, :] = [-distance+noise[4],distance+noise[5], 1]\n",
    "    samples[i+3, :] = [distance+noise[6],distance+noise[7], 0]\n",
    "\n",
    "fig1=plt.figure()\n",
    "plt.title(\"{0} randomly generated data points.\".format(nb_samples))\n",
    "plt.scatter([element[0] for element in samples],\n",
    "            [element[1] for element in samples],\n",
    "            c=[element[2] for element in samples])\n",
    "\n",
    "input_pipe = InputPipeLine(samples, input_size=2, batch_size=20)\n",
    "\n",
    "layers = []\n",
    "layers.append(Layer(Linear(), size=2))\n",
    "layers.append(Layer(Relu(), size=10))\n",
    "layers.append(Layer(Sigmoid(), size=1))\n",
    "\n",
    "mlp_object = Mlp(layers, input_pipe, error=Mse())\n",
    "mlp_object.train(epochs=200, optimizer=Adam(lrate=0.01))\n",
    "results = mlp_object.test(verbose=0.05)\n",
    "\n",
    "fig2=plt.figure()\n",
    "plt.title(\"Prediction of the model on a subset of the data.\")\n",
    "plt.scatter([element[0][0] for element in results],\n",
    "            [element[0][1] for element in results],\n",
    "            c=[element[2][0] for element in results])\n",
    "     "
   ]
  },
  {
   "cell_type": "markdown",
   "metadata": {},
   "source": [
    "#### Boston house-prices"
   ]
  },
  {
   "cell_type": "code",
   "execution_count": 1531,
   "metadata": {
    "collapsed": false,
    "scrolled": true
   },
   "outputs": [
    {
     "ename": "AttributeError",
     "evalue": "module 'jupyter' has no attribute 'display'",
     "output_type": "error",
     "traceback": [
      "\u001b[0;31m---------------------------------------------------------------------------\u001b[0m",
      "\u001b[0;31mAttributeError\u001b[0m                            Traceback (most recent call last)",
      "\u001b[0;32m<ipython-input-1531-6aa20f300163>\u001b[0m in \u001b[0;36m<module>\u001b[0;34m()\u001b[0m\n\u001b[1;32m      7\u001b[0m                           columns=['CRIM','ZN','INDUS','CHAS','NOX','RM','AGE','DIS','RAD','TAX','PTRATIO','B','LSTAT'])\n\u001b[1;32m      8\u001b[0m \u001b[0;34m\u001b[0m\u001b[0m\n\u001b[0;32m----> 9\u001b[0;31m \u001b[0mjupyter\u001b[0m\u001b[0;34m.\u001b[0m\u001b[0mdisplay\u001b[0m\u001b[0;34m(\u001b[0m\u001b[0mbostondata\u001b[0m\u001b[0;34m)\u001b[0m\u001b[0;34m\u001b[0m\u001b[0m\n\u001b[0m",
      "\u001b[0;31mAttributeError\u001b[0m: module 'jupyter' has no attribute 'display'"
     ]
    }
   ],
   "source": [
    "from sklearn import datasets\n",
    "import pandas as pd\n",
    "import jupyter\n",
    "boston = datasets.load_boston()\n",
    "\n",
    "bostondata = pd.DataFrame(boston['data'],\n",
    "                          columns=['CRIM','ZN','INDUS','CHAS','NOX','RM','AGE','DIS','RAD','TAX','PTRATIO','B','LSTAT'])\n",
    "\n",
    "jupyter.display(bostondata)"
   ]
  },
  {
   "cell_type": "code",
   "execution_count": 1515,
   "metadata": {
    "collapsed": false
   },
   "outputs": [
    {
     "name": "stdout",
     "output_type": "stream",
     "text": [
      ">>> Optimizer: SGD with Momentum\n",
      ">>> Error: Mean Squared Error\n",
      ">>> Layers: 4\n",
      "\n",
      ">>> Epoch: 0\t Train Error: 437.205\t Validation Error: 179.057\n",
      ">>> WEIGHTS:\n",
      ">>> Highest values: [83 67  7]\n",
      ">>> Average values: [-0.01356 0.37552 2.42924]\n",
      ">>> Lowest values: [53 46  4]\n",
      ">>>\n",
      ">>> Epoch: 20\t Train Error: 27.938\t Validation Error: 148.253\n",
      ">>> Epoch: 40\t Train Error: 31.639\t Validation Error: 77.622\n",
      ">>> Epoch: 60\t Train Error: 35.116\t Validation Error: 107.035\n",
      ">>> Epoch: 80\t Train Error: 36.083\t Validation Error: 113.245\n",
      ">>> Epoch: 100\t Train Error: 41.666\t Validation Error: 140.335\n",
      ">>> WEIGHTS:\n",
      ">>> Highest values: [52 28  6]\n",
      ">>> Average values: [1168904577.08419 15523037642.17761 0.93440]\n",
      ">>> Lowest values: [122  20   0]\n",
      ">>>\n",
      ">>> Epoch: 120\t Train Error: 39.781\t Validation Error: 100.305\n"
     ]
    },
    {
     "name": "stderr",
     "output_type": "stream",
     "text": [
      "/home/patrik/anaconda3/lib/python3.6/site-packages/ipykernel/__main__.py:4: RuntimeWarning: overflow encountered in exp\n"
     ]
    },
    {
     "name": "stdout",
     "output_type": "stream",
     "text": [
      ">>> Epoch: 140\t Train Error: 33.348\t Validation Error: 113.770\n",
      ">>> Epoch: 160\t Train Error: 34.971\t Validation Error: 116.372\n",
      ">>> Epoch: 180\t Train Error: 33.718\t Validation Error: 109.707\n",
      ">>> Epoch: 200\t Train Error: 33.769\t Validation Error: 157.024\n",
      ">>> WEIGHTS:\n",
      ">>> Highest values: [52 26  6]\n",
      ">>> Average values: [3654885714552770527232.00000 47671187543056495673344.00000 0.97245]\n",
      ">>> Lowest values: [122  20   0]\n",
      ">>>\n",
      ">>> Epoch: 220\t Train Error: 38.125\t Validation Error: 128.640\n",
      ">>> Epoch: 240\t Train Error: 30.019\t Validation Error: 100.131\n",
      ">>> Epoch: 260\t Train Error: 33.290\t Validation Error: 113.016\n",
      ">>> Epoch: 280\t Train Error: 34.183\t Validation Error: 118.039\n",
      ">>> Epoch: 300\t Train Error: 32.697\t Validation Error: 102.488\n",
      ">>> WEIGHTS:\n",
      ">>> Highest values: [52 26  6]\n",
      ">>> Average values: [-120356394327363069444363546263552.00000\n",
      " 3855540804251331405780764267118592.00000 1.02117]\n",
      ">>> Lowest values: [122  20   0]\n",
      ">>>\n",
      ">>> Epoch: 320\t Train Error: 35.408\t Validation Error: 119.358\n",
      ">>> Epoch: 340\t Train Error: 35.840\t Validation Error: 117.043\n",
      ">>> Epoch: 360\t Train Error: 38.003\t Validation Error: 141.138\n",
      ">>> Epoch: 380\t Train Error: 28.995\t Validation Error: 104.988\n",
      ">>> Epoch: 400\t Train Error: 34.245\t Validation Error: 117.870\n",
      ">>> WEIGHTS:\n",
      ">>> Highest values: [51 16  6]\n",
      ">>> Average values: [527216469034163093474587801581959704783880192.00000\n",
      " 12905706261385452431639708947650746565166891008.00000 0.89465]\n",
      ">>> Lowest values: [121  10   0]\n",
      ">>>\n",
      ">>> Epoch: 420\t Train Error: 33.786\t Validation Error: 108.588\n",
      ">>> Epoch: 440\t Train Error: 30.925\t Validation Error: 144.846\n",
      ">>> Epoch: 460\t Train Error: 30.880\t Validation Error: 95.029\n",
      ">>> Epoch: 480\t Train Error: 31.887\t Validation Error: 127.159\n",
      ">>> Epoch: 500\t Train Error: 36.452\t Validation Error: 128.012\n",
      ">>> WEIGHTS:\n",
      ">>> Highest values: [51 16  6]\n",
      ">>> Average values: [857774501849694884943419765233081156252353646530039644160.00000\n",
      " 11412150104131184509996846104943969086129241617924410572800.00000 1.03176]\n",
      ">>> Lowest values: [121  10   0]\n",
      ">>>\n",
      ">>> Epoch: 520\t Train Error: 36.008\t Validation Error: 118.515\n",
      ">>> Epoch: 540\t Train Error: 44.516\t Validation Error: 79.067\n",
      ">>> Epoch: 560\t Train Error: 37.681\t Validation Error: 132.656\n",
      ">>> Epoch: 580\t Train Error: 31.693\t Validation Error: 138.435\n",
      ">>> Epoch: 600\t Train Error: 28.725\t Validation Error: 106.600\n",
      ">>> WEIGHTS:\n",
      ">>> Highest values: [50  6  6]\n",
      ">>> Average values: [ 634129779162443656805526592441118005656962728070809045513396874641408.00000\n",
      " 17039989086394713505459352503527154885198866858928157469757776280420352.00000\n",
      " 0.90412]\n",
      ">>> Lowest values: [120   0   0]\n",
      ">>>\n",
      ">>> Epoch: 620\t Train Error: 36.549\t Validation Error: 110.392\n",
      ">>> Epoch: 640\t Train Error: 39.060\t Validation Error: 138.343\n",
      ">>> Epoch: 660\t Train Error: 32.790\t Validation Error: 102.941\n",
      ">>> Epoch: 680\t Train Error: 32.742\t Validation Error: 115.561\n",
      ">>> Epoch: 700\t Train Error: 29.793\t Validation Error: 99.318\n",
      ">>> WEIGHTS:\n",
      ">>> Highest values: [50 16  6]\n",
      ">>> Average values: [ 213136080487926893622927545670630236215604808945249192072684138929096892117680128.00000\n",
      " 18395207376058888248831077053478086738589012014086913284471083908902598115820830720.00000\n",
      " 0.93331]\n",
      ">>> Lowest values: [120  10   0]\n",
      ">>>\n",
      ">>> Epoch: 720\t Train Error: 40.783\t Validation Error: 120.972\n",
      ">>> Epoch: 740\t Train Error: 33.495\t Validation Error: 128.489\n",
      ">>> Epoch: 760\t Train Error: 34.855\t Validation Error: 135.548\n",
      ">>> Epoch: 780\t Train Error: 32.631\t Validation Error: 96.287\n",
      ">>> Epoch: 800\t Train Error: 31.649\t Validation Error: 132.259\n",
      ">>> WEIGHTS:\n",
      ">>> Highest values: [55 58  6]\n",
      ">>> Average values: [ 853343790523511414417760567632203007200582992289969984026409470229990533201899035325104128000.00000\n",
      " 13369963227272858019336204925802984013908158130934482906522988796890923374608271596028644294656.00000\n",
      " 0.98168]\n",
      ">>> Lowest values: [125  50   0]\n",
      ">>>\n",
      ">>> Epoch: 820\t Train Error: 35.568\t Validation Error: 144.571\n",
      ">>> Epoch: 840\t Train Error: 34.097\t Validation Error: 128.115\n",
      ">>> Epoch: 860\t Train Error: 34.988\t Validation Error: 123.506\n",
      ">>> Epoch: 880\t Train Error: 35.569\t Validation Error: 89.646\n",
      ">>> Epoch: 900\t Train Error: 33.912\t Validation Error: 123.026\n",
      ">>> WEIGHTS:\n",
      ">>> Highest values: [54 47  6]\n",
      ">>> Average values: [ 1132496416820311445308115773906564507025039598147397816098273289573181042619579118119335794138524407562240.00000\n",
      " 130344089544767561988846693573033914290279395173082075617210460895405022997171440663124994770028892851798016.00000\n",
      " 0.96353]\n",
      ">>> Lowest values: [104  40   0]\n",
      ">>>\n",
      ">>> Epoch: 920\t Train Error: 33.564\t Validation Error: 105.050\n",
      ">>> Epoch: 940\t Train Error: 38.375\t Validation Error: 100.907\n",
      ">>> Epoch: 960\t Train Error: 37.179\t Validation Error: 108.570\n",
      ">>> Epoch: 980\t Train Error: 36.973\t Validation Error: 111.661\n",
      ">>> Epoch: 1000\t Train Error: 31.165\t Validation Error: 107.593\n",
      ">>> WEIGHTS:\n",
      ">>> Highest values: [50  8  6]\n",
      ">>> Average values: [ 4599265083761748383342820483863417336506526026467741399234643779414947728166498133428062677578450225975188671233523712.00000\n",
      " 97465035814536600875583039905761976957519355221162730851154373627408164682357612014818146699443350273742964146963480576.00000\n",
      " 0.89943]\n",
      ">>> Lowest values: [120   0   0]\n",
      ">>>\n",
      ">>> Expected: [9.60000]  Prediction: [28.48719]\t\n",
      ">>> Expected: [23.00000]  Prediction: [28.48719]\t\n",
      ">>> Expected: [29.80000]  Prediction: [28.48719]\t\n",
      ">>> Expected: [13.50000]  Prediction: [28.48719]\t\n",
      ">>> Expected: [13.40000]  Prediction: [17.83316]\t\n",
      ">>> Expected: [21.80000]  Prediction: [17.83316]\t\n",
      ">>> Expected: [14.50000]  Prediction: [28.48719]\t\n",
      ">>> Expected: [15.00000]  Prediction: [28.48719]\t\n",
      ">>> Expected: [24.50000]  Prediction: [17.83316]\t\n",
      ">>> Expected: [12.00000]  Prediction: [17.83316]\t\n",
      ">>> Expected: [8.70000]  Prediction: [28.48719]\t\n"
     ]
    }
   ],
   "source": [
    "#target not included\n",
    "features = len(boston['data'][0])\n",
    "nb_samples = len(boston['data'])\n",
    "\n",
    "samples1 = np.ones((nb_samples, features+1))\n",
    "\n",
    "for index in range(nb_samples):\n",
    "    samples1[index,:features] = boston['data'][index,:]\n",
    "    samples1[index,-1] = boston['target'][index]\n",
    "\n",
    "input_pipe1 = InputPipeLine(samples1, input_size=13, batch_size=100)\n",
    "\n",
    "layers1 = []\n",
    "layers1.append(Layer(Linear(), size=13))\n",
    "layers1.append(Dropout(Layer(Relu(), size=10), probability=0.5))\n",
    "layers1.append(Dropout(Layer(Sigmoid(), size=10), probability=0.5))\n",
    "layers1.append(Layer(Relu(), size=1))\n",
    "\n",
    "mlp_object1 = Mlp(layers1, input_pipe1, error=Mse())\n",
    "mlp_object1.train(epochs=1000, optimizer=Sgd(lrate=0.05))\n",
    "results1 = mlp_object1.test(verbose=0.1)"
   ]
  }
 ],
 "metadata": {
  "kernelspec": {
   "display_name": "Python 3",
   "language": "python",
   "name": "python3"
  },
  "language_info": {
   "codemirror_mode": {
    "name": "ipython",
    "version": 3
   },
   "file_extension": ".py",
   "mimetype": "text/x-python",
   "name": "python",
   "nbconvert_exporter": "python",
   "pygments_lexer": "ipython3",
   "version": "3.6.0"
  }
 },
 "nbformat": 4,
 "nbformat_minor": 2
}
