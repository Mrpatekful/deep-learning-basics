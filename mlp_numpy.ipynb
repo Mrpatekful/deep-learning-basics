{
 "cells": [
  {
   "cell_type": "code",
   "execution_count": 317,
   "metadata": {
    "collapsed": false
   },
   "outputs": [],
   "source": [
    "import numpy as np\n",
    "from random import shuffle\n",
    "import abc\n",
    "import matplotlib.pyplot as plt\n",
    "from IPython.display import Math\n",
    "from IPython.display import Latex\n",
    "from sklearn import preprocessing\n",
    "%matplotlib inline"
   ]
  },
  {
   "cell_type": "markdown",
   "metadata": {},
   "source": [
    "## Activations"
   ]
  },
  {
   "cell_type": "code",
   "execution_count": 318,
   "metadata": {
    "collapsed": false
   },
   "outputs": [],
   "source": [
    "class Activation(metaclass=abc.ABCMeta):\n",
    "    # unnecessary\n",
    "    \n",
    "    @abc.abstractmethod\n",
    "    def function(self, x):\n",
    "        \"\"\"Implementation of the activation function.\"\"\"\n",
    "        \n",
    "    @abc.abstractmethod\n",
    "    def derivative(self, x):\n",
    "        \"\"\"Derivative of the activation function.\"\"\""
   ]
  },
  {
   "cell_type": "markdown",
   "metadata": {},
   "source": [
    "#### Sigmoid"
   ]
  },
  {
   "cell_type": "code",
   "execution_count": 319,
   "metadata": {
    "collapsed": false,
    "scrolled": true
   },
   "outputs": [
    {
     "data": {
      "text/latex": [
       "\\begin{align}\n",
       "f(x)=\\frac{1}{1+e^{-x}}=\\sigma(x)\\quad\n",
       "f'(x)=\\sigma(x)\\cdot(1-\\sigma(x))=\\frac{e^{-x}}{{(1+e^{-x}})^2}\n",
       "\\end{align}"
      ],
      "text/plain": [
       "<IPython.core.display.Latex object>"
      ]
     },
     "execution_count": 319,
     "metadata": {},
     "output_type": "execute_result"
    }
   ],
   "source": [
    "Latex(r\"\"\"\\begin{align}\n",
    "f(x)=\\frac{1}{1+e^{-x}}=\\sigma(x)\\quad\n",
    "f'(x)=\\sigma(x)\\cdot(1-\\sigma(x))=\\frac{e^{-x}}{{(1+e^{-x}})^2}\n",
    "\\end{align}\"\"\")"
   ]
  },
  {
   "cell_type": "code",
   "execution_count": 320,
   "metadata": {
    "collapsed": true
   },
   "outputs": [],
   "source": [
    "class Sigmoid(Activation):\n",
    "    \n",
    "    def function(self, x):\n",
    "        return 1 / (1 + np.exp(-x))\n",
    "    \n",
    "    def derivative(self, x):\n",
    "        # alternative: self.function(x)*(1 - self.function(X))\n",
    "        return np.exp(-x)/((1+np.exp(-x))**2)"
   ]
  },
  {
   "cell_type": "code",
   "execution_count": 321,
   "metadata": {
    "collapsed": false
   },
   "outputs": [
    {
     "data": {
      "text/plain": [
       "[<matplotlib.lines.Line2D at 0x7f97c53ee668>]"
      ]
     },
     "execution_count": 321,
     "metadata": {},
     "output_type": "execute_result"
    },
    {
     "data": {
      "image/png": "[encoded data removed]",
      "text/plain": [
       "<matplotlib.figure.Figure at 0x7f97c52fa860>"
      ]
     },
     "metadata": {},
     "output_type": "display_data"
    }
   ],
   "source": [
    "x = np.linspace(-5, 5, 200)\n",
    "plt.axhline(0, linestyle='dashed')\n",
    "plt.axvline(0, linestyle='dashed')\n",
    "plt.title(\"sigmoid activation\")\n",
    "plt.plot(x,Sigmoid().function(x), color=\"red\")\n",
    "plt.plot(x,Sigmoid().derivative(x), color=\"blue\")"
   ]
  },
  {
   "cell_type": "markdown",
   "metadata": {},
   "source": [
    "#### ReLU"
   ]
  },
  {
   "cell_type": "code",
   "execution_count": 322,
   "metadata": {
    "collapsed": false,
    "scrolled": true
   },
   "outputs": [
    {
     "data": {
      "text/latex": [
       "\\begin{align}\n",
       "f(x)=\\begin{cases}\n",
       "  x, & \\text{if } x > 0, \\\\\n",
       "  0, & \\text{otherwise}.\n",
       "\\end{cases}\\quad\n",
       "f'(x)=\\begin{cases}\n",
       "  1, & \\text{if } x > 0, \\\\\n",
       "  0, & \\text{otherwise}.\n",
       "\\end{cases}\n",
       "\\end{align}"
      ],
      "text/plain": [
       "<IPython.core.display.Latex object>"
      ]
     },
     "execution_count": 322,
     "metadata": {},
     "output_type": "execute_result"
    }
   ],
   "source": [
    "Latex(r\"\"\"\\begin{align}\n",
    "f(x)=\\begin{cases}\n",
    "  x, & \\text{if } x > 0, \\\\\n",
    "  0, & \\text{otherwise}.\n",
    "\\end{cases}\\quad\n",
    "f'(x)=\\begin{cases}\n",
    "  1, & \\text{if } x > 0, \\\\\n",
    "  0, & \\text{otherwise}.\n",
    "\\end{cases}\n",
    "\\end{align}\"\"\")"
   ]
  },
  {
   "cell_type": "code",
   "execution_count": 323,
   "metadata": {
    "collapsed": true
   },
   "outputs": [],
   "source": [
    "class Relu(Activation):\n",
    "    \n",
    "    def function(self, x):\n",
    "        return x * (x > 0)\n",
    "\n",
    "    def derivative(self, x):\n",
    "        return np.array(self.function(x) != 0, dtype=\"int\")"
   ]
  },
  {
   "cell_type": "code",
   "execution_count": 324,
   "metadata": {
    "collapsed": false,
    "scrolled": true
   },
   "outputs": [
    {
     "data": {
      "text/plain": [
       "[<matplotlib.lines.Line2D at 0x7f97c528c860>]"
      ]
     },
     "execution_count": 324,
     "metadata": {},
     "output_type": "execute_result"
    },
    {
     "data": {
      "image/png": "[encoded data removed]",
      "text/plain": [
       "<matplotlib.figure.Figure at 0x7f97c5247d30>"
      ]
     },
     "metadata": {},
     "output_type": "display_data"
    }
   ],
   "source": [
    "x = np.linspace(-5, 5, 200)\n",
    "plt.axhline(0, linestyle='dashed')\n",
    "plt.axvline(0, linestyle='dashed')\n",
    "plt.title(\"relu activation\")\n",
    "plt.plot(x,Relu().function(x), color=\"red\")\n",
    "plt.plot(x,Relu().derivative(x), color=\"blue\")"
   ]
  },
  {
   "cell_type": "markdown",
   "metadata": {},
   "source": [
    "#### Softplus"
   ]
  },
  {
   "cell_type": "code",
   "execution_count": 325,
   "metadata": {
    "collapsed": false
   },
   "outputs": [
    {
     "data": {
      "text/latex": [
       "\\begin{align}\n",
       "f(x)=log(1 + e^x)\n",
       "\\quad\n",
       "f'(x)=\\frac{e^x}{1 + e^x}\n",
       "\\end{align}"
      ],
      "text/plain": [
       "<IPython.core.display.Latex object>"
      ]
     },
     "execution_count": 325,
     "metadata": {},
     "output_type": "execute_result"
    }
   ],
   "source": [
    "Latex(r\"\"\"\\begin{align}\n",
    "f(x)=log(1 + e^x)\n",
    "\\quad\n",
    "f'(x)=\\frac{e^x}{1 + e^x}\n",
    "\\end{align}\"\"\")"
   ]
  },
  {
   "cell_type": "code",
   "execution_count": 326,
   "metadata": {
    "collapsed": true
   },
   "outputs": [],
   "source": [
    "class Softplus(Activation):\n",
    "    \n",
    "    def function(self, x):\n",
    "        return np.log(1 + np.exp(x))\n",
    "\n",
    "    def derivative(self, x):\n",
    "        return np.exp(x)/(1 + np.exp(x))"
   ]
  },
  {
   "cell_type": "code",
   "execution_count": 327,
   "metadata": {
    "collapsed": false
   },
   "outputs": [
    {
     "data": {
      "text/plain": [
       "[<matplotlib.lines.Line2D at 0x7f97c5375358>]"
      ]
     },
     "execution_count": 327,
     "metadata": {},
     "output_type": "execute_result"
    },
    {
     "data": {
      "image/png": "[encoded data removed]",
      "text/plain": [
       "<matplotlib.figure.Figure at 0x7f97c53b2780>"
      ]
     },
     "metadata": {},
     "output_type": "display_data"
    }
   ],
   "source": [
    "x = np.linspace(-5, 5, 200)\n",
    "plt.axhline(0, linestyle='dashed')\n",
    "plt.axvline(0, linestyle='dashed')\n",
    "plt.title(\"relu activation\")\n",
    "plt.plot(x,Softplus().function(x), color=\"red\")\n",
    "plt.plot(x,Softplus().derivative(x), color=\"blue\")"
   ]
  },
  {
   "cell_type": "markdown",
   "metadata": {
    "collapsed": false
   },
   "source": [
    "#### Hyperbolic Tangent"
   ]
  },
  {
   "cell_type": "code",
   "execution_count": 328,
   "metadata": {
    "collapsed": false
   },
   "outputs": [
    {
     "data": {
      "text/latex": [
       "\\begin{align}\n",
       "f(x)=\\frac{e^{2x}-1}{e^{2x}+1}\n",
       "\\quad\n",
       "f'(x)=\\frac{4}{{e^{2x}+2+e^{-2x}}}\n",
       "\\end{align}"
      ],
      "text/plain": [
       "<IPython.core.display.Latex object>"
      ]
     },
     "execution_count": 328,
     "metadata": {},
     "output_type": "execute_result"
    }
   ],
   "source": [
    "Latex(r\"\"\"\\begin{align}\n",
    "f(x)=\\frac{e^{2x}-1}{e^{2x}+1}\n",
    "\\quad\n",
    "f'(x)=\\frac{4}{{e^{2x}+2+e^{-2x}}}\n",
    "\\end{align}\"\"\")"
   ]
  },
  {
   "cell_type": "code",
   "execution_count": 329,
   "metadata": {
    "collapsed": false
   },
   "outputs": [],
   "source": [
    "class Tanh(Activation):\n",
    "    \n",
    "    def function(self, x):\n",
    "        return (np.exp(2*x) - 1)/(np.exp(2*x) + 1)\n",
    "\n",
    "    def derivative(self, x):\n",
    "        # hyperbolic secant to the power of 2\n",
    "        return 4/(np.exp(2*x) + 2 + np.exp(-2*x))"
   ]
  },
  {
   "cell_type": "code",
   "execution_count": 355,
   "metadata": {
    "collapsed": false
   },
   "outputs": [
    {
     "data": {
      "text/plain": [
       "[<matplotlib.lines.Line2D at 0x7f97c506ed30>]"
      ]
     },
     "execution_count": 355,
     "metadata": {},
     "output_type": "execute_result"
    },
    {
     "data": {
      "image/png": "[encoded data removed]",
      "text/plain": [
       "<matplotlib.figure.Figure at 0x7f97c5ce9978>"
      ]
     },
     "metadata": {},
     "output_type": "display_data"
    }
   ],
   "source": [
    "x = np.linspace(-5, 5, 200)\n",
    "plt.axhline(0, linestyle='dashed')\n",
    "plt.axvline(0, linestyle='dashed')\n",
    "plt.title(\"tanh activation\")\n",
    "plt.plot(x,Tanh().function(x), color=\"red\")\n",
    "plt.plot(x,Tanh().derivative(x), color=\"blue\")"
   ]
  },
  {
   "cell_type": "markdown",
   "metadata": {},
   "source": [
    "#### Softmax"
   ]
  },
  {
   "cell_type": "code",
   "execution_count": 356,
   "metadata": {
    "collapsed": true
   },
   "outputs": [],
   "source": [
    "class Softmax(Activation):\n",
    "    \n",
    "    def function(self, x):\n",
    "        return np.exp(x)/(np.sum(np.exp(x), axis=1).reshape(x.shape[0], 1))\n",
    "    \n",
    "    def derivative(self, x):\n",
    "        return 1"
   ]
  },
  {
   "cell_type": "markdown",
   "metadata": {},
   "source": [
    "#### Linear"
   ]
  },
  {
   "cell_type": "code",
   "execution_count": 331,
   "metadata": {
    "collapsed": true
   },
   "outputs": [],
   "source": [
    "class Linear(Activation):\n",
    "    \n",
    "    def function(self, x):\n",
    "        return x\n",
    "\n",
    "    def derivative(self, x):\n",
    "        return 1"
   ]
  },
  {
   "cell_type": "markdown",
   "metadata": {},
   "source": [
    "## Input Pipeline"
   ]
  },
  {
   "cell_type": "markdown",
   "metadata": {},
   "source": [
    "In my implementation of a feed-forward net I've detached the responsibility of feeding the data into the network from the calculation model. The task of this class is to manage the input by separating the data into train, test and validation subsets, and standardizing these with the deviation and mean values of the training data. During training or testing the network receives the input in batches, which are also assembled by this class."
   ]
  },
  {
   "cell_type": "code",
   "execution_count": 332,
   "metadata": {
    "collapsed": false
   },
   "outputs": [],
   "source": [
    "class InputPipeLine:\n",
    "    \n",
    "    def __init__(self, data, train_split=0.6, valid_split=0.2, batch_size=10):\n",
    "        \"\"\"data: an array of the training, validation, and test samples, \n",
    "        where each elements consists of an array of inputs (features), \n",
    "        and an array of expected output(s) for the given input\"\"\"\n",
    "        self.scaler = None\n",
    "        self.data = None\n",
    "        self.size = None\n",
    "        self.actual_batch_size = None\n",
    "               \n",
    "        self.train_size = int(len(data)*train_split)\n",
    "        self.valid_size = int(len(data)*valid_split)\n",
    "        self.test_size = len(data)-self.valid_size-self.train_size\n",
    "        \n",
    "        assert self.test_size > 0\n",
    "        \n",
    "        self.batch_size = batch_size\n",
    "        \n",
    "        self.train, self.valid, self.test = self.separate(self.normalize(data))\n",
    "        self.index = 0\n",
    "        \n",
    "    def normalize(self, data):        \n",
    "        features = [row[0] for row in data]\n",
    "        self.scaler = preprocessing.StandardScaler().fit(features[:self.train_size])\n",
    "        data = list(zip(self.scaler.transform(features), [row[1] for row in data]))\n",
    "        return data\n",
    "    \n",
    "    def separate(self, data):\n",
    "        return (data[:self.train_size], data[self.train_size:self.train_size+self.valid_size],\n",
    "                data[self.train_size+self.valid_size:])\n",
    "            \n",
    "    def next_batch(self):\n",
    "        batch, eoe = self.step()\n",
    "        # inputs are separated from their expected output\n",
    "        # their order must remain the same\n",
    "        return (np.array([element[0] for element in batch]),\n",
    "                np.array([element[1] for element in batch]),\n",
    "                eoe)\n",
    "    \n",
    "    def set_mode(self, mode=\"train\"):\n",
    "        \"\"\"switching between phases, so the step function doesn't have to know, which is the current state\"\"\"\n",
    "        # TODO: reconsider this method\n",
    "        if mode == \"train\":\n",
    "            self.data = self.train\n",
    "            self.size = self.train_size\n",
    "            self.actual_batch_size = self.batch_size\n",
    "        elif mode == \"validation\":\n",
    "            self.data = self.valid\n",
    "            self.size = self.valid_size\n",
    "            self.actual_batch_size = self.valid_size\n",
    "        elif mode == \"test\":\n",
    "            self.data = self.test\n",
    "            self.size = self.test_size\n",
    "            self.actual_batch_size = self.test_size\n",
    "            \n",
    "    \n",
    "    def step(self):\n",
    "        # flag value signaling the end of an epoch\n",
    "        eoe = False\n",
    "        if self.index + self.actual_batch_size > self.size:\n",
    "            self.index = 0\n",
    "            # samples are shuffled after each epoch\n",
    "            # IMPORTANT: data will be shuffled and a batch will be returned\n",
    "            # after the final epoch -> eoe has to be checked before calculating result\n",
    "            shuffle(self.data)\n",
    "            eoe = True\n",
    "        \n",
    "        batch = self.data[self.index:self.index+self.actual_batch_size]\n",
    "        self.index += self.actual_batch_size\n",
    "        \n",
    "        return batch, eoe"
   ]
  },
  {
   "cell_type": "markdown",
   "metadata": {},
   "source": [
    "## Layers"
   ]
  },
  {
   "cell_type": "code",
   "execution_count": 333,
   "metadata": {
    "collapsed": true
   },
   "outputs": [],
   "source": [
    "class Layer:\n",
    "    \n",
    "    def __init__(self, activation, size):\n",
    "        self.activation = activation\n",
    "        self.value = None\n",
    "        self.size = size\n",
    "        \n",
    "    def forward(self, x):\n",
    "        self.value = self.activation.function(x)\n",
    "        return self.value\n",
    "        \n",
    "    def backward(self):\n",
    "        return self.activation.derivative(self.value)\n",
    "    \n",
    "    def isDropout(self):\n",
    "        return False"
   ]
  },
  {
   "cell_type": "markdown",
   "metadata": {},
   "source": [
    "#### Dropout\n",
    "\n",
    "A reguralization layer that creates a mask over the neurons, and nullifies each output value with p probability. Dropout prevents overfitting as it combines an exponential amount of network architectures, rendering the ability of the individual neurons to develop co-dependency amongst each other during the training phase significantly lower. The network is forced to learn the data with a different subset of parameters, which means it has to learn a more generalized representation of the data to generate good results.\n",
    "\n",
    "Let i be the i-th layer in a feed-forward neural network, x denote the vector output of the (i-1)-th layer, W and b are the weights and biases between the (i-1)-th and i-th layer, and m be a mask that has the same dimensions as x. The multiplication in the (2) is an element-wise product, while the one in (3) is standard matrix multiplication dot product."
   ]
  },
  {
   "cell_type": "code",
   "execution_count": 334,
   "metadata": {
    "collapsed": false
   },
   "outputs": [
    {
     "data": {
      "text/latex": [
       "\\begin{align}\n",
       "m^{(i-1)} \\sim Bernoulli(p) \\\\\n",
       "\\tilde{x}^{(i-1)} = x^{(i-1)}\\cdot m^{(i-1)} \\\\\n",
       "s^{(i)}=W^{(i-1)}\\cdot \\tilde{x}^{(i-1)}+b^{(i-1)} \\\\\n",
       "y^{(i)}=f(s^{(i)})\n",
       "\\end{align}"
      ],
      "text/plain": [
       "<IPython.core.display.Latex object>"
      ]
     },
     "execution_count": 334,
     "metadata": {},
     "output_type": "execute_result"
    }
   ],
   "source": [
    "Latex(r\"\"\"\\begin{align}\n",
    "m^{(i-1)} \\sim Bernoulli(p) \\\\\n",
    "\\tilde{x}^{(i-1)} = x^{(i-1)}\\cdot m^{(i-1)} \\\\\n",
    "s^{(i)}=W^{(i-1)}\\cdot \\tilde{x}^{(i-1)}+b^{(i-1)} \\\\\n",
    "y^{(i)}=f(s^{(i)})\n",
    "\\end{align}\"\"\")"
   ]
  },
  {
   "cell_type": "markdown",
   "metadata": {},
   "source": [
    "By applying the dropout on a layer, we are using only n*p (n is the number of units in a layer) neurons, hence, the expected output is p times the output without dropout. During testing phase or inference, we want to use the full neural network, so we have to scale down the output values in that layer. An alternative way of handling this issue is scaling up the output of the neurons during training phase, by dividing with p, so we don't have to deal with scaling during testing phase."
   ]
  },
  {
   "cell_type": "code",
   "execution_count": 335,
   "metadata": {
    "collapsed": false
   },
   "outputs": [],
   "source": [
    "class Dropout(Layer):\n",
    "    \n",
    "    def __init__(self, layer, probability):\n",
    "        super().__init__(layer.activation, layer.size)\n",
    "        self.probability = probability\n",
    "        # bernoulli distribution as the probabilty of retaining the neuron\n",
    "        self.mask = np.random.binomial(1, self.probability, size=self.size)\n",
    "    \n",
    "    def forward(self, x):\n",
    "        # using the \"alternative\" method described above\n",
    "        return np.multiply(Layer.forward(self, x), self.mask)/self.probability\n",
    "        \n",
    "    def backward(self):\n",
    "        # recreate the mask after the backward step\n",
    "        product = np.multiply(Layer.backward(self), self.mask)\n",
    "        self.mask = np.random.binomial(1, self.probability, size=self.size)\n",
    "        return product\n",
    "    \n",
    "    def isDropout(self):\n",
    "        return True\n",
    "    \n",
    "    def remask(self, probability):\n",
    "        self.mask = np.random.binomial(1, probability, size=self.size)"
   ]
  },
  {
   "cell_type": "markdown",
   "metadata": {},
   "source": [
    "#### Batch normalization"
   ]
  },
  {
   "cell_type": "code",
   "execution_count": 336,
   "metadata": {
    "collapsed": false
   },
   "outputs": [],
   "source": [
    "class BatchNorm(Layer):\n",
    "    pass"
   ]
  },
  {
   "cell_type": "markdown",
   "metadata": {},
   "source": [
    "## Optimizers"
   ]
  },
  {
   "cell_type": "code",
   "execution_count": 338,
   "metadata": {
    "collapsed": true
   },
   "outputs": [],
   "source": [
    "class Optimizer(metaclass=abc.ABCMeta):\n",
    "    \n",
    "    @abc.abstractmethod\n",
    "    def modify_weights(self, batch_size, layers, weights, biases, deltas):\n",
    "        \"\"\"method responsible for modifying the weights of the model\"\"\""
   ]
  },
  {
   "cell_type": "markdown",
   "metadata": {},
   "source": [
    "#### Stochastic Gradient Descent with Momentum"
   ]
  },
  {
   "cell_type": "code",
   "execution_count": null,
   "metadata": {
    "collapsed": true
   },
   "outputs": [],
   "source": []
  },
  {
   "cell_type": "code",
   "execution_count": 339,
   "metadata": {
    "collapsed": false
   },
   "outputs": [],
   "source": [
    "class Sgd:\n",
    "    \n",
    "    def __init__(self, lrate=0.01, momentum=0.9):\n",
    "        self.lrate = lrate\n",
    "        self.momentum = momentum\n",
    "        self.dws = None\n",
    "        self.dbs = None\n",
    "\n",
    "    def modify_weights(self, batch_size, layers, weights, biases, deltas):\n",
    "        if self.dws is None:\n",
    "            self.dws = [0]*len(weights)\n",
    "            self.dbs = [0]*len(weights)\n",
    "            \n",
    "        for index in range(len(deltas)):\n",
    "            delta = np.atleast_2d(deltas[index])\n",
    "            \n",
    "            dw = (-self.lrate*np.dot(layers[index].value.T, delta) + \n",
    "                  self.momentum*self.dws[index])/batch_size\n",
    "            self.dws[index] = dw\n",
    "            \n",
    "            db = np.sum(-self.lrate*delta + self.momentum*self.dbs[index], axis=0)/batch_size\n",
    "            self.dbs[index] = db\n",
    "            \n",
    "            weights[index] += dw\n",
    "            biases[index] += db"
   ]
  },
  {
   "cell_type": "markdown",
   "metadata": {},
   "source": [
    "#### Adaptive Subgradient"
   ]
  },
  {
   "cell_type": "code",
   "execution_count": null,
   "metadata": {
    "collapsed": true
   },
   "outputs": [],
   "source": []
  },
  {
   "cell_type": "code",
   "execution_count": 340,
   "metadata": {
    "collapsed": true
   },
   "outputs": [],
   "source": [
    "class Adagrad:\n",
    "    \n",
    "    def __init__(self, lrate=0.01, epsilon=10e-4):\n",
    "        self.lrate = lrate\n",
    "        self.epsilon = epsilon\n",
    "        self.walphas = None\n",
    "        self.balphas = None\n",
    "    \n",
    "    def modify_weights(self, batch_size, layers, weights, biases, deltas):\n",
    "        if self.walphas is None:\n",
    "            self.walphas = [0]*len(weights)\n",
    "            self.balphas = [0]*len(weights)\n",
    "            \n",
    "        for index in range(len(deltas)):\n",
    "            delta = np.atleast_2d(deltas[index])\n",
    "            \n",
    "            dw = np.dot(layers[index].value.T, delta)/batch_size\n",
    "            walpha = self.walphas[index] + dw**2\n",
    "            self.walphas[index] = walpha\n",
    "            \n",
    "            db = np.sum(delta, axis=0)/batch_size\n",
    "            balpha = self.balphas[index] + db**2\n",
    "            self.balphas[index] = balpha\n",
    "            \n",
    "            weights[index] += (-self.lrate*dw/(walpha**(1/2)+self.epsilon))\n",
    "            biases[index] += (-self.lrate*db/(balpha**(1/2)+self.epsilon))"
   ]
  },
  {
   "cell_type": "markdown",
   "metadata": {},
   "source": [
    "#### RMSProp"
   ]
  },
  {
   "cell_type": "code",
   "execution_count": null,
   "metadata": {
    "collapsed": true
   },
   "outputs": [],
   "source": []
  },
  {
   "cell_type": "code",
   "execution_count": 341,
   "metadata": {
    "collapsed": false
   },
   "outputs": [],
   "source": [
    "class Rmsprop:\n",
    "    \n",
    "    def __init__(self, lrate=0.01, alpha=0.9, epsilon=10e-4):\n",
    "        self.lrate = lrate\n",
    "        self.alpha = alpha\n",
    "        self.epsilon = epsilon\n",
    "        self.walphas = None\n",
    "        self.balphas = None\n",
    "    \n",
    "    def modify_weights(self, batch_size, layers, weights, biases, deltas):\n",
    "        if self.walphas is None:\n",
    "            self.walphas = [0]*len(weights)\n",
    "            self.balphas = [0]*len(weights)\n",
    "            \n",
    "        for index in range(len(deltas)):\n",
    "            delta = np.atleast_2d(deltas[index])\n",
    "            \n",
    "            dw = np.dot(layers[index].value.T, delta)/batch_size\n",
    "            walpha = self.alpha*self.walphas[index] + (1-self.alpha)*dw**2\n",
    "            self.walphas[index] = walpha\n",
    "            \n",
    "            db = np.sum(delta, axis=0)/batch_size\n",
    "            balpha = self.alpha*self.balphas[index] + (1-self.alpha)*db**2\n",
    "            self.balphas[index] = balpha\n",
    "            \n",
    "            weights[index] += (-self.lrate*dw/(walpha**(1/2)+self.epsilon))\n",
    "            biases[index] += (-self.lrate*db/(balpha**(1/2)+self.epsilon))"
   ]
  },
  {
   "cell_type": "markdown",
   "metadata": {},
   "source": [
    "#### ADAM"
   ]
  },
  {
   "cell_type": "code",
   "execution_count": 342,
   "metadata": {
    "collapsed": false
   },
   "outputs": [
    {
     "data": {
      "text/latex": [
       "\\begin{align}\n",
       "t\\gets t+1 \\\\\n",
       "g_t\\gets \\Delta_\\theta f_t(\\theta_{t-1}) \\\\\n",
       "m_t\\gets \\beta_1\\cdot m_{t-1}+(1-\\beta_1)\\cdot g_t \\\\\n",
       "v_t\\gets \\beta_2\\cdot v_{t-1}+(1-\\beta_2)\\cdot g_t^2 \\\\\n",
       "\\bar{m_t}\\gets \\frac{m_t}{1-\\beta_1^t} \\\\\n",
       "\\bar{v_t}\\gets \\frac{v_t}{1-\\beta_2^t} \\\\\n",
       "\\theta_t \\gets \\theta_{t-1}-\\frac{\\alpha\\cdot \\bar{m_t}}{\\sqrt{\\bar{v_t}}+\\epsilon}\n",
       "\\end{align}"
      ],
      "text/plain": [
       "<IPython.core.display.Latex object>"
      ]
     },
     "execution_count": 342,
     "metadata": {},
     "output_type": "execute_result"
    }
   ],
   "source": [
    "Latex(r\"\"\"\\begin{align}\n",
    "t\\gets t+1 \\\\\n",
    "g_t\\gets \\Delta_\\theta f_t(\\theta_{t-1}) \\\\\n",
    "m_t\\gets \\beta_1\\cdot m_{t-1}+(1-\\beta_1)\\cdot g_t \\\\\n",
    "v_t\\gets \\beta_2\\cdot v_{t-1}+(1-\\beta_2)\\cdot g_t^2 \\\\\n",
    "\\bar{m_t}\\gets \\frac{m_t}{1-\\beta_1^t} \\\\\n",
    "\\bar{v_t}\\gets \\frac{v_t}{1-\\beta_2^t} \\\\\n",
    "\\theta_t \\gets \\theta_{t-1}-\\frac{\\alpha\\cdot \\bar{m_t}}{\\sqrt{\\bar{v_t}}+\\epsilon}\n",
    "\\end{align}\"\"\")"
   ]
  },
  {
   "cell_type": "code",
   "execution_count": 343,
   "metadata": {
    "collapsed": false
   },
   "outputs": [],
   "source": [
    "class Adam():\n",
    "    \n",
    "    def __init__(self, lrate=0.01, beta1=0.9, beta2=0.999, epsilon=10e-8):\n",
    "        self.lrate = lrate\n",
    "        self.beta1 = beta1\n",
    "        self.beta2 = beta2\n",
    "        self.epsilon = epsilon\n",
    "        self.mws = None\n",
    "        self.mbs = None\n",
    "        self.vws = None\n",
    "        self.vbs = None\n",
    "        self.t = 0\n",
    "    \n",
    "    def modify_weights(self, batch_size, layers, weights, biases, deltas):\n",
    "        if self.mws is None:\n",
    "            self.mws = [0]*len(weights)\n",
    "            self.mbs = [0]*len(weights)\n",
    "            self.vws = [0]*len(weights)\n",
    "            self.vbs = [0]*len(weights)\n",
    "            \n",
    "        self.t += 1\n",
    "        for index in range(len(deltas)):\n",
    "            delta = np.atleast_2d(deltas[index])\n",
    "            \n",
    "            dw = np.dot(layers[index].value.T, delta)/batch_size\n",
    "            mw = self.beta1*self.mws[index] + (1-self.beta1)*dw\n",
    "            vw = self.beta2*self.vws[index] + (1-self.beta2)*dw**2\n",
    "            mw_h = mw/(1-self.beta1**self.t)\n",
    "            vw_h = vw/(1-self.beta2**self.t)\n",
    "            self.mws[index] = mw\n",
    "            self.vws[index] = vw\n",
    "            \n",
    "            db = np.sum(delta, axis=0)/batch_size\n",
    "            mb = self.beta1*self.mbs[index] + (1-self.beta1)*db\n",
    "            vb = self.beta2*self.vbs[index] + (1-self.beta2)*db**2\n",
    "            mb_h = mb/(1-self.beta1**self.t)\n",
    "            vb_h = vb/(1-self.beta2**self.t)\n",
    "            self.mbs[index] = mb\n",
    "            self.vbs[index] = vb\n",
    "            \n",
    "            weights[index] += (-self.lrate*mw_h/(vw_h**(1/2)+self.epsilon))\n",
    "            biases[index] += (-self.lrate*mb_h/(vb_h**(1/2)+self.epsilon))"
   ]
  },
  {
   "cell_type": "markdown",
   "metadata": {},
   "source": [
    "## Error"
   ]
  },
  {
   "cell_type": "code",
   "execution_count": 344,
   "metadata": {
    "collapsed": true
   },
   "outputs": [],
   "source": [
    "class Error(metaclass=abc.ABCMeta):\n",
    "    # unnecessary\n",
    "    \n",
    "    @abc.abstractmethod\n",
    "    def function(self, target, pred):\n",
    "        \"\"\"Implementation of the error function.\"\"\"\n",
    "        \n",
    "    @abc.abstractmethod\n",
    "    def derivative(self, target, pred):\n",
    "        \"\"\"Derivative of the error function.\"\"\""
   ]
  },
  {
   "cell_type": "markdown",
   "metadata": {},
   "source": [
    "#### Mean square error"
   ]
  },
  {
   "cell_type": "code",
   "execution_count": null,
   "metadata": {
    "collapsed": true
   },
   "outputs": [],
   "source": []
  },
  {
   "cell_type": "code",
   "execution_count": 345,
   "metadata": {
    "collapsed": true
   },
   "outputs": [],
   "source": [
    "class Mse(Error):\n",
    "    \n",
    "    def function(self, target, pred):\n",
    "        return (target-pred)**2\n",
    "    \n",
    "    def derivative(self, target, pred):\n",
    "        return -2*(target-pred)"
   ]
  },
  {
   "cell_type": "markdown",
   "metadata": {},
   "source": [
    "#### Cross Entropy"
   ]
  },
  {
   "cell_type": "code",
   "execution_count": null,
   "metadata": {
    "collapsed": true
   },
   "outputs": [],
   "source": []
  },
  {
   "cell_type": "code",
   "execution_count": 346,
   "metadata": {
    "collapsed": true
   },
   "outputs": [],
   "source": [
    "class CrossEntropy(Error):\n",
    "    \n",
    "    def function(self, target, pred):\n",
    "        return -target*np.log(pred)\n",
    "    \n",
    "    # TODO\n",
    "    def derivative(self, target, pred):\n",
    "        return pred - target"
   ]
  },
  {
   "cell_type": "markdown",
   "metadata": {},
   "source": [
    "#### Binary Cross Entropy"
   ]
  },
  {
   "cell_type": "code",
   "execution_count": null,
   "metadata": {
    "collapsed": true
   },
   "outputs": [],
   "source": []
  },
  {
   "cell_type": "code",
   "execution_count": 347,
   "metadata": {
    "collapsed": true
   },
   "outputs": [],
   "source": [
    "class BinaryCrossEntropy(Error):\n",
    "    \n",
    "    def function(self, target, pred):\n",
    "        return -(target*np.log(pred) + (1 - target)*np.log(1 - pred))\n",
    "    \n",
    "    # TODO\n",
    "    def derivative(self, target, pred):\n",
    "        return pred - target"
   ]
  },
  {
   "cell_type": "markdown",
   "metadata": {},
   "source": [
    "## Model"
   ]
  },
  {
   "cell_type": "code",
   "execution_count": 381,
   "metadata": {
    "collapsed": false
   },
   "outputs": [],
   "source": [
    "class Mlp:\n",
    "    \n",
    "    def __init__(self, layers, input_pipe, error=Mse()):\n",
    "        self.layers = layers\n",
    "        self.input_pipe = input_pipe\n",
    "        self.error = error\n",
    "        self.weights, self.biases = self.init_weights()\n",
    "        \n",
    "        self.optimizer = None\n",
    "        self.batch_size = None\n",
    "        \n",
    "    def init_weights(self):\n",
    "        weights = []\n",
    "        biases = []\n",
    "        for index in range(len(self.layers)-1):\n",
    "            # xavier weight initialization\n",
    "            xav_scale = (6/(self.layers[index].size**(1/2)+self.layers[index+1].size**(1/2)))\n",
    "                \n",
    "            weights.append(np.random.rand(self.layers[index].size, \n",
    "                                          self.layers[index + 1].size)*2*xav_scale-xav_scale)\n",
    "            biases.append(np.random.rand(1, \n",
    "                                         self.layers[index + 1].size)*2*xav_scale-xav_scale)\n",
    "\n",
    "        return weights, biases\n",
    "            \n",
    "    def train(self, epochs=100, optimizer=Sgd()):\n",
    "        self.optimizer = optimizer\n",
    "        \n",
    "        for epoch in range(epochs+1):\n",
    "            self.input_pipe.set_mode(\"train\")\n",
    "            \n",
    "            train_error = 0\n",
    "            valid_error = 0\n",
    "            \n",
    "            while True:\n",
    "                x, y, eoe = self.input_pipe.next_batch()\n",
    "                if eoe:\n",
    "                    break\n",
    "                self.forward_prop(x)\n",
    "                train_error += self.back_prop(y)\n",
    "                \n",
    "                    \n",
    "            self.input_pipe.set_mode(\"validation\")\n",
    "            x, y, _ = self.input_pipe.next_batch()\n",
    "            \n",
    "            # TODO: correct error (%batch_size)\n",
    "            valid_error = (self.error.function(y, self.predict(x)).sum()\n",
    "            /self.input_pipe.valid_size/self.layers[-1].size)\n",
    "            train_error = (train_error/self.input_pipe.train_size/self.layers[-1].size)\n",
    "            \n",
    "            if epoch % 20 == 0:\n",
    "                print(\">>> Epoch: {0}\\t Train Error: {1:.3f}\\t Validation Error: {2:.3f}\"\n",
    "                      .format(epoch, train_error, valid_error))\n",
    "            \n",
    "    def predict(self, x):\n",
    "        self.layers[0].forward(x)\n",
    "        \n",
    "        for index in range(len(self.weights)):\n",
    "            layer = self.layers[index+1]\n",
    "            \n",
    "            # removing dropout mask\n",
    "            if layer.isDropout():\n",
    "                layer.remask(1)\n",
    "                \n",
    "            layer.forward(np.dot(self.layers[index].value, \n",
    "                                 self.weights[index]) + self.biases[index])\n",
    "            \n",
    "            # replacing the mask\n",
    "            if layer.isDropout():\n",
    "                layer.remask(layer.probability)\n",
    "        \n",
    "        return self.layers[-1].value\n",
    "    \n",
    "    def test(self, x=None, target=None, verbose=1):\n",
    "        # to make a custom prediction both x (inputs) and y (expected outputs) must be given\n",
    "        if x or target is None:\n",
    "            # otherwise prediction will be made from the test set\n",
    "            self.input_pipe.set_mode(\"test\")\n",
    "            x, target, _ = self.input_pipe.next_batch()\n",
    "        \n",
    "        results = list(zip(x, target, self.predict(x)))\n",
    "        for index, row  in enumerate(results):\n",
    "            if index > len(results)*verbose:\n",
    "                break\n",
    "            print(\">>> Expected: {0}  Prediction: {1}\\t\".format(row[1], row[2]))\n",
    "            \n",
    "        return results\n",
    "                \n",
    "    def forward_prop(self, x):\n",
    "        self.batch_size = x.shape[0]\n",
    "        self.layers[0].forward(x) # tanuljá robi\n",
    "        \n",
    "        for index in range(len(self.weights)):\n",
    "            self.layers[index+1].forward(np.dot(self.layers[index].value, \n",
    "                            self.weights[index]) + self.biases[index])\n",
    "        \n",
    "    def back_prop(self, target):\n",
    "        deltas = []\n",
    "        \n",
    "        # crossent + bincrossent -> softmax, sigmoid\n",
    "        # TODO: derivative fix\n",
    "        deltas.append(np.multiply(self.error.derivative(target, self.layers[-1].value),\n",
    "                                  self.layers[-1].backward()))\n",
    "        \n",
    "        for index in range(len(self.weights)-1, 0,-1):\n",
    "            deltas.insert(0, np.multiply(np.dot(deltas[0],self.weights[index].T), \n",
    "                                      self.layers[index].backward()))\n",
    "        \n",
    "        self.optimizer.modify_weights(self.batch_size, self.layers, self.weights, self.biases, deltas)\n",
    "        \n",
    "        return self.error.function(target, self.layers[-1].value).sum()    "
   ]
  },
  {
   "cell_type": "code",
   "execution_count": 349,
   "metadata": {
    "collapsed": true
   },
   "outputs": [],
   "source": [
    "class Logger:\n",
    "    \n",
    "    def __init__():\n",
    "        pass\n",
    "    \n",
    "    def print_log():\n",
    "        pass"
   ]
  },
  {
   "cell_type": "markdown",
   "metadata": {},
   "source": [
    "## Examples"
   ]
  },
  {
   "cell_type": "markdown",
   "metadata": {},
   "source": [
    "#### XOR problem"
   ]
  },
  {
   "cell_type": "code",
   "execution_count": 382,
   "metadata": {
    "collapsed": false,
    "scrolled": false
   },
   "outputs": [
    {
     "name": "stdout",
     "output_type": "stream",
     "text": [
      ">>> Epoch: 0\t Train Error: 0.126\t Validation Error: 0.046\n",
      ">>> Epoch: 20\t Train Error: 0.022\t Validation Error: 0.035\n",
      ">>> Epoch: 40\t Train Error: 0.024\t Validation Error: 0.034\n",
      ">>> Epoch: 60\t Train Error: 0.023\t Validation Error: 0.034\n",
      ">>> Epoch: 80\t Train Error: 0.023\t Validation Error: 0.035\n",
      ">>> Epoch: 100\t Train Error: 0.024\t Validation Error: 0.034\n",
      ">>> Expected: [1]  Prediction: [ 0.69826762]\t\n",
      ">>> Expected: [1]  Prediction: [ 0.99815612]\t\n",
      ">>> Expected: [1]  Prediction: [ 0.99980936]\t\n",
      ">>> Expected: [0]  Prediction: [ 0.00069594]\t\n",
      ">>> Expected: [0]  Prediction: [ 0.00146563]\t\n",
      ">>> Expected: [0]  Prediction: [ 0.01218635]\t\n",
      ">>> Expected: [1]  Prediction: [ 0.12606471]\t\n",
      ">>> Expected: [1]  Prediction: [ 0.99988727]\t\n",
      ">>> Expected: [1]  Prediction: [ 0.99941919]\t\n",
      ">>> Expected: [1]  Prediction: [ 0.49804761]\t\n",
      ">>> Expected: [0]  Prediction: [  2.33733700e-05]\t\n",
      ">>> Expected: [1]  Prediction: [ 0.99168877]\t\n",
      ">>> Expected: [1]  Prediction: [ 0.99476299]\t\n",
      ">>> Expected: [0]  Prediction: [ 0.00256764]\t\n",
      ">>> Expected: [0]  Prediction: [ 0.00394322]\t\n",
      ">>> Expected: [0]  Prediction: [ 0.00014017]\t\n",
      ">>> Expected: [0]  Prediction: [ 0.00749879]\t\n",
      ">>> Expected: [1]  Prediction: [ 0.9998626]\t\n",
      ">>> Expected: [0]  Prediction: [ 0.00237203]\t\n",
      ">>> Expected: [1]  Prediction: [ 0.99848494]\t\n",
      ">>> Expected: [0]  Prediction: [  4.91002920e-05]\t\n",
      ">>> Expected: [0]  Prediction: [ 0.00017037]\t\n",
      ">>> Expected: [0]  Prediction: [ 0.06218383]\t\n",
      ">>> Expected: [0]  Prediction: [ 0.03770623]\t\n",
      ">>> Expected: [1]  Prediction: [ 0.9999145]\t\n",
      ">>> Expected: [1]  Prediction: [ 0.99838135]\t\n",
      ">>> Expected: [0]  Prediction: [ 0.00868408]\t\n",
      ">>> Expected: [1]  Prediction: [ 0.99997896]\t\n",
      ">>> Expected: [1]  Prediction: [ 0.99314476]\t\n",
      ">>> Expected: [0]  Prediction: [ 0.00033048]\t\n",
      ">>> Expected: [1]  Prediction: [ 0.9928957]\t\n",
      ">>> Expected: [1]  Prediction: [ 0.99934311]\t\n",
      ">>> Expected: [1]  Prediction: [ 0.9984543]\t\n",
      ">>> Expected: [0]  Prediction: [ 0.00444439]\t\n",
      ">>> Expected: [1]  Prediction: [ 0.99536413]\t\n",
      ">>> Expected: [0]  Prediction: [ 0.0317256]\t\n",
      ">>> Expected: [1]  Prediction: [ 0.46632244]\t\n",
      ">>> Expected: [0]  Prediction: [ 0.01109639]\t\n",
      ">>> Expected: [0]  Prediction: [ 0.01961767]\t\n",
      ">>> Expected: [1]  Prediction: [ 0.99950746]\t\n",
      ">>> Expected: [0]  Prediction: [  8.01402121e-05]\t\n",
      ">>> Expected: [1]  Prediction: [ 0.9991283]\t\n",
      ">>> Expected: [0]  Prediction: [ 0.00403112]\t\n",
      ">>> Expected: [1]  Prediction: [ 0.99771827]\t\n",
      ">>> Expected: [1]  Prediction: [ 0.99999025]\t\n",
      ">>> Expected: [1]  Prediction: [ 0.9998518]\t\n",
      ">>> Expected: [0]  Prediction: [ 0.06777303]\t\n",
      ">>> Expected: [0]  Prediction: [ 0.11936276]\t\n",
      ">>> Expected: [1]  Prediction: [ 0.99959402]\t\n",
      ">>> Expected: [1]  Prediction: [ 0.9832021]\t\n",
      ">>> Expected: [1]  Prediction: [ 0.94008426]\t\n"
     ]
    },
    {
     "data": {
      "text/plain": [
       "<matplotlib.collections.PathCollection at 0x7f97c4596198>"
      ]
     },
     "execution_count": 382,
     "metadata": {},
     "output_type": "execute_result"
    },
    {
     "data": {
      "image/png": "[encoded data removed]",
      "text/plain": [
       "<matplotlib.figure.Figure at 0x7f97c413b668>"
      ]
     },
     "metadata": {},
     "output_type": "display_data"
    },
    {
     "data": {
      "image/png": "[encoded data removed]",
      "text/plain": [
       "<matplotlib.figure.Figure at 0x7f97c40d4c50>"
      ]
     },
     "metadata": {},
     "output_type": "display_data"
    }
   ],
   "source": [
    "np.random.seed(1)\n",
    "\n",
    "nb_samples = 5000\n",
    "samples = []\n",
    "distance = 2\n",
    "for i in range(0,nb_samples,4):\n",
    "    noise = np.random.normal(0,1,8)\n",
    "    samples.append([[-distance+noise[0],-distance+noise[1]], [0]])\n",
    "    samples.append([[distance+noise[2],-distance+noise[3]],[1]])\n",
    "    samples.append([[-distance+noise[4],distance+noise[5]],[1]])\n",
    "    samples.append([[distance+noise[6],distance+noise[7]], [0]])\n",
    "\n",
    "fig1=plt.figure()\n",
    "plt.title(\"{0} randomly generated data points.\".format(nb_samples))\n",
    "plt.scatter([element[0][0] for element in samples],\n",
    "            [element[0][1] for element in samples],\n",
    "            c=[element[1][0] for element in samples])\n",
    "\n",
    "input_pipe = InputPipeLine(samples, batch_size=20)\n",
    "\n",
    "layers = []\n",
    "layers.append(Layer(Linear(), size=2))\n",
    "layers.append(Layer(Relu(), size=10))\n",
    "layers.append(Layer(Sigmoid(), size=1))\n",
    "\n",
    "mlp_object = Mlp(layers, input_pipe, error=Mse())\n",
    "mlp_object.train(epochs=100, optimizer=Rmsprop(lrate=0.01))\n",
    "results = mlp_object.test(verbose=0.05)\n",
    "\n",
    "fig2=plt.figure()\n",
    "plt.title(\"Prediction of the model on a subset of the data.\")\n",
    "plt.scatter([element[0][0] for element in results],\n",
    "            [element[0][1] for element in results],\n",
    "            c=[element[2][0] for element in results])\n",
    "     "
   ]
  },
  {
   "cell_type": "markdown",
   "metadata": {},
   "source": [
    "#### MNIST classification"
   ]
  },
  {
   "cell_type": "code",
   "execution_count": null,
   "metadata": {
    "collapsed": false
   },
   "outputs": [],
   "source": []
  }
 ],
 "metadata": {
  "kernelspec": {
   "display_name": "Python 3",
   "language": "python",
   "name": "python3"
  },
  "language_info": {
   "codemirror_mode": {
    "name": "ipython",
    "version": 3
   },
   "file_extension": ".py",
   "mimetype": "text/x-python",
   "name": "python",
   "nbconvert_exporter": "python",
   "pygments_lexer": "ipython3",
   "version": "3.6.0"
  }
 },
 "nbformat": 4,
 "nbformat_minor": 2
}
