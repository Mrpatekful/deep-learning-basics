{
 "cells": [
  {
   "cell_type": "code",
   "execution_count": 620,
   "metadata": {
    "collapsed": false
   },
   "outputs": [],
   "source": [
    "import numpy as np\n",
    "from random import shuffle\n",
    "import abc\n",
    "import matplotlib.pyplot as plt\n",
    "from IPython.display import Math\n",
    "from IPython.display import Latex\n",
    "from sklearn import preprocessing\n",
    "%matplotlib inline"
   ]
  },
  {
   "cell_type": "markdown",
   "metadata": {},
   "source": [
    "## Activations"
   ]
  },
  {
   "cell_type": "code",
   "execution_count": 130,
   "metadata": {
    "collapsed": false
   },
   "outputs": [],
   "source": [
    "class Activation(metaclass=abc.ABCMeta):\n",
    "    \n",
    "    @abc.abstractmethod\n",
    "    def function(self, x):\n",
    "        \"\"\"Implementation of the activation function.\"\"\"\n",
    "        \n",
    "    @abc.abstractmethod\n",
    "    def derivative(self, x):\n",
    "        \"\"\"Derivative of the activation function.\"\"\""
   ]
  },
  {
   "cell_type": "markdown",
   "metadata": {},
   "source": [
    "### Sigmoid"
   ]
  },
  {
   "cell_type": "code",
   "execution_count": 174,
   "metadata": {
    "collapsed": false,
    "scrolled": true
   },
   "outputs": [
    {
     "data": {
      "text/latex": [
       "\\begin{align}\n",
       "f(x)=\\frac{1}{1+e^{-x}}=\\sigma(x)\\quad\n",
       "f'(x)=\\sigma(x)\\cdot(1-\\sigma(x))=\\frac{e^{-x}}{{(1+e^{-x}})^2}\n",
       "\\end{align}"
      ],
      "text/plain": [
       "<IPython.core.display.Latex object>"
      ]
     },
     "execution_count": 174,
     "metadata": {},
     "output_type": "execute_result"
    }
   ],
   "source": [
    "Latex(r\"\"\"\\begin{align}\n",
    "f(x)=\\frac{1}{1+e^{-x}}=\\sigma(x)\\quad\n",
    "f'(x)=\\sigma(x)\\cdot(1-\\sigma(x))=\\frac{e^{-x}}{{(1+e^{-x}})^2}\n",
    "\\end{align}\"\"\")"
   ]
  },
  {
   "cell_type": "code",
   "execution_count": 497,
   "metadata": {
    "collapsed": true
   },
   "outputs": [],
   "source": [
    "class Sigmoid(Activation):\n",
    "    \n",
    "    def function(self, x):\n",
    "        return 1 / (1 + np.exp(-x))\n",
    "    \n",
    "    def derivative(self, x):\n",
    "        # alternative: self.function(x)*(1 - self.function(X))\n",
    "        return np.exp(-x)/(1+np.exp(-x))**2"
   ]
  },
  {
   "cell_type": "code",
   "execution_count": 622,
   "metadata": {
    "collapsed": false
   },
   "outputs": [
    {
     "data": {
      "text/plain": [
       "[<matplotlib.lines.Line2D at 0x7f5c59673588>]"
      ]
     },
     "execution_count": 622,
     "metadata": {},
     "output_type": "execute_result"
    },
    {
     "data": {
      "image/png": "[encoded data removed]",
      "text/plain": [
       "<matplotlib.figure.Figure at 0x7f5c5968a940>"
      ]
     },
     "metadata": {},
     "output_type": "display_data"
    }
   ],
   "source": [
    "x = np.linspace(-5, 5, 200)\n",
    "plt.axhline(0, linestyle='dashed')\n",
    "plt.axvline(0, linestyle='dashed')\n",
    "plt.title(\"sigmoid activation\")\n",
    "plt.plot(x,Sigmoid().function(x), color=\"red\")\n",
    "plt.plot(x,Sigmoid().derivative(x), color=\"blue\")"
   ]
  },
  {
   "cell_type": "markdown",
   "metadata": {},
   "source": [
    "### ReLU"
   ]
  },
  {
   "cell_type": "code",
   "execution_count": 180,
   "metadata": {
    "collapsed": false,
    "scrolled": true
   },
   "outputs": [
    {
     "data": {
      "text/latex": [
       "\\begin{align}\n",
       "f(x)=\\begin{cases}\n",
       "  x, & \\text{if } x > 0, \\\\\n",
       "  0, & \\text{otherwise}.\n",
       "\\end{cases}\\quad\n",
       "f'(x)=\\begin{cases}\n",
       "  1, & \\text{if } x > 0, \\\\\n",
       "  0, & \\text{otherwise}.\n",
       "\\end{cases}\n",
       "\\end{align}"
      ],
      "text/plain": [
       "<IPython.core.display.Latex object>"
      ]
     },
     "execution_count": 180,
     "metadata": {},
     "output_type": "execute_result"
    }
   ],
   "source": [
    "Latex(r\"\"\"\\begin{align}\n",
    "f(x)=\\begin{cases}\n",
    "  x, & \\text{if } x > 0, \\\\\n",
    "  0, & \\text{otherwise}.\n",
    "\\end{cases}\\quad\n",
    "f'(x)=\\begin{cases}\n",
    "  1, & \\text{if } x > 0, \\\\\n",
    "  0, & \\text{otherwise}.\n",
    "\\end{cases}\n",
    "\\end{align}\"\"\")"
   ]
  },
  {
   "cell_type": "code",
   "execution_count": 181,
   "metadata": {
    "collapsed": true
   },
   "outputs": [],
   "source": [
    "class Relu(Activation):\n",
    "    \n",
    "    def function(self, x):\n",
    "        return x * (x > 0)\n",
    "\n",
    "    def derivative(self, x):\n",
    "        return np.array(self.function(x) != 0, dtype=\"int\")"
   ]
  },
  {
   "cell_type": "code",
   "execution_count": 623,
   "metadata": {
    "collapsed": false,
    "scrolled": true
   },
   "outputs": [
    {
     "data": {
      "text/plain": [
       "[<matplotlib.lines.Line2D at 0x7f5c5958c438>]"
      ]
     },
     "execution_count": 623,
     "metadata": {},
     "output_type": "execute_result"
    },
    {
     "data": {
      "image/png": "[encoded data removed]",
      "text/plain": [
       "<matplotlib.figure.Figure at 0x7f5c5962ed30>"
      ]
     },
     "metadata": {},
     "output_type": "display_data"
    }
   ],
   "source": [
    "x = np.linspace(-5, 5, 200)\n",
    "plt.axhline(0, linestyle='dashed')\n",
    "plt.axvline(0, linestyle='dashed')\n",
    "plt.title(\"relu activation\")\n",
    "plt.plot(x,Relu().function(x), color=\"red\")\n",
    "plt.plot(x,Relu().derivative(x), color=\"blue\")"
   ]
  },
  {
   "cell_type": "markdown",
   "metadata": {
    "collapsed": false
   },
   "source": [
    "### Hyperbolic Tangent"
   ]
  },
  {
   "cell_type": "code",
   "execution_count": 183,
   "metadata": {
    "collapsed": false
   },
   "outputs": [
    {
     "data": {
      "text/latex": [
       "\\begin{align}\n",
       "f(x)=\\frac{e^{2x}-1}{e^{2x}+1}\n",
       "\\quad\n",
       "f'(x)=\\frac{4}{{e^{2x}+2+e^{-2x}}}\n",
       "\\end{align}"
      ],
      "text/plain": [
       "<IPython.core.display.Latex object>"
      ]
     },
     "execution_count": 183,
     "metadata": {},
     "output_type": "execute_result"
    }
   ],
   "source": [
    "Latex(r\"\"\"\\begin{align}\n",
    "f(x)=\\frac{e^{2x}-1}{e^{2x}+1}\n",
    "\\quad\n",
    "f'(x)=\\frac{4}{{e^{2x}+2+e^{-2x}}}\n",
    "\\end{align}\"\"\")"
   ]
  },
  {
   "cell_type": "code",
   "execution_count": 184,
   "metadata": {
    "collapsed": true
   },
   "outputs": [],
   "source": [
    "class Tanh(Activation):\n",
    "    \n",
    "    def function(self, x):\n",
    "        return (np.exp(2*x) - 1)/(np.exp(2*x) + 1)\n",
    "\n",
    "    def derivative(self, x):\n",
    "        # hyperbolic secant to the power of 2\n",
    "        return (4/(np.exp(2*x) + 2 + np.exp(-2*x)))"
   ]
  },
  {
   "cell_type": "code",
   "execution_count": 624,
   "metadata": {
    "collapsed": false
   },
   "outputs": [
    {
     "data": {
      "text/plain": [
       "[<matplotlib.lines.Line2D at 0x7f5c595251d0>]"
      ]
     },
     "execution_count": 624,
     "metadata": {},
     "output_type": "execute_result"
    },
    {
     "data": {
      "image/png": "[encoded data removed]",
      "text/plain": [
       "<matplotlib.figure.Figure at 0x7f5c595afac8>"
      ]
     },
     "metadata": {},
     "output_type": "display_data"
    }
   ],
   "source": [
    "x = np.linspace(-5, 5, 200)\n",
    "plt.axhline(0, linestyle='dashed')\n",
    "plt.axvline(0, linestyle='dashed')\n",
    "plt.title(\"tanh activation\")\n",
    "plt.plot(x,Tanh().function(x), color=\"red\")\n",
    "plt.plot(x,Tanh().derivative(x), color=\"blue\")"
   ]
  },
  {
   "cell_type": "markdown",
   "metadata": {},
   "source": [
    "### Linear"
   ]
  },
  {
   "cell_type": "code",
   "execution_count": 143,
   "metadata": {
    "collapsed": true
   },
   "outputs": [],
   "source": [
    "class Linear(Activation):\n",
    "    \n",
    "    def function(self, x):\n",
    "        return x\n",
    "\n",
    "    def derivative(self, x):\n",
    "        return 1"
   ]
  },
  {
   "cell_type": "markdown",
   "metadata": {},
   "source": [
    "## Input Pipeline"
   ]
  },
  {
   "cell_type": "code",
   "execution_count": 641,
   "metadata": {
    "collapsed": false
   },
   "outputs": [],
   "source": [
    "class InputPipeLine:\n",
    "    \n",
    "    def __init__(self, data, batch_size):\n",
    "        self.data = data\n",
    "        self.size = len(self.data)\n",
    "        self.batch_size = batch_size\n",
    "        self.index = 0\n",
    "    \n",
    "    def next_batch(self):\n",
    "        batch, eoe = self.step()\n",
    "        return (np.array([element[0] for element in batch]),\n",
    "                np.array([element[1] for element in batch]),\n",
    "                eoe)\n",
    "    \n",
    "    def step(self):\n",
    "        # flag value signaling the end of an epoch\n",
    "        eoe = False\n",
    "        if self.index + self.batch_size > self.size:\n",
    "            self.index = 0\n",
    "            # samples are shuffled after each epoch\n",
    "            shuffle(self.data)\n",
    "            eoe = True\n",
    "        \n",
    "        batch = self.data[self.index:self.index+self.batch_size]\n",
    "        self.index += self.batch_size\n",
    "        \n",
    "        return batch, eoe"
   ]
  },
  {
   "cell_type": "markdown",
   "metadata": {},
   "source": [
    "## Layers"
   ]
  },
  {
   "cell_type": "code",
   "execution_count": 555,
   "metadata": {
    "collapsed": true
   },
   "outputs": [],
   "source": [
    "class Layer:\n",
    "    \n",
    "    def __init__(self, activation, size):\n",
    "        self.activation = activation\n",
    "        self.value = None\n",
    "        self.size = size\n",
    "        \n",
    "    def forward(self, x):\n",
    "        self.value = self.activation.function(x)\n",
    "        return self.value\n",
    "        \n",
    "    def backward(self):\n",
    "        return self.activation.derivative(self.value)\n",
    "    \n",
    "    def isDropout(self):\n",
    "        return False"
   ]
  },
  {
   "cell_type": "markdown",
   "metadata": {},
   "source": [
    "#### Dropout\n",
    "\n",
    "A reguralization layer that creates a mask over the neurons, and nullifies each output value with p probability. Dropout prevents overfitting as it combines an exponential amount of network architectures, rendering the ability of the individual neurons to develop co-dependency amongst each other during the training phase significantly lower. The network is forced to learn the data with a different subset of parameters, which means it has to learn a more generalized representation of the data to generate good results.\n",
    "\n",
    "Let i be the i-th layer in a feed-forward neural network, x denote the vector output of the (i-1)-th layer, W and b are the weights and biases between the (i-1)-th and i-th layer, and m be a mask that has the same dimensions as x. The multiplication in the (2) is an element-wise product, while the one in (3) is standard matrix multiplication dot product."
   ]
  },
  {
   "cell_type": "code",
   "execution_count": 312,
   "metadata": {
    "collapsed": false
   },
   "outputs": [
    {
     "data": {
      "text/latex": [
       "\\begin{align}\n",
       "m^{(i-1)} \\sim Bernoulli(p) \\\\\n",
       "\\tilde{x}^{(i-1)} = x^{(i-1)}\\cdot m^{(i-1)} \\\\\n",
       "s^{(i)}=W^{(i-1)}\\cdot \\tilde{x}^{(i-1)}+b^{(i-1)} \\\\\n",
       "y^{(i)}=f(s^{(i)})\n",
       "\\end{align}"
      ],
      "text/plain": [
       "<IPython.core.display.Latex object>"
      ]
     },
     "execution_count": 312,
     "metadata": {},
     "output_type": "execute_result"
    }
   ],
   "source": [
    "Latex(r\"\"\"\\begin{align}\n",
    "m^{(i-1)} \\sim Bernoulli(p) \\\\\n",
    "\\tilde{x}^{(i-1)} = x^{(i-1)}\\cdot m^{(i-1)} \\\\\n",
    "s^{(i)}=W^{(i-1)}\\cdot \\tilde{x}^{(i-1)}+b^{(i-1)} \\\\\n",
    "y^{(i)}=f(s^{(i)})\n",
    "\\end{align}\"\"\")"
   ]
  },
  {
   "cell_type": "markdown",
   "metadata": {},
   "source": [
    "By applying the dropout on a layer, we are using only n*p (n is the number of units in a layer) neurons, hence, the expected output is p times the output without dropout. During testing phase or inference, we want to use the full neural network, so we have to scale down the output values in that layer. An alternative way of handling this issue is scaling up the output of the neurons during training phase, by dividing with p, so we don't have to deal with scaling during testing phase."
   ]
  },
  {
   "cell_type": "code",
   "execution_count": 556,
   "metadata": {
    "collapsed": false
   },
   "outputs": [],
   "source": [
    "class Dropout(Layer):\n",
    "    \n",
    "    def __init__(self, layer, probability):\n",
    "        super().__init__(layer.activation, layer.size)\n",
    "        self.probability = probability\n",
    "        # bernoulli distribution as the probabilty of retaining the neuron\n",
    "        self.mask = np.random.binomial(1, self.probability, size=self.size)\n",
    "    \n",
    "    def forward(self, x):\n",
    "        # using the \"alternative\" method described above\n",
    "        return np.multiply(Layer.forward(self, x), self.mask)/self.probability\n",
    "        \n",
    "    def backward(self):\n",
    "        return np.multiply(Layer.backward(self), self.mask)\n",
    "    \n",
    "    def isDropout(self):\n",
    "        return True\n",
    "    \n",
    "    def recreate_mask(self, probability):\n",
    "        self.probability = probability\n",
    "        self.mask = np.random.binomial(1, self.probability, size=self.size)"
   ]
  },
  {
   "cell_type": "markdown",
   "metadata": {},
   "source": [
    "#### Batch normalization"
   ]
  },
  {
   "cell_type": "code",
   "execution_count": 235,
   "metadata": {
    "collapsed": false
   },
   "outputs": [],
   "source": [
    "class BatchNorm(Layer):\n",
    "    pass"
   ]
  },
  {
   "cell_type": "markdown",
   "metadata": {},
   "source": [
    "## Optimizers"
   ]
  },
  {
   "cell_type": "code",
   "execution_count": null,
   "metadata": {
    "collapsed": true
   },
   "outputs": [],
   "source": [
    "def sgd_momentum():\n",
    "    pass\n",
    "\n",
    "def rmsprop():\n",
    "    pass\n",
    "\n",
    "def adagrad():\n",
    "    pass\n",
    "\n",
    "def adadelta():\n",
    "    pass\n",
    "\n",
    "def adam():\n",
    "    pass"
   ]
  },
  {
   "cell_type": "markdown",
   "metadata": {},
   "source": [
    "## Perceptron"
   ]
  },
  {
   "cell_type": "code",
   "execution_count": 714,
   "metadata": {
    "collapsed": false
   },
   "outputs": [],
   "source": [
    "class Mlp:\n",
    "    \n",
    "    def __init__(self, layers):\n",
    "        self.layers = layers\n",
    "        \n",
    "        self.weight_matrices, self.biases = self.init_weights()\n",
    "        \n",
    "        # arrays to store the weight deltas for momentum\n",
    "        self.dws = [0]*len(self.weight_matrices)\n",
    "        self.dbs = [0]*len(self.weight_matrices)\n",
    "        \n",
    "        self.lrate = None\n",
    "        self.momentum = None\n",
    "        self.batch_size = None\n",
    "        \n",
    "    def init_weights(self):\n",
    "        weights = []\n",
    "        biases = []\n",
    "        for index in range(len(self.layers)-1):\n",
    "            weights.append(np.random.rand(self.layers[index].size, self.layers[index + 1].size))\n",
    "            biases.append(np.random.rand(1, self.layers[index + 1].size))\n",
    "\n",
    "        return weights, biases\n",
    "            \n",
    "    def train(self, input_pipe, lrate=0.01, momentum=0.9, epochs=1000):\n",
    "        self.lrate = lrate\n",
    "        self.momentum = momentum\n",
    "        \n",
    "        for epoch in range(epochs):\n",
    "            while True:\n",
    "                x, y, eoe = input_pipe.next_batch()\n",
    "                self.forward_prop(x)\n",
    "                error = self.back_prop(y)\n",
    "                if eoe:\n",
    "                    break\n",
    "                \n",
    "            if epoch % 20 == 0:\n",
    "                print(\">>> [Epoch: {0}\\t] [Train Error: {1}\\t]\".format(epoch, error))\n",
    "            \n",
    "    def predict(self, x):\n",
    "        self.layers[0].forward(x)\n",
    "        \n",
    "        for index in range(len(self.weight_matrices)):\n",
    "            layer = self.layers[index+1]\n",
    "            # removing dropout mask\n",
    "            if layer.isDropout():\n",
    "                p = layer.probability\n",
    "                layer.recreate_mask(1)\n",
    "            layer.forward(np.dot(self.layers[index].value, \n",
    "                            self.weight_matrices[index]) + self.biases[index])\n",
    "            # replacing the mask\n",
    "            if layer.isDropout():\n",
    "                layer.recreate_mask(p)\n",
    "        \n",
    "        return self.layers[-1].value\n",
    "                \n",
    "    def forward_prop(self, x):\n",
    "        self.batch_size = x.shape[0]\n",
    "        self.layers[0].forward(x)\n",
    "        \n",
    "        for index in range(len(self.weight_matrices)):\n",
    "            self.layers[index+1].forward(np.dot(self.layers[index].value, \n",
    "                            self.weight_matrices[index]) + self.biases[index])\n",
    "        \n",
    "    def back_prop(self, y):\n",
    "        deltas = []\n",
    "        \n",
    "        error = -(y - self.layers[-1].value)\n",
    "        deltas.append(np.multiply(self.layers[-1].backward(), 2*error))\n",
    "        \n",
    "        for index in range(len(self.weight_matrices)-1, 0,-1):\n",
    "            deltas.insert(0, np.multiply(np.dot(deltas[0],\n",
    "                                             self.weight_matrices[index].T), \n",
    "                                      self.layers[index].backward()))\n",
    "        \n",
    "        self.adjust_weights(deltas)\n",
    "        \n",
    "        for layer in self.layers:\n",
    "            if layer.isDropout():\n",
    "                layer.recreate_mask(layer.probability)\n",
    "        \n",
    "        return (error**2).sum()/layers[-1].size/self.batch_size\n",
    "        \n",
    "    def adjust_weights(self, deltas):\n",
    "        for index in range(len(deltas)):\n",
    "            delta = np.atleast_2d(deltas[index])\n",
    "            \n",
    "            dw = (-self.lrate*np.dot(self.layers[index].value.T, delta) + self.momentum*self.dws[index])/self.batch_size\n",
    "            self.dws[index] = dw\n",
    "            \n",
    "            db = np.sum(-self.lrate*delta + self.momentum*self.dbs[index], axis=0)/self.batch_size\n",
    "            self.dbs[index] = db\n",
    "            \n",
    "            self.weight_matrices[index] += dw\n",
    "            self.biases[index] += db\n",
    "            "
   ]
  },
  {
   "cell_type": "code",
   "execution_count": 719,
   "metadata": {
    "collapsed": false,
    "scrolled": true
   },
   "outputs": [
    {
     "name": "stdout",
     "output_type": "stream",
     "text": [
      ">>> [Epoch: 0\t] [Train Error: 0.3432938347559366\t]\n",
      ">>> [Epoch: 20\t] [Train Error: 0.342308188617816\t]\n",
      ">>> [Epoch: 40\t] [Train Error: 0.30259113853327624\t]\n",
      ">>> [Epoch: 60\t] [Train Error: 0.23968719671303193\t]\n",
      ">>> [Epoch: 80\t] [Train Error: 0.1759141828340009\t]\n",
      ">>> [Epoch: 100\t] [Train Error: 0.12391013242522456\t]\n",
      ">>> [Epoch: 120\t] [Train Error: 0.1018600069503786\t]\n",
      ">>> [Epoch: 140\t] [Train Error: 0.15016302013833327\t]\n",
      ">>> [Epoch: 160\t] [Train Error: 0.08759354162108503\t]\n",
      ">>> [Epoch: 180\t] [Train Error: 0.0952783793254908\t]\n",
      ">>> [Epoch: 200\t] [Train Error: 0.07266738958869548\t]\n",
      ">>> [Epoch: 220\t] [Train Error: 0.08221335725696818\t]\n",
      ">>> [Epoch: 240\t] [Train Error: 0.07656731466411038\t]\n",
      ">>> [Epoch: 260\t] [Train Error: 0.057603165567925364\t]\n",
      ">>> [Epoch: 280\t] [Train Error: 0.06366764895199974\t]\n",
      ">>> [Epoch: 300\t] [Train Error: 0.0513854719711331\t]\n",
      ">>> [Epoch: 320\t] [Train Error: 0.04789136301010891\t]\n",
      ">>> [Epoch: 340\t] [Train Error: 0.031516976515530586\t]\n",
      ">>> [Epoch: 360\t] [Train Error: 0.051396440582290384\t]\n",
      ">>> [Epoch: 380\t] [Train Error: 0.03421129851675061\t]\n",
      ">>> [Epoch: 400\t] [Train Error: 0.04428736300585944\t]\n",
      ">>> [Epoch: 420\t] [Train Error: 0.054324969224499746\t]\n",
      ">>> [Epoch: 440\t] [Train Error: 0.03894532711920896\t]\n",
      ">>> [Epoch: 460\t] [Train Error: 0.05806390579784197\t]\n",
      ">>> [Epoch: 480\t] [Train Error: 0.03860942216129103\t]\n",
      ">>> [Epoch: 500\t] [Train Error: 0.026494174522986955\t]\n",
      ">>> [Epoch: 520\t] [Train Error: 0.04640114666055869\t]\n",
      ">>> [Epoch: 540\t] [Train Error: 0.01850106449221537\t]\n",
      ">>> [Epoch: 560\t] [Train Error: 0.03933171888427572\t]\n",
      ">>> [Epoch: 580\t] [Train Error: 0.03883589559315812\t]\n",
      ">>> [Epoch: 600\t] [Train Error: 0.04415736288909458\t]\n",
      ">>> [Epoch: 620\t] [Train Error: 0.01728320713862675\t]\n",
      ">>> [Epoch: 640\t] [Train Error: 0.05804742213822441\t]\n",
      ">>> [Epoch: 660\t] [Train Error: 0.05260315071234267\t]\n",
      ">>> [Epoch: 680\t] [Train Error: 0.024950967161779934\t]\n",
      ">>> [Epoch: 700\t] [Train Error: 0.03233702665120078\t]\n",
      ">>> [Epoch: 720\t] [Train Error: 0.026102958792370262\t]\n",
      ">>> [Epoch: 740\t] [Train Error: 0.033533933958472026\t]\n",
      ">>> [Epoch: 760\t] [Train Error: 0.01075315809912748\t]\n",
      ">>> [Epoch: 780\t] [Train Error: 0.020217192120400067\t]\n",
      ">>> [Epoch: 800\t] [Train Error: 0.010327277752553543\t]\n",
      ">>> [Epoch: 820\t] [Train Error: 0.034424874290874374\t]\n",
      ">>> [Epoch: 840\t] [Train Error: 0.02909517062911505\t]\n",
      ">>> [Epoch: 860\t] [Train Error: 0.02532207656009078\t]\n",
      ">>> [Epoch: 880\t] [Train Error: 0.042408282837871264\t]\n",
      ">>> [Epoch: 900\t] [Train Error: 0.030017123615062535\t]\n",
      ">>> [Epoch: 920\t] [Train Error: 0.016465031677463545\t]\n",
      ">>> [Epoch: 940\t] [Train Error: 0.03792423541209682\t]\n",
      ">>> [Epoch: 960\t] [Train Error: 0.035935724269044345\t]\n",
      ">>> [Epoch: 980\t] [Train Error: 0.01656784279568469\t]\n"
     ]
    },
    {
     "data": {
      "text/plain": [
       "<matplotlib.collections.PathCollection at 0x7f5c579c12b0>"
      ]
     },
     "execution_count": 719,
     "metadata": {},
     "output_type": "execute_result"
    },
    {
     "data": {
      "image/png": "[encoded data removed]",
      "text/plain": [
       "<matplotlib.figure.Figure at 0x7f5c579e7f98>"
      ]
     },
     "metadata": {},
     "output_type": "display_data"
    },
    {
     "data": {
      "image/png": "[encoded data removed]",
      "text/plain": [
       "<matplotlib.figure.Figure at 0x7f5c57b2f128>"
      ]
     },
     "metadata": {},
     "output_type": "display_data"
    }
   ],
   "source": [
    "np.random.seed(1)\n",
    "\n",
    "layers = []\n",
    "layers.append(Layer(Linear(), size=2))\n",
    "layers.append(Dropout(Layer(Relu(), size=20), probability=0.5))\n",
    "layers.append(Layer(Sigmoid(), size=1))\n",
    "\n",
    "mlp_object = Mlp(layers)\n",
    "\n",
    "nb_samples=200\n",
    "samples = []\n",
    "for i in range(0,nb_samples,4):\n",
    "    noise = np.random.normal(0,1,8)\n",
    "    samples.append([[-2+noise[0],-2+noise[1]], [0]])\n",
    "    samples.append([[2+noise[2],-2+noise[3]],[1]])\n",
    "    samples.append([[-2+noise[4],2+noise[5]],[1]])\n",
    "    samples.append([[2+noise[6],2+noise[7]], [0]])\n",
    "\n",
    "fig1=plt.figure()\n",
    "plt.scatter([element[0][0] for element in samples],\n",
    "            [element[0][1] for element in samples],\n",
    "            c=[element[1] for element in samples])\n",
    "\n",
    "pipe = InputPipeLine(samples[:int(len(samples)*0.7)], batch_size=32)\n",
    "mlp_object.train(pipe)\n",
    "\n",
    "fig1=plt.figure()\n",
    "plt.scatter([element[0][0] for element in samples[int(len(samples)*0.7):]],\n",
    "            [element[0][1] for element in samples[int(len(samples)*0.7):]],\n",
    "            c=[element for element in mlp_object.predict([[element[0][0], element[0][1]] \n",
    "                                                          for element in samples[int(len(samples)*0.7):]])])\n",
    "               "
   ]
  }
 ],
 "metadata": {
  "kernelspec": {
   "display_name": "Python 3",
   "language": "python",
   "name": "python3"
  },
  "language_info": {
   "codemirror_mode": {
    "name": "ipython",
    "version": 3
   },
   "file_extension": ".py",
   "mimetype": "text/x-python",
   "name": "python",
   "nbconvert_exporter": "python",
   "pygments_lexer": "ipython3",
   "version": "3.6.0"
  }
 },
 "nbformat": 4,
 "nbformat_minor": 2
}
